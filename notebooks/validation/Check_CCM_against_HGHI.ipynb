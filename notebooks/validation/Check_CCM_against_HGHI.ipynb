{
 "cells": [
  {
   "cell_type": "markdown",
   "metadata": {},
   "source": [
    "# Check CCM against HGHI\n",
    "\n",
    "This notebook is for comparing the numbers of CCM and HGHI.\n",
    "\n",
    "**Note:** You must run the `processing/Merge_HGHI_and_CCM_data.ipynb` notebook to produce\n",
    "the merged datasets to compare."
   ]
  },
  {
   "cell_type": "code",
   "execution_count": null,
   "metadata": {},
   "outputs": [],
   "source": [
    "import pandas as pd\n",
    "import geopandas as gpd\n",
    "\n",
    "from covidcaremap.data import published_data_path, processed_data_path\n",
    "\n",
    "pd.set_option('display.max_columns', None)\n",
    "pd.set_option('display.max_rows', 100)"
   ]
  },
  {
   "cell_type": "code",
   "execution_count": null,
   "metadata": {},
   "outputs": [],
   "source": [
    "state_path = processed_data_path('hghi_ccm_data_by_state.geojson')\n",
    "state_gdf = gpd.read_file(state_path, encoding='utf-8')"
   ]
  },
  {
   "cell_type": "code",
   "execution_count": null,
   "metadata": {},
   "outputs": [],
   "source": [
    "state_gdf[state_gdf['State'] == 'PA'].to_dict(orient='record')"
   ]
  },
  {
   "cell_type": "code",
   "execution_count": null,
   "metadata": {},
   "outputs": [],
   "source": [
    "compare_cols =[\n",
    "    'State',\n",
    "    'Licensed All Beds',\n",
    "    'HGHI - Total Hospital Beds',\n",
    "    'Staffed All Beds',\n",
    "    'Staffed ICU Beds',\n",
    "    'HGHI - Total ICU Beds', \n",
    "    'All Bed Occupancy Rate',\n",
    "    'HGHI - Hospital Bed Occupancy Rate',\n",
    "    'ICU Bed Occupancy Rate',\n",
    "    'HGHI - ICU Bed Occupancy Rate'\n",
    "]\n"
   ]
  },
  {
   "cell_type": "code",
   "execution_count": null,
   "metadata": {},
   "outputs": [],
   "source": [
    "state_gdf[compare_cols].to_csv('hghi-ccm-compare.csv')"
   ]
  },
  {
   "cell_type": "code",
   "execution_count": null,
   "metadata": {},
   "outputs": [],
   "source": [
    "hrr_path = processed_data_path('hghi_ccm_data_by_hrr.geojson')\n",
    "hrr_gdf = gpd.read_file(hrr_path, encoding='utf-8')"
   ]
  },
  {
   "cell_type": "code",
   "execution_count": null,
   "metadata": {},
   "outputs": [],
   "source": [
    "hrr_gdf"
   ]
  },
  {
   "cell_type": "code",
   "execution_count": null,
   "metadata": {},
   "outputs": [],
   "source": [
    "compare_cols_HRR =[\n",
    "    'HRRCITY',\n",
    "    'Licensed All Beds',\n",
    "    'Staffed All Beds',\n",
    "    'HGHI - Total Hospital Beds',\n",
    "    'All Bed Occupancy Rate',\n",
    "    'HGHI - Available Hospital Beds',\n",
    "    'Staffed ICU Beds',\n",
    "    'ICU Bed Occupancy Rate',\n",
    "    'HGHI - Available ICU Beds',     \n",
    "    'Staffed ICU Beds',\n",
    "    'HGHI - Total ICU Beds',   \n",
    "    'Population',\n",
    "    'Population (20+)',\n",
    "    'Population (65+)',\n",
    "    'HGHI - Adult Population',\n",
    "    'HGHI - Population 65+',\n",
    "]"
   ]
  },
  {
   "cell_type": "code",
   "execution_count": null,
   "metadata": {},
   "outputs": [],
   "source": [
    "hrr_gdf[compare_cols_HRR].to_csv(processed_data_path('hghi-ccm-compare-hrr.csv'))"
   ]
  },
  {
   "cell_type": "code",
   "execution_count": null,
   "metadata": {},
   "outputs": [],
   "source": [
    "# TODO - Quantify variance between HGHI and CCM data. "
   ]
  }
 ],
 "metadata": {
  "kernelspec": {
   "display_name": "Python 3",
   "language": "python",
   "name": "python3"
  },
  "language_info": {
   "codemirror_mode": {
    "name": "ipython",
    "version": 3
   },
   "file_extension": ".py",
   "mimetype": "text/x-python",
   "name": "python",
   "nbconvert_exporter": "python",
   "pygments_lexer": "ipython3",
   "version": "3.8.2"
  }
 },
 "nbformat": 4,
 "nbformat_minor": 4
}
