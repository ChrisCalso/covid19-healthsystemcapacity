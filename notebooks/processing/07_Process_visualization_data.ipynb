{
 "cells": [
  {
   "cell_type": "markdown",
   "metadata": {},
   "source": [
    "# Process visualization data\n",
    "\n",
    "This notebook processes the CovidCareMap US Healthcare System Capacity data into the format used with the `viz/heathcare-system-capacity` visualization."
   ]
  },
  {
   "cell_type": "code",
   "execution_count": null,
   "metadata": {},
   "outputs": [],
   "source": [
    "import shutil\n",
    "import os\n",
    "\n",
    "from covidcaremap.data import published_data_dir, data_dir, processed_data_dir"
   ]
  },
  {
   "cell_type": "code",
   "execution_count": null,
   "metadata": {},
   "outputs": [],
   "source": [
    "viz_data_dir = os.path.join(data_dir(), '../viz/us-healthcare-system-capacity/data')\n",
    "\n",
    "viz_input_dir = os.path.join(viz_data_dir, 'input')\n",
    "viz_config_dir = os.path.join(viz_data_dir, 'config')\n",
    "\n",
    "!mkdir -p $viz_input_dir\n",
    "!mkdir -p $viz_config_dir\n",
    "\n",
    "data_paths = [\n",
    "    (os.path.join(published_data_dir(), x), os.path.join(viz_input_dir, x))\n",
    "    for x in [\n",
    "        'us_healthcare_capacity-county-CovidCareMap.geojson',\n",
    "        'us_healthcare_capacity-facility-CovidCareMap.geojson',\n",
    "        'us_healthcare_capacity-hrr-CovidCareMap.geojson',\n",
    "        'us_healthcare_capacity-state-CovidCareMap.geojson'\n",
    "    ]\n",
    "] + [\n",
    "    (os.path.join(processed_data_dir(), x), os.path.join(viz_config_dir, x))\n",
    "    for x in [\n",
    "        'ccm_county_min_max_values.json',\n",
    "        'ccm_state_min_max_values.json',\n",
    "        'ccm_hrr_min_max_values.json',\n",
    "        'ccm_facility_min_max_values.json'\n",
    "    ]\n",
    "]"
   ]
  },
  {
   "cell_type": "code",
   "execution_count": null,
   "metadata": {},
   "outputs": [],
   "source": [
    "for src, dst in data_paths:\n",
    "    print('Copying {} to {}'.format(src, dst))\n",
    "    shutil.copy(src, dst)"
   ]
  },
  {
   "cell_type": "code",
   "execution_count": null,
   "metadata": {},
   "outputs": [],
   "source": [
    "!cd $viz_data_dir && ./process.sh"
   ]
  },
  {
   "cell_type": "code",
   "execution_count": null,
   "metadata": {},
   "outputs": [],
   "source": []
  }
 ],
 "metadata": {
  "kernelspec": {
   "display_name": "Python 3",
   "language": "python",
   "name": "python3"
  },
  "language_info": {
   "codemirror_mode": {
    "name": "ipython",
    "version": 3
   },
   "file_extension": ".py",
   "mimetype": "text/x-python",
   "name": "python",
   "nbconvert_exporter": "python",
   "pygments_lexer": "ipython3",
   "version": "3.8.2"
  }
 },
 "nbformat": 4,
 "nbformat_minor": 4
}
