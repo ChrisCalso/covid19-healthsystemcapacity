{
 "cells": [
  {
   "cell_type": "markdown",
   "metadata": {},
   "source": [
    "# Generate CareModel Regional Data\n",
    "\n",
    "This rolls up CareModel data from the facility data based on three regions: county, state, and Hospital Referral Region (HRR).\n",
    "\n",
    "Most of the work is done in the `covidcaremap.geo` package, in the `sum_per_region` method. See that code for specifics.\n",
    "\n",
    "## Methods\n",
    "\n",
    "- Take the facility data, spatially join to regional data, and sum count properties for each region.\n",
    "- Based on population counts, create \"per 1000\" versions of each column for each of total population, adult population, and elderly population.\n",
    "- Save the three aggregated files as GeoJSON.\n",
    "\n",
    "### Notes on aggregation of occupancy rates\n",
    "\n",
    "Occupancy rates are a weighted average based on the the number of beds (or icu beds for ICU Occupancy) contributing to the total amount of beds for that aggregation."
   ]
  },
  {
   "cell_type": "code",
   "execution_count": null,
   "metadata": {},
   "outputs": [],
   "source": [
    "import geopandas as gpd\n",
    "\n",
    "from covidcaremap.constants import *\n",
    "from covidcaremap.data import (read_facility_gdf, \n",
    "                               read_us_hrr_gdf,\n",
    "                               read_us_states_gdf,\n",
    "                               read_us_counties_gdf,\n",
    "                               processed_data_path)\n",
    "from covidcaremap.geo import sum_per_region"
   ]
  },
  {
   "cell_type": "code",
   "execution_count": null,
   "metadata": {},
   "outputs": [],
   "source": [
    "facility_gdf = gpd.read_file(processed_data_path('CareModel_data-facility-CovidCareMap.geojson'),\n",
    "                         encoding='utf-8')"
   ]
  },
  {
   "cell_type": "code",
   "execution_count": null,
   "metadata": {},
   "outputs": [],
   "source": [
    "# By HRR\n",
    "hrr_fname = 'CareModel_data-hrr-CovidCareMap'\n",
    "hrr_geojson_path = processed_data_path('{}.geojson'.format(hrr_fname))\n",
    "hrr_csv_path = processed_data_path('{}.csv'.format(hrr_fname))\n",
    "\n",
    "hrr_gdf = read_us_hrr_gdf()\n",
    "hrr_gdf = hrr_gdf.drop(columns=['HRR_BDRY_I', 'HRRNUM'])\n",
    "\n",
    "hosp_hrr_gdf = sum_per_region(facility_gdf,\n",
    "                          hrr_gdf,\n",
    "                          groupby_columns=['HRRCITY'],\n",
    "                          region_id_column='HRRCITY',\n",
    "                          facility_count_columns=CCM_FACILITY_COUNT_COLUMNS + CAREMODEL_CAPACITY_COLUMNS())\n",
    "\n",
    "hosp_hrr_gdf.to_file(hrr_geojson_path, driver='GeoJSON')\n",
    "\n",
    "hosp_hrr_df = hosp_hrr_gdf.drop(columns=['geometry']).sort_values(by='HRRCITY')\n",
    "hosp_hrr_df.to_csv(hrr_csv_path, index=False)"
   ]
  },
  {
   "cell_type": "code",
   "execution_count": null,
   "metadata": {},
   "outputs": [],
   "source": [
    "# By State\n",
    "# TODO: Get Puerto Rico population numbers.\n",
    "\n",
    "state_fname = 'CareModel_data-state-CovidCareMap'\n",
    "state_geojson_path = processed_data_path('{}.geojson'.format(state_fname))\n",
    "state_csv_path = processed_data_path('{}.csv'.format(state_fname))\n",
    "\n",
    "state_gdf = read_us_states_gdf()\n",
    "filtered_state_gdf = state_gdf[['State', \n",
    "                                'geometry',\n",
    "                                'Population',\n",
    "                                'Population (20+)',\n",
    "                                'Population (65+)']]\n",
    "\n",
    "facility_without_state_gdf = facility_gdf.drop(columns=['State'])\n",
    "\n",
    "hosp_state_gdf = sum_per_region(facility_without_state_gdf,\n",
    "                          filtered_state_gdf,\n",
    "                          groupby_columns=['State'],\n",
    "                          region_id_column='State',\n",
    "                          facility_count_columns=CCM_FACILITY_COUNT_COLUMNS + CAREMODEL_CAPACITY_COLUMNS())\n",
    "\n",
    "state_gdf = state_gdf.rename(columns={'NAME': 'State Name'})\n",
    "hosp_state_gdf = gpd.GeoDataFrame(\n",
    "    state_gdf[['State', 'State Name']].merge(hosp_state_gdf, on='State'),\n",
    "    crs='EPSG:4326'\n",
    ")\n",
    "\n",
    "hosp_state_gdf.to_file(state_geojson_path, driver='GeoJSON')\n",
    "\n",
    "state_hrr_df = hosp_state_gdf.drop(columns=['geometry']).sort_values(by='State')\n",
    "state_hrr_df.to_csv(state_csv_path, index=False)"
   ]
  },
  {
   "cell_type": "code",
   "execution_count": null,
   "metadata": {},
   "outputs": [],
   "source": [
    "# By County\n",
    "county_fname = CareModel_data-county-CovidCareMap'\n",
    "county_geojson_path = processed_data_path('{}.geojson'.format(county_fname))\n",
    "county_csv_path = processed_data_path('{}.csv'.format(county_fname))\n",
    "\n",
    "county_gdf = read_us_counties_gdf()\n",
    "filtered_county_gdf = county_gdf[['GEO_ID', \n",
    "                                  'geometry',\n",
    "                                  'Population',\n",
    "                                  'Population (20+)',\n",
    "                                  'Population (65+)']]\n",
    "\n",
    "hosp_county_gdf = sum_per_region(facility_gdf,\n",
    "                          filtered_county_gdf,\n",
    "                          groupby_columns=['GEO_ID'],\n",
    "                          region_id_column='GEO_ID',\n",
    "                          facility_count_columns=CCM_FACILITY_COUNT_COLUMNS + CAREMODEL_CAPACITY_COLUMNS())\n",
    "\n",
    "merged_county_gdf = county_gdf[['GEO_ID', 'State', 'County Name']] \\\n",
    "    .merge(hosp_county_gdf, on='GEO_ID') \\\n",
    "    .drop(columns=['GEO_ID'])\n",
    "\n",
    "hosp_county_gdf = gpd.GeoDataFrame(merged_county_gdf, crs='EPSG:4326')\n",
    "\n",
    "hosp_county_gdf.to_file(county_geojson_path, driver='GeoJSON')\n",
    "\n",
    "hosp_county_df = hosp_county_gdf.drop(columns=['geometry']).sort_values(by=['State',\n",
    "                                                                            'County Name'])\n",
    "hosp_county_df.to_csv(county_csv_path, index=False)"
   ]
  },
  {
   "cell_type": "code",
   "execution_count": null,
   "metadata": {},
   "outputs": [],
   "source": []
  }
 ],
 "metadata": {
  "kernelspec": {
   "display_name": "Python 3",
   "language": "python",
   "name": "python3"
  },
  "language_info": {
   "codemirror_mode": {
    "name": "ipython",
    "version": 3
   },
   "file_extension": ".py",
   "mimetype": "text/x-python",
   "name": "python",
   "nbconvert_exporter": "python",
   "pygments_lexer": "ipython3",
   "version": "3.8.2"
  }
 },
 "nbformat": 4,
 "nbformat_minor": 4
}
