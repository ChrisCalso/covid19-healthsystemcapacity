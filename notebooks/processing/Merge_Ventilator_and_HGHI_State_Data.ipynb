{
 "cells": [
  {
   "cell_type": "markdown",
   "metadata": {},
   "source": [
    "# Merge Ventilator data and HGHI State-level data\n",
    "\n",
    "This notebook reads in the ventilator dataset and merges it with the state-level HGHI data.\n",
    "\n",
    "From https://www.cambridge.org/core/journals/disaster-medicine-and-public-health-preparedness/article/mechanical-ventilators-in-us-acute-care-hospitals/F1FDBACA53531F2A150D6AD8E96F144D\n",
    "\n",
    "\n",
    "\n"
   ]
  },
  {
   "cell_type": "code",
   "execution_count": null,
   "metadata": {},
   "outputs": [],
   "source": [
    "import pandas as pd\n",
    "import geopandas as gpd\n",
    "\n",
    "from covidcaremap.data import read_census_data_df, external_data_path, processed_data_path"
   ]
  },
  {
   "cell_type": "code",
   "execution_count": null,
   "metadata": {},
   "outputs": [],
   "source": [
    "vents_path = external_data_path('ventilators_by_state.csv')\n",
    "vents_df = pd.read_csv(vents_path, encoding='utf-8')\n",
    "\n",
    "# Rename columns to be explicit that this is older estimate data.\n",
    "vent_renames = {\n",
    "    'Estimated No. Full-Featured Mechanical Ventilators': (\n",
    "        'Estimated No. Full-Featured Mechanical Ventilators (2010 study estimate)'        \n",
    "    ),\n",
    "    'Estimated No. Full-Featured Mechanical Ventilators per 100,000 Population': (\n",
    "        'Estimated No. Full-Featured Mechanical Ventilators per 100,000 Population (2010 study estimate)'\n",
    "    ),\n",
    "    'Estimated No. Pediatrics-Capable Full-Feature Mechanical Ventilators': (\n",
    "        'Estimated No. Pediatrics-Capable Full-Feature Mechanical Ventilators (2010 study estimate)'\n",
    "    ),\n",
    "    'Estimated No. Full-Feature Mechanical Ventilators, Pediatrics Capable per 100,000 Population <14 y': (\n",
    "        'Estimated No. Full-Feature Mechanical Ventilators, Pediatrics Capable per 100,000 Population <14 y (2010 study estimate)'\n",
    "    )\n",
    "}\n",
    "\n",
    "for column in vent_renames:\n",
    "    assert column in vents_df\n",
    "\n",
    "vents_df = vents_df.rename(columns=vent_renames)"
   ]
  },
  {
   "cell_type": "code",
   "execution_count": null,
   "metadata": {},
   "outputs": [],
   "source": [
    "vents_df"
   ]
  },
  {
   "cell_type": "code",
   "execution_count": null,
   "metadata": {},
   "outputs": [],
   "source": [
    "hghi_state_gdf = gpd.read_file(processed_data_path('hghi_state_data.geojson'), \n",
    "                               encoding='utf-8')"
   ]
  },
  {
   "cell_type": "code",
   "execution_count": null,
   "metadata": {},
   "outputs": [],
   "source": [
    "merged_df = hghi_state_gdf.set_index('State').join(vents_df.set_index('State Abbrv')).reset_index()\n",
    "merged_df = merged_df.drop(columns=['Location'])\n"
   ]
  },
  {
   "cell_type": "code",
   "execution_count": null,
   "metadata": {},
   "outputs": [],
   "source": [
    "merged_gdf = gpd.GeoDataFrame(merged_df, crs=4326)"
   ]
  },
  {
   "cell_type": "markdown",
   "metadata": {},
   "source": [
    "## Add per-capita numbers"
   ]
  },
  {
   "cell_type": "code",
   "execution_count": null,
   "metadata": {},
   "outputs": [],
   "source": [
    "census_df = read_census_data_df()\n",
    "census2018_df = census_df[census_df['YEAR'] == 11]"
   ]
  },
  {
   "cell_type": "code",
   "execution_count": null,
   "metadata": {},
   "outputs": [],
   "source": [
    "state_pop_all = census2018_df[census2018_df['AGEGRP']==0].groupby(\n",
    "    ['STNAME'])['TOT_POP'].sum().reset_index().rename({'STNAME': 'State Name'}, axis=1)"
   ]
  },
  {
   "cell_type": "code",
   "execution_count": null,
   "metadata": {},
   "outputs": [],
   "source": [
    "with_pop_gdf = merged_gdf.merge(state_pop_all, on='State Name')"
   ]
  },
  {
   "cell_type": "code",
   "execution_count": null,
   "metadata": {},
   "outputs": [],
   "source": [
    "columns_to_calc_per_capita = [\n",
    "    'Total Hospital Beds',\n",
    "    'Total ICU Beds',\n",
    "    'Available Hospital Beds',\n",
    "    'Potentially Available Hospital Beds*',  \n",
    "    'Available ICU Beds', \n",
    "    'Potentially Available ICU Beds*',\n",
    "]\n",
    "\n",
    "for c in columns_to_calc_per_capita:\n",
    "    with_pop_gdf['{} per 100,000 people (2018 population estimate)'.format(c)] = \\\n",
    "        (with_pop_gdf[c] / (with_pop_gdf['TOT_POP'] / 100000)).round(3)\n",
    "    "
   ]
  },
  {
   "cell_type": "code",
   "execution_count": null,
   "metadata": {},
   "outputs": [],
   "source": [
    "with_pop_gdf.to_file(processed_data_path('hghi_state_data_with_vents.geojson'), \n",
    "                  encoding='utf-8', \n",
    "                  driver='GeoJSON')"
   ]
  },
  {
   "cell_type": "code",
   "execution_count": null,
   "metadata": {},
   "outputs": [],
   "source": []
  }
 ],
 "metadata": {
  "kernelspec": {
   "display_name": "Python 3",
   "language": "python",
   "name": "python3"
  },
  "language_info": {
   "codemirror_mode": {
    "name": "ipython",
    "version": 3
   },
   "file_extension": ".py",
   "mimetype": "text/x-python",
   "name": "python",
   "nbconvert_exporter": "python",
   "pygments_lexer": "ipython3",
   "version": "3.8.2"
  }
 },
 "nbformat": 4,
 "nbformat_minor": 4
}
