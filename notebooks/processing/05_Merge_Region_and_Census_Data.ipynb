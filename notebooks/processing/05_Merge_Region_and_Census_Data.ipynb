{
 "cells": [
  {
   "cell_type": "code",
   "execution_count": 1,
   "metadata": {},
   "outputs": [],
   "source": [
    "import geopandas as gpd\n",
    "import pandas as pd\n",
    "import numpy as np\n",
    "\n",
    "from covidcaremap.constants import state_name_to_abbreviation\n",
    "from covidcaremap.geo import sum_per_county, sum_per_state, sum_per_hrr\n",
    "from covidcaremap.data import (external_data_path,\n",
    "                               processed_data_path,\n",
    "                               read_census_data_df)"
   ]
  },
  {
   "cell_type": "markdown",
   "metadata": {},
   "source": [
    "# Merge Region and Census Data\n",
    "\n",
    "This notebook utilizes US Census data at the county and state level to merge population data into the county, state, and HRR region data.\n",
    "\n",
    "Most logic taken from [usa_beds_capacity_analysis_20200313_v2](https://github.com/daveluo/covid19-healthsystemcapacity/blob/9a45c424a23e7a15559527893ebeb28703f26422/nbs/usa_beds_capacity_analysis_20200313_v2.ipynb)"
   ]
  },
  {
   "cell_type": "code",
   "execution_count": 2,
   "metadata": {},
   "outputs": [],
   "source": [
    "census_df = read_census_data_df()"
   ]
  },
  {
   "cell_type": "markdown",
   "metadata": {},
   "source": [
    "#### Format FIPS code as to be joined with county geo data"
   ]
  },
  {
   "cell_type": "code",
   "execution_count": 3,
   "metadata": {},
   "outputs": [],
   "source": [
    "census_df['fips_code'] = census_df['STATE'].apply(lambda x: str(x).zfill(2)) + \\\n",
    "                            census_df['COUNTY'].apply(lambda x: str(x).zfill(3))"
   ]
  },
  {
   "cell_type": "markdown",
   "metadata": {},
   "source": [
    "#### Filter to 7/1/2018 population estimate"
   ]
  },
  {
   "cell_type": "code",
   "execution_count": 4,
   "metadata": {},
   "outputs": [],
   "source": [
    "census2018_df = census_df[census_df['YEAR'] == 11]"
   ]
  },
  {
   "cell_type": "markdown",
   "metadata": {},
   "source": [
    "#### Filter by age groups\n",
    "\n",
    "We will be looking at total population, adult population (20+ years old), \n",
    "and elderly population (65+ years old). These age groups match up with the\n",
    "CDC groupings here: https://www.cdc.gov/mmwr/volumes/69/wr/mm6912e2.htm?s_cid=mm6912e2_w\n",
    "\n",
    "From https://www2.census.gov/programs-surveys/popest/technical-documentation/file-layouts/2010-2018/cc-est2018-alldata.pdf, the key for AGEGRP is as follows:\n",
    "- 0 = Total\n",
    "- 1 = Age 0 to 4 years\n",
    "- 2 = Age 5 to 9 years\n",
    "- 3 = Age 10 to 14 years\n",
    "- 4 = Age 15 to 19 years\n",
    "- 5 = Age 20 to 24 years\n",
    "- 6 = Age 25 to 29 years\n",
    "- 7 = Age 30 to 34 years\n",
    "- 8 = Age 35 to 39 years\n",
    "- 9 = Age 40 to 44 years\n",
    "- 10 = Age 45 to 49 years\n",
    "- 11 = Age 50 to 54 years\n",
    "- 12 = Age 55 to 59 years\n",
    "- 13 = Age 60 to 64 years\n",
    "- 14 = Age 65 to 69 years\n",
    "- 15 = Age 70 to 74 years\n",
    "- 16 = Age 75 to 79 years\n",
    "- 17 = Age 80 to 84 years\n",
    "- 18 = Age 85 years or older"
   ]
  },
  {
   "cell_type": "code",
   "execution_count": 5,
   "metadata": {},
   "outputs": [],
   "source": [
    "county_pop_all = census2018_df[census2018_df['AGEGRP']==0].groupby(\n",
    "    ['fips_code'])['TOT_POP'].sum()\n",
    "county_pop_adult = census2018_df[census2018_df['AGEGRP']>=5].groupby(\n",
    "    ['fips_code'])['TOT_POP'].sum()\n",
    "county_pop_elderly = census2018_df[census2018_df['AGEGRP']>=14].groupby(\n",
    "    ['fips_code'])['TOT_POP'].sum()"
   ]
  },
  {
   "cell_type": "code",
   "execution_count": 6,
   "metadata": {},
   "outputs": [
    {
     "data": {
      "text/plain": [
       "(327167434, 245184769, 52431193)"
      ]
     },
     "execution_count": 6,
     "metadata": {},
     "output_type": "execute_result"
    }
   ],
   "source": [
    "county_pop_all.sum(), county_pop_adult.sum(), county_pop_elderly.sum()"
   ]
  },
  {
   "cell_type": "code",
   "execution_count": 7,
   "metadata": {},
   "outputs": [],
   "source": [
    "state_pop_all = census2018_df[census2018_df['AGEGRP']==0].groupby(\n",
    "    ['STNAME'])['TOT_POP'].sum()\n",
    "state_pop_adult = census2018_df[census2018_df['AGEGRP']>=5].groupby(\n",
    "    ['STNAME'])['TOT_POP'].sum()\n",
    "state_pop_elderly = census2018_df[census2018_df['AGEGRP']>=14].groupby(\n",
    "    ['STNAME'])['TOT_POP'].sum()"
   ]
  },
  {
   "cell_type": "code",
   "execution_count": 8,
   "metadata": {},
   "outputs": [
    {
     "data": {
      "text/plain": [
       "(327167434, 245184769, 52431193)"
      ]
     },
     "execution_count": 8,
     "metadata": {},
     "output_type": "execute_result"
    }
   ],
   "source": [
    "state_pop_all.sum(), state_pop_adult.sum(), state_pop_elderly.sum()"
   ]
  },
  {
   "cell_type": "code",
   "execution_count": 9,
   "metadata": {},
   "outputs": [],
   "source": [
    "county_pops = {\n",
    "    'Population': county_pop_all,\n",
    "    'Population (20+)': county_pop_adult,\n",
    "    'Population (65+)': county_pop_elderly\n",
    "}\n",
    "\n",
    "state_pops = {\n",
    "    'Population': state_pop_all,\n",
    "    'Population (20+)': state_pop_adult,\n",
    "    'Population (65+)': state_pop_elderly\n",
    "}"
   ]
  },
  {
   "cell_type": "code",
   "execution_count": 10,
   "metadata": {},
   "outputs": [],
   "source": [
    "def set_population_field(target_df, pop_df, column_name, join_on):\n",
    "    result = target_df.join(pop_df, how='left', on=join_on)\n",
    "    result = result.rename({'TOT_POP': column_name}, axis=1)\n",
    "    result = result.fillna(value={column_name: 0})\n",
    "    return result"
   ]
  },
  {
   "cell_type": "markdown",
   "metadata": {},
   "source": [
    "### Merge census data into states"
   ]
  },
  {
   "cell_type": "code",
   "execution_count": 11,
   "metadata": {},
   "outputs": [],
   "source": [
    "state_gdf = gpd.read_file(external_data_path('us_states.geojson'), encoding='utf-8')"
   ]
  },
  {
   "cell_type": "code",
   "execution_count": 12,
   "metadata": {},
   "outputs": [],
   "source": [
    "enriched_state_df = state_gdf.set_index('NAME')\n",
    "for column_name, pop_df in state_pops.items():\n",
    "    pop_df = pop_df.rename({'STNAME': 'State Name'}, axis=1)\n",
    "    enriched_state_df = set_population_field(enriched_state_df,\n",
    "                                              pop_df, \n",
    "                                              column_name, \n",
    "                                              join_on='NAME')\n",
    "enriched_state_df = enriched_state_df.reset_index()\n",
    "enriched_state_df = enriched_state_df.rename(columns={'STATE': 'STATE_FIPS',\n",
    "                                                      'NAME': 'State Name'})\n",
    "enriched_state_df['State'] = enriched_state_df['State Name'].apply(\n",
    "    lambda x: state_name_to_abbreviation[x])\n"
   ]
  },
  {
   "cell_type": "code",
   "execution_count": 13,
   "metadata": {},
   "outputs": [],
   "source": [
    "enriched_state_df.to_file(processed_data_path('us_states_with_pop.geojson'), driver='GeoJSON')"
   ]
  },
  {
   "cell_type": "markdown",
   "metadata": {},
   "source": [
    "### Merge census data into counties"
   ]
  },
  {
   "cell_type": "code",
   "execution_count": 14,
   "metadata": {},
   "outputs": [],
   "source": [
    "county_gdf = gpd.read_file(external_data_path('us_counties.geojson'), encoding='utf-8')\n"
   ]
  },
  {
   "cell_type": "code",
   "execution_count": 15,
   "metadata": {},
   "outputs": [],
   "source": [
    "county_gdf = county_gdf.rename(columns={'STATE': 'STATE_FIPS',\n",
    "                                        'NAME': 'County Name'})"
   ]
  },
  {
   "cell_type": "code",
   "execution_count": 16,
   "metadata": {},
   "outputs": [],
   "source": [
    "county_gdf = county_gdf.merge(enriched_state_df[['STATE_FIPS', 'State']], on='STATE_FIPS')"
   ]
  },
  {
   "cell_type": "code",
   "execution_count": 17,
   "metadata": {},
   "outputs": [],
   "source": [
    "#  FIPS code is last 5 digits of GEO_ID\n",
    "county_gdf['COUNTY_FIPS'] = county_gdf['GEO_ID'].apply(lambda x: x[-5:])\n",
    "county_gdf = county_gdf.drop(columns=['COUNTY'])"
   ]
  },
  {
   "cell_type": "code",
   "execution_count": 18,
   "metadata": {},
   "outputs": [],
   "source": [
    "enriched_county_df = county_gdf\n",
    "for column_name, pop_df in county_pops.items():\n",
    "    enriched_county_df = set_population_field(enriched_county_df,\n",
    "                                              pop_df, \n",
    "                                              column_name, \n",
    "                                              join_on='COUNTY_FIPS')"
   ]
  },
  {
   "cell_type": "code",
   "execution_count": 19,
   "metadata": {},
   "outputs": [],
   "source": [
    "enriched_county_df.to_file(processed_data_path('us_counties_with_pop.geojson'), driver='GeoJSON')"
   ]
  },
  {
   "cell_type": "markdown",
   "metadata": {},
   "source": [
    "## Generate population data for HRRs\n",
    "\n",
    "Spatially join HRRs with counties. For each intersecting county, take the ratio of the area of intersection with the HRR and the area of the county as the ratio of population for that county to be assigned to that HRR."
   ]
  },
  {
   "cell_type": "code",
   "execution_count": 20,
   "metadata": {},
   "outputs": [],
   "source": [
    "hrr_gdf = gpd.read_file(external_data_path('us_hrr.geojson'), encoding='utf-8')\n",
    "hrr_gdf = hrr_gdf.to_crs('EPSG:5070')\n",
    "hrr_gdf['hrr_geom'] = hrr_gdf['geometry']"
   ]
  },
  {
   "cell_type": "code",
   "execution_count": 21,
   "metadata": {},
   "outputs": [],
   "source": [
    "county_pop_gdf = enriched_county_df\n",
    "county_pop_gdf = county_pop_gdf.to_crs('EPSG:5070')\n",
    "county_pop_gdf['county_geom'] = county_pop_gdf['geometry']"
   ]
  },
  {
   "cell_type": "code",
   "execution_count": 22,
   "metadata": {},
   "outputs": [],
   "source": [
    "hrr_counties_joined_gpd = gpd.sjoin(county_pop_gdf, hrr_gdf, how='left', op='intersects')\n"
   ]
  },
  {
   "cell_type": "code",
   "execution_count": 23,
   "metadata": {},
   "outputs": [],
   "source": [
    "def calculate_ratio(row):\n",
    "    if row['hrr_geom'] is None:\n",
    "        return 0.0\n",
    "    i = row['hrr_geom'].buffer(0).intersection(row['geometry'].buffer(0))\n",
    "    return i.area / row['geometry'].area\n",
    "\n",
    "hrr_counties_joined_gpd['ratio'] = hrr_counties_joined_gpd.apply(calculate_ratio, axis=1)\n"
   ]
  },
  {
   "cell_type": "code",
   "execution_count": 24,
   "metadata": {},
   "outputs": [],
   "source": [
    "for column in county_pops.keys():    \n",
    "    hrr_counties_joined_gpd[column] = \\\n",
    "        (hrr_counties_joined_gpd[column] * hrr_counties_joined_gpd['ratio']).round()\n"
   ]
  },
  {
   "cell_type": "code",
   "execution_count": 25,
   "metadata": {},
   "outputs": [
    {
     "data": {
      "text/html": [
       "<div>\n",
       "<style scoped>\n",
       "    .dataframe tbody tr th:only-of-type {\n",
       "        vertical-align: middle;\n",
       "    }\n",
       "\n",
       "    .dataframe tbody tr th {\n",
       "        vertical-align: top;\n",
       "    }\n",
       "\n",
       "    .dataframe thead th {\n",
       "        text-align: right;\n",
       "    }\n",
       "</style>\n",
       "<table border=\"1\" class=\"dataframe\">\n",
       "  <thead>\n",
       "    <tr style=\"text-align: right;\">\n",
       "      <th></th>\n",
       "      <th>Population</th>\n",
       "      <th>Population (20+)</th>\n",
       "      <th>Population (65+)</th>\n",
       "    </tr>\n",
       "    <tr>\n",
       "      <th>HRR_BDRY_I</th>\n",
       "      <th></th>\n",
       "      <th></th>\n",
       "      <th></th>\n",
       "    </tr>\n",
       "  </thead>\n",
       "  <tbody>\n",
       "    <tr>\n",
       "      <th>1.0</th>\n",
       "      <td>2315317.0</td>\n",
       "      <td>1739960.0</td>\n",
       "      <td>394851.0</td>\n",
       "    </tr>\n",
       "    <tr>\n",
       "      <th>2.0</th>\n",
       "      <td>369295.0</td>\n",
       "      <td>280167.0</td>\n",
       "      <td>69067.0</td>\n",
       "    </tr>\n",
       "    <tr>\n",
       "      <th>3.0</th>\n",
       "      <td>664860.0</td>\n",
       "      <td>500270.0</td>\n",
       "      <td>106495.0</td>\n",
       "    </tr>\n",
       "    <tr>\n",
       "      <th>4.0</th>\n",
       "      <td>856229.0</td>\n",
       "      <td>640362.0</td>\n",
       "      <td>148917.0</td>\n",
       "    </tr>\n",
       "    <tr>\n",
       "      <th>5.0</th>\n",
       "      <td>459289.0</td>\n",
       "      <td>342900.0</td>\n",
       "      <td>73128.0</td>\n",
       "    </tr>\n",
       "    <tr>\n",
       "      <th>...</th>\n",
       "      <td>...</td>\n",
       "      <td>...</td>\n",
       "      <td>...</td>\n",
       "    </tr>\n",
       "    <tr>\n",
       "      <th>302.0</th>\n",
       "      <td>419904.0</td>\n",
       "      <td>318991.0</td>\n",
       "      <td>82710.0</td>\n",
       "    </tr>\n",
       "    <tr>\n",
       "      <th>303.0</th>\n",
       "      <td>2715441.0</td>\n",
       "      <td>2018636.0</td>\n",
       "      <td>425747.0</td>\n",
       "    </tr>\n",
       "    <tr>\n",
       "      <th>304.0</th>\n",
       "      <td>196589.0</td>\n",
       "      <td>150628.0</td>\n",
       "      <td>35596.0</td>\n",
       "    </tr>\n",
       "    <tr>\n",
       "      <th>305.0</th>\n",
       "      <td>160443.0</td>\n",
       "      <td>124978.0</td>\n",
       "      <td>34252.0</td>\n",
       "    </tr>\n",
       "    <tr>\n",
       "      <th>306.0</th>\n",
       "      <td>204223.0</td>\n",
       "      <td>151057.0</td>\n",
       "      <td>35966.0</td>\n",
       "    </tr>\n",
       "  </tbody>\n",
       "</table>\n",
       "<p>304 rows × 3 columns</p>\n",
       "</div>"
      ],
      "text/plain": [
       "            Population  Population (20+)  Population (65+)\n",
       "HRR_BDRY_I                                                \n",
       "1.0          2315317.0         1739960.0          394851.0\n",
       "2.0           369295.0          280167.0           69067.0\n",
       "3.0           664860.0          500270.0          106495.0\n",
       "4.0           856229.0          640362.0          148917.0\n",
       "5.0           459289.0          342900.0           73128.0\n",
       "...                ...               ...               ...\n",
       "302.0         419904.0          318991.0           82710.0\n",
       "303.0        2715441.0         2018636.0          425747.0\n",
       "304.0         196589.0          150628.0           35596.0\n",
       "305.0         160443.0          124978.0           34252.0\n",
       "306.0         204223.0          151057.0           35966.0\n",
       "\n",
       "[304 rows x 3 columns]"
      ]
     },
     "execution_count": 25,
     "metadata": {},
     "output_type": "execute_result"
    }
   ],
   "source": [
    "hrr_pops = hrr_counties_joined_gpd.groupby('HRR_BDRY_I')[list(county_pops.keys())].sum()\n",
    "hrr_pops"
   ]
  },
  {
   "cell_type": "code",
   "execution_count": 26,
   "metadata": {},
   "outputs": [],
   "source": [
    "enriched_hrr_gdf = hrr_gdf.join(hrr_pops, on='HRR_BDRY_I').fillna(value=0)\n",
    "enriched_hrr_gdf = enriched_hrr_gdf.drop('hrr_geom', axis=1).to_crs('EPSG:4326')"
   ]
  },
  {
   "cell_type": "code",
   "execution_count": 27,
   "metadata": {},
   "outputs": [
    {
     "data": {
      "text/html": [
       "<div>\n",
       "<style scoped>\n",
       "    .dataframe tbody tr th:only-of-type {\n",
       "        vertical-align: middle;\n",
       "    }\n",
       "\n",
       "    .dataframe tbody tr th {\n",
       "        vertical-align: top;\n",
       "    }\n",
       "\n",
       "    .dataframe thead th {\n",
       "        text-align: right;\n",
       "    }\n",
       "</style>\n",
       "<table border=\"1\" class=\"dataframe\">\n",
       "  <thead>\n",
       "    <tr style=\"text-align: right;\">\n",
       "      <th></th>\n",
       "      <th>HRR_BDRY_I</th>\n",
       "      <th>HRRNUM</th>\n",
       "      <th>HRRCITY</th>\n",
       "      <th>geometry</th>\n",
       "      <th>Population</th>\n",
       "      <th>Population (20+)</th>\n",
       "      <th>Population (65+)</th>\n",
       "    </tr>\n",
       "  </thead>\n",
       "  <tbody>\n",
       "    <tr>\n",
       "      <th>0</th>\n",
       "      <td>1</td>\n",
       "      <td>1</td>\n",
       "      <td>AL- BIRMINGHAM</td>\n",
       "      <td>MULTIPOLYGON (((-85.89658 32.70483, -85.90771 ...</td>\n",
       "      <td>2315317.0</td>\n",
       "      <td>1739960.0</td>\n",
       "      <td>394851.0</td>\n",
       "    </tr>\n",
       "    <tr>\n",
       "      <th>1</th>\n",
       "      <td>2</td>\n",
       "      <td>2</td>\n",
       "      <td>AL- DOTHAN</td>\n",
       "      <td>MULTIPOLYGON (((-86.19400 31.43991, -86.19478 ...</td>\n",
       "      <td>369295.0</td>\n",
       "      <td>280167.0</td>\n",
       "      <td>69067.0</td>\n",
       "    </tr>\n",
       "    <tr>\n",
       "      <th>2</th>\n",
       "      <td>3</td>\n",
       "      <td>5</td>\n",
       "      <td>AL- HUNTSVILLE</td>\n",
       "      <td>MULTIPOLYGON (((-86.69474 34.42309, -86.71003 ...</td>\n",
       "      <td>664860.0</td>\n",
       "      <td>500270.0</td>\n",
       "      <td>106495.0</td>\n",
       "    </tr>\n",
       "    <tr>\n",
       "      <th>3</th>\n",
       "      <td>4</td>\n",
       "      <td>6</td>\n",
       "      <td>AL- MOBILE</td>\n",
       "      <td>MULTIPOLYGON (((-87.55554 30.47282, -87.56131 ...</td>\n",
       "      <td>856229.0</td>\n",
       "      <td>640362.0</td>\n",
       "      <td>148917.0</td>\n",
       "    </tr>\n",
       "    <tr>\n",
       "      <th>4</th>\n",
       "      <td>5</td>\n",
       "      <td>7</td>\n",
       "      <td>AL- MONTGOMERY</td>\n",
       "      <td>POLYGON ((-86.49925 31.52517, -86.64228 31.523...</td>\n",
       "      <td>459289.0</td>\n",
       "      <td>342900.0</td>\n",
       "      <td>73128.0</td>\n",
       "    </tr>\n",
       "    <tr>\n",
       "      <th>...</th>\n",
       "      <td>...</td>\n",
       "      <td>...</td>\n",
       "      <td>...</td>\n",
       "      <td>...</td>\n",
       "      <td>...</td>\n",
       "      <td>...</td>\n",
       "      <td>...</td>\n",
       "    </tr>\n",
       "    <tr>\n",
       "      <th>301</th>\n",
       "      <td>302</td>\n",
       "      <td>450</td>\n",
       "      <td>WI- MARSHFIELD</td>\n",
       "      <td>POLYGON ((-91.00410 44.70601, -91.00881 44.708...</td>\n",
       "      <td>419904.0</td>\n",
       "      <td>318991.0</td>\n",
       "      <td>82710.0</td>\n",
       "    </tr>\n",
       "    <tr>\n",
       "      <th>302</th>\n",
       "      <td>303</td>\n",
       "      <td>451</td>\n",
       "      <td>WI- MILWAUKEE</td>\n",
       "      <td>POLYGON ((-87.80049 42.49190, -87.79799 42.471...</td>\n",
       "      <td>2715441.0</td>\n",
       "      <td>2018636.0</td>\n",
       "      <td>425747.0</td>\n",
       "    </tr>\n",
       "    <tr>\n",
       "      <th>303</th>\n",
       "      <td>304</td>\n",
       "      <td>452</td>\n",
       "      <td>WI- NEENAH</td>\n",
       "      <td>MULTIPOLYGON (((-88.88595 43.63361, -88.92585 ...</td>\n",
       "      <td>196589.0</td>\n",
       "      <td>150628.0</td>\n",
       "      <td>35596.0</td>\n",
       "    </tr>\n",
       "    <tr>\n",
       "      <th>304</th>\n",
       "      <td>305</td>\n",
       "      <td>456</td>\n",
       "      <td>WI- WAUSAU</td>\n",
       "      <td>POLYGON ((-89.30141 45.46939, -89.30115 45.454...</td>\n",
       "      <td>160443.0</td>\n",
       "      <td>124978.0</td>\n",
       "      <td>34252.0</td>\n",
       "    </tr>\n",
       "    <tr>\n",
       "      <th>305</th>\n",
       "      <td>306</td>\n",
       "      <td>457</td>\n",
       "      <td>WY- CASPER</td>\n",
       "      <td>POLYGON ((-107.59447 43.50144, -107.53427 43.5...</td>\n",
       "      <td>204223.0</td>\n",
       "      <td>151057.0</td>\n",
       "      <td>35966.0</td>\n",
       "    </tr>\n",
       "  </tbody>\n",
       "</table>\n",
       "<p>306 rows × 7 columns</p>\n",
       "</div>"
      ],
      "text/plain": [
       "     HRR_BDRY_I  HRRNUM         HRRCITY  \\\n",
       "0             1       1  AL- BIRMINGHAM   \n",
       "1             2       2      AL- DOTHAN   \n",
       "2             3       5  AL- HUNTSVILLE   \n",
       "3             4       6      AL- MOBILE   \n",
       "4             5       7  AL- MONTGOMERY   \n",
       "..          ...     ...             ...   \n",
       "301         302     450  WI- MARSHFIELD   \n",
       "302         303     451   WI- MILWAUKEE   \n",
       "303         304     452      WI- NEENAH   \n",
       "304         305     456      WI- WAUSAU   \n",
       "305         306     457      WY- CASPER   \n",
       "\n",
       "                                              geometry  Population  \\\n",
       "0    MULTIPOLYGON (((-85.89658 32.70483, -85.90771 ...   2315317.0   \n",
       "1    MULTIPOLYGON (((-86.19400 31.43991, -86.19478 ...    369295.0   \n",
       "2    MULTIPOLYGON (((-86.69474 34.42309, -86.71003 ...    664860.0   \n",
       "3    MULTIPOLYGON (((-87.55554 30.47282, -87.56131 ...    856229.0   \n",
       "4    POLYGON ((-86.49925 31.52517, -86.64228 31.523...    459289.0   \n",
       "..                                                 ...         ...   \n",
       "301  POLYGON ((-91.00410 44.70601, -91.00881 44.708...    419904.0   \n",
       "302  POLYGON ((-87.80049 42.49190, -87.79799 42.471...   2715441.0   \n",
       "303  MULTIPOLYGON (((-88.88595 43.63361, -88.92585 ...    196589.0   \n",
       "304  POLYGON ((-89.30141 45.46939, -89.30115 45.454...    160443.0   \n",
       "305  POLYGON ((-107.59447 43.50144, -107.53427 43.5...    204223.0   \n",
       "\n",
       "     Population (20+)  Population (65+)  \n",
       "0           1739960.0          394851.0  \n",
       "1            280167.0           69067.0  \n",
       "2            500270.0          106495.0  \n",
       "3            640362.0          148917.0  \n",
       "4            342900.0           73128.0  \n",
       "..                ...               ...  \n",
       "301          318991.0           82710.0  \n",
       "302         2018636.0          425747.0  \n",
       "303          150628.0           35596.0  \n",
       "304          124978.0           34252.0  \n",
       "305          151057.0           35966.0  \n",
       "\n",
       "[306 rows x 7 columns]"
      ]
     },
     "execution_count": 27,
     "metadata": {},
     "output_type": "execute_result"
    }
   ],
   "source": [
    "enriched_hrr_gdf"
   ]
  },
  {
   "cell_type": "code",
   "execution_count": 28,
   "metadata": {},
   "outputs": [],
   "source": [
    "enriched_hrr_gdf.to_file(processed_data_path('us_hrr_with_pop.geojson'), driver='GeoJSON')"
   ]
  },
  {
   "cell_type": "code",
   "execution_count": null,
   "metadata": {},
   "outputs": [],
   "source": []
  },
  {
   "cell_type": "code",
   "execution_count": null,
   "metadata": {},
   "outputs": [],
   "source": []
  }
 ],
 "metadata": {
  "kernelspec": {
   "display_name": "Python 3",
   "language": "python",
   "name": "python3"
  },
  "language_info": {
   "codemirror_mode": {
    "name": "ipython",
    "version": 3
   },
   "file_extension": ".py",
   "mimetype": "text/x-python",
   "name": "python",
   "nbconvert_exporter": "python",
   "pygments_lexer": "ipython3",
   "version": "3.8.2"
  }
 },
 "nbformat": 4,
 "nbformat_minor": 4
}
