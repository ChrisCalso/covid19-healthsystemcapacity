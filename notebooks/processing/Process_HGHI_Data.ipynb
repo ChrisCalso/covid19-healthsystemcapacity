{
 "cells": [
  {
   "cell_type": "markdown",
   "metadata": {},
   "source": [
    "# Process HGHI data\n",
    "\n",
    "This notebook reads in the HGHI datasets and converts them to GeoJSON format.\n",
    "\n",
    "Data from https://globalepidemics.org/2020/03/17/caring-for-covid-19-patients/.\n",
    "\n",
    "See description in `data/README.md` for details.\n"
   ]
  },
  {
   "cell_type": "code",
   "execution_count": null,
   "metadata": {},
   "outputs": [],
   "source": [
    "import pandas as pd\n",
    "import geopandas as gpd\n",
    "\n",
    "from covidcaremap.constants import state_name_to_abbreviation\n",
    "from covidcaremap.data import external_data_path, processed_data_path"
   ]
  },
  {
   "cell_type": "code",
   "execution_count": null,
   "metadata": {},
   "outputs": [],
   "source": [
    "hghi_state_df = pd.read_csv(external_data_path('HGHI - Hospital Capacity by State.csv'))\n",
    "hghi_hrr_60_df = pd.read_csv(external_data_path('HGHI - HRR Scorecard - 60% Population.csv'))\n",
    "hghi_hrr_40_df = pd.read_csv(external_data_path('HGHI - HRR Scorecard - 40% Population.csv'))\n",
    "hghi_hrr_20_df = pd.read_csv(external_data_path('HGHI - HRR Scorecard - 20% Population.csv'))\n",
    "\n",
    "# Make sure numeric values are numbers.\n",
    "int_columns =[ 'Total Hospital Beds',\n",
    "               'Total ICU Beds',\n",
    "               'Available Hospital Beds',\n",
    "               'Hospital Beds Needed, Six Months',\n",
    "               'Hospital Beds Needed, Twelve Months',\n",
    "               'Hospital Beds Needed, Eighteen Months',\n",
    "               'ICU Beds Needed, Six Months',\n",
    "               'ICU Beds Needed, Twelve Months',\n",
    "               'ICU Beds Needed, Eighteen Months',\n",
    "               'Potentially Available Hospital Beds*',\n",
    "               'Available ICU Beds',\n",
    "               'Potentially Available ICU Beds*',\n",
    "               'Adult Population',\n",
    "               'Population 65+',\n",
    "               'Projected Infected Individuals',\n",
    "               'Proejcted Hospitalized Individuals',\n",
    "               'Projected Hospitalized Individuals',\n",
    "               'Projected Individuals Needing ICU Care']\n",
    "\n",
    "float_columns = [ 'Hospital Bed Occupancy Rate',\n",
    "                  'ICU Bed Occupancy Rate']\n",
    "\n",
    "percent_columns = [ 'Percentage of Available Beds Needed, Six Months',\n",
    "                    'Percentage of Potentially Available Beds Needed, Six Months',\n",
    "                    'Percentage of Total Beds Needed, Six Months',\n",
    "                    'Percentage of Available Beds Needed, Twelve Months',\n",
    "                    'Percentage of Potentially Available Beds Needed, Twelve Months',\n",
    "                    'Percentage of Total Beds Needed, Twelve Months',\n",
    "                    'Percentage of Available Beds Needed, Eighteen Months',\n",
    "                    'Percentage of Potentially Available Beds Needed, Eighteen Months',\n",
    "                    'Percentage of Total Beds Needed, Eighteen Months',\n",
    "                    'Percentage of Available ICU Beds Needed, Six Months',\n",
    "                    'Percentage of Potentially Available ICU Beds Needed, Six Months',\n",
    "                    'Percentage of Total ICU Beds Needed, Six Months',\n",
    "                    'Percentage of Available ICU Beds Needed, Twelve Months',\n",
    "                    'Percentage of Potentially Available ICU Beds Needed, Twelve Months',\n",
    "                    'Percentage of Total ICU Beds Needed, Twelve Months',\n",
    "                    'Percentage of Available ICU Beds Needed, Eighteen Months',\n",
    "                    'Percentage of Potentially Available ICU Beds Needed, Eighteen Months',\n",
    "                    'Percentage of Total ICU Beds Needed, Eighteen Months']\n",
    "\n",
    "for df in  [hghi_state_df, hghi_hrr_60_df, hghi_hrr_40_df, hghi_hrr_20_df]:\n",
    "    for c in int_columns:\n",
    "        if c in df.columns:\n",
    "            if df[c].dtype == object:\n",
    "                df[c] = df[c].str.replace(',', '').astype('int')\n",
    "    for c in float_columns:\n",
    "        if c in df.columns:\n",
    "            df[c] = df[c].astype('float')\n",
    "    for c in percent_columns:\n",
    "        if c in df.columns:\n",
    "            df[c] = df[c].str.replace('%', '').astype('float') / 100.0"
   ]
  },
  {
   "cell_type": "code",
   "execution_count": null,
   "metadata": {},
   "outputs": [],
   "source": [
    "state_gdf = gpd.read_file(external_data_path('us_states.geojson'), encoding='utf-8')\n",
    "hrr_gdf = gpd.read_file(external_data_path('us_hrr.geojson'), encoding='utf-8')"
   ]
  },
  {
   "cell_type": "markdown",
   "metadata": {},
   "source": [
    "## Generate HRR GeoJSON"
   ]
  },
  {
   "cell_type": "markdown",
   "metadata": {},
   "source": [
    "### Merge HGHI scenarios\n",
    "\n",
    "Merge the 20, 40 and 60 scenario DFs in a dataframe that does not duplicate common properties."
   ]
  },
  {
   "cell_type": "code",
   "execution_count": null,
   "metadata": {},
   "outputs": [],
   "source": [
    "non_common_properties = ['Projected Infected Individuals',\n",
    "       'Projected Hospitalized Individuals',\n",
    "       'Projected Individuals Needing ICU Care',\n",
    "       'Hospital Beds Needed, Six Months',\n",
    "       'Percentage of Available Beds Needed, Six Months',\n",
    "       'Percentage of Potentially Available Beds Needed, Six Months',\n",
    "       'Percentage of Total Beds Needed, Six Months',\n",
    "       'Hospital Beds Needed, Twelve Months',\n",
    "       'Percentage of Available Beds Needed, Twelve Months',\n",
    "       'Percentage of Potentially Available Beds Needed, Twelve Months',\n",
    "       'Percentage of Total Beds Needed, Twelve Months',\n",
    "       'Hospital Beds Needed, Eighteen Months',\n",
    "       'Percentage of Available Beds Needed, Eighteen Months',\n",
    "       'Percentage of Potentially Available Beds Needed, Eighteen Months',\n",
    "       'Percentage of Total Beds Needed, Eighteen Months',\n",
    "       'ICU Beds Needed, Six Months',\n",
    "       'Percentage of Available ICU Beds Needed, Six Months',\n",
    "       'Percentage of Potentially Available ICU Beds Needed, Six Months',\n",
    "       'Percentage of Total ICU Beds Needed, Six Months',\n",
    "       'ICU Beds Needed, Twelve Months',\n",
    "       'Percentage of Available ICU Beds Needed, Twelve Months',\n",
    "       'Percentage of Potentially Available ICU Beds Needed, Twelve Months',\n",
    "       'Percentage of Total ICU Beds Needed, Twelve Months',\n",
    "       'ICU Beds Needed, Eighteen Months',\n",
    "       'Percentage of Available ICU Beds Needed, Eighteen Months',\n",
    "       'Percentage of Potentially Available ICU Beds Needed, Eighteen Months',\n",
    "       'Percentage of Total ICU Beds Needed, Eighteen Months']\n",
    "\n",
    "hghi_hrr_60_subset_df = hghi_hrr_60_df[['HRR'] + non_common_properties].add_suffix(' (60%)')\n",
    "hghi_hrr_40_subset_df = hghi_hrr_40_df[['HRR'] + non_common_properties].add_suffix(' (40%)')\n",
    "hghi_hrr_20_subset_df = hghi_hrr_20_df[['HRR'] + non_common_properties].add_suffix(' (20%)')\n",
    "\n",
    "common_properties = [\n",
    "    'HRR', 'Total Hospital Beds', 'Total ICU Beds',\n",
    "    'Available Hospital Beds', 'Potentially Available Hospital Beds*',\n",
    "    'Available ICU Beds', 'Potentially Available ICU Beds*',\n",
    "    'Adult Population', 'Population 65+' \n",
    "]\n",
    "\n",
    "hghi_hrr_common_subset_df = hghi_hrr_60_df[common_properties]"
   ]
  },
  {
   "cell_type": "code",
   "execution_count": null,
   "metadata": {},
   "outputs": [],
   "source": [
    "hghi_hrr_merged_df = hghi_hrr_common_subset_df.set_index('HRR').join(\n",
    "    [hghi_hrr_60_subset_df.set_index('HRR (60%)'),\n",
    "     hghi_hrr_40_subset_df.set_index('HRR (40%)'),\n",
    "     hghi_hrr_20_subset_df.set_index('HRR (20%)')]\n",
    ").reset_index()\n",
    "hghi_hrr_merged_df"
   ]
  },
  {
   "cell_type": "markdown",
   "metadata": {},
   "source": [
    "### Reformat HRR name in HGHI data\n",
    "\n",
    "HRRs are defined as `city, state` in the HGHI data, and `state- city` in the HRR geojson.\n",
    "\n",
    "Also, there are some differing names beyond formatting. Account for this with a explicit mapping.\n",
    "\n",
    "**NOTE:** HGHI data is missing 'FL- ST PETERSBURG' HRR that is contained in the HRR region dataset."
   ]
  },
  {
   "cell_type": "code",
   "execution_count": null,
   "metadata": {},
   "outputs": [],
   "source": [
    "print('HGHI data contains {} HRRs, region data contains {}'.format(\n",
    "    len(hghi_hrr_merged_df['HRR']), len(hrr_gdf['HRRCITY'])))"
   ]
  },
  {
   "cell_type": "code",
   "execution_count": null,
   "metadata": {},
   "outputs": [],
   "source": [
    "# HGHI missing 'FL- ST PETERSBURG'\n",
    "hghi_to_hrr_mapping = {\n",
    "    'AK- ANCHORAGE': 'AK-Anchorage',\n",
    "    'CA- ALAMEDA COUNTY': 'CA- ALAMEDA CO.',\n",
    "    'CA- CONTRA COSTA COUNTY': 'CA- CONTRA COSTA CO.',\n",
    "    'CA- ORANGE COUNTY': 'CA- ORANGE CO.',\n",
    "    'CA- PALM SPRINGS/RANCHO MIRA': 'CA- PALM SPR/RANCHO MIR.',\n",
    "    'CA- SAN MATEO COUNTY': 'CA- SAN MATEO CO.',\n",
    "    'FL- ST. PETERSBURG': 'FL- ST PETERSBURG',\n",
    "    'HI- HONOLULU': 'HI-Honolulu',\n",
    "    'MI- ST. JOSEPH': 'MI- ST JOSEPH',\n",
    "    'MN- ST. CLOUD': 'MN- ST CLOUD',\n",
    "    'MN- ST. PAUL': 'MN- ST PAUL',\n",
    "    'MO- ST. LOUIS': 'MO- ST LOUIS',\n",
    "    'ND- FARGO/MOORHEAD MN': 'ND- FARGO MOORHEAD -MN',\n",
    "    'NY- MANHATTAN': 'NY- NEW YORK'\n",
    "}"
   ]
  },
  {
   "cell_type": "code",
   "execution_count": null,
   "metadata": {},
   "outputs": [],
   "source": [
    "def reformat_hrr_name(hrr):\n",
    "    city, state = hrr.split(', ')\n",
    "    name = '{}- {}'.format(state, city.upper())\n",
    "    if name in hghi_to_hrr_mapping:\n",
    "        return hghi_to_hrr_mapping[name]\n",
    "    return name\n",
    "\n",
    "hghi_hrr_merged_df['HRRCITY'] = hghi_hrr_merged_df['HRR'].apply(reformat_hrr_name)"
   ]
  },
  {
   "cell_type": "code",
   "execution_count": null,
   "metadata": {},
   "outputs": [],
   "source": [
    "hghi_hrr_gdf = gpd.GeoDataFrame(\n",
    "    hghi_hrr_merged_df.set_index('HRRCITY').join(hrr_gdf.set_index('HRRCITY')).reset_index()\n",
    ", crs=4326)"
   ]
  },
  {
   "cell_type": "code",
   "execution_count": null,
   "metadata": {},
   "outputs": [],
   "source": [
    "hghi_hrr_gdf.to_file(processed_data_path('hghi_hrr_data.geojson'), \n",
    "                  encoding='utf-8', \n",
    "                  driver='GeoJSON')"
   ]
  },
  {
   "cell_type": "markdown",
   "metadata": {},
   "source": [
    "## Generate State GeoJSON\n",
    "\n",
    "Note: there is not a differentiation between scenarios. From `Projected Infected Individuals` / `Adult Population` it seems to be a 60% scenario."
   ]
  },
  {
   "cell_type": "code",
   "execution_count": null,
   "metadata": {},
   "outputs": [],
   "source": [
    "abbrv_to_name = dict([(v, k) for k, v in state_name_to_abbreviation.items()])\n",
    "hghi_state_df['State Name'] = hghi_state_df['State'].apply(lambda x: abbrv_to_name[x])"
   ]
  },
  {
   "cell_type": "code",
   "execution_count": null,
   "metadata": {},
   "outputs": [],
   "source": [
    "hghi_state_gdf = hghi_state_df.set_index('State Name').join(\n",
    "        state_gdf.drop(columns=['STATE']).set_index('NAME')\n",
    ").reset_index()\n",
    "\n",
    "hghi_state_gdf =gpd.GeoDataFrame(hghi_state_gdf, crs=4326)"
   ]
  },
  {
   "cell_type": "code",
   "execution_count": null,
   "metadata": {},
   "outputs": [],
   "source": [
    "hghi_state_gdf.to_file(processed_data_path('hghi_state_data.geojson'), \n",
    "                  encoding='utf-8', \n",
    "                  driver='GeoJSON')"
   ]
  },
  {
   "cell_type": "code",
   "execution_count": null,
   "metadata": {},
   "outputs": [],
   "source": []
  }
 ],
 "metadata": {
  "kernelspec": {
   "display_name": "Python 3",
   "language": "python",
   "name": "python3"
  },
  "language_info": {
   "codemirror_mode": {
    "name": "ipython",
    "version": 3
   },
   "file_extension": ".py",
   "mimetype": "text/x-python",
   "name": "python",
   "nbconvert_exporter": "python",
   "pygments_lexer": "ipython3",
   "version": "3.8.2"
  }
 },
 "nbformat": 4,
 "nbformat_minor": 4
}
