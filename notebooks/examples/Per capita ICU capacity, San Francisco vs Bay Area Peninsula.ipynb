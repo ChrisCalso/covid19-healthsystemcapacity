{
 "cells": [
  {
   "cell_type": "code",
   "execution_count": null,
   "metadata": {},
   "outputs": [],
   "source": [
    "import os\n",
    "\n",
    "import pandas as pd\n",
    "from geopandas import gpd\n",
    "\n",
    "from covidcaremap.data import published_data_path, processed_data_path\n",
    "from covidcaremap.geo import sum_per_region"
   ]
  },
  {
   "cell_type": "code",
   "execution_count": null,
   "metadata": {},
   "outputs": [],
   "source": [
    "ccm_facility_data_gpd = gpd.read_file(published_data_path(\n",
    "    'us_healthcare_capacity-facility-CovidCareMap.geojson'))"
   ]
  },
  {
   "cell_type": "code",
   "execution_count": null,
   "metadata": {},
   "outputs": [],
   "source": [
    "# Read in county-level data\n",
    "county_gdf = gpd.read_file(processed_data_path('us_counties_with_pop.geojson'))\n",
    "\n",
    "# Filter by counties of interest\n",
    "counties_of_interest = ['Alamedac County',\n",
    "                        'Marin County', \n",
    "                        'Sonoma County', \n",
    "                        'Napa County', \n",
    "                        'Solano County', \n",
    "                        'Contra Costa County',\n",
    "                        'Santa Cruz County']\n",
    "\n",
    "filtered_county_gdf = county_gdf\n",
    "filtered_county_gdf['Region Name'] = filtered_county_gdf['County Name'] + ' County'\n",
    "filtered_county_gdf = filtered_county_gdf[filtered_county_gdf['Region Name'].isin(counties_of_interest)]\n",
    "filtered_county_gdf = filtered_county_gdf[['Region Name', 'Population', 'geometry']]\n",
    "filtered_county_gdf"
   ]
  },
  {
   "cell_type": "code",
   "execution_count": null,
   "metadata": {},
   "outputs": [],
   "source": [
    "# Get san francisco GeoJSON        \n",
    "sf_neighborhoods_gdf = gpd.read_file('https://raw.githubusercontent.com/codeforamerica/click_that_hood/master/public/data/san-francisco.geojson')\n"
   ]
  },
  {
   "cell_type": "code",
   "execution_count": null,
   "metadata": {},
   "outputs": [],
   "source": [
    "sf_neighborhoods_gdf['region_id'] = 1\n",
    "sf_gdf = sf_neighborhoods_gdf.dissolve(by='region_id')[['geometry']]\n",
    "\n",
    "# Source: 2017 Census data\n",
    "sf_gdf['Region Name'] = 'San Francisco'\n",
    "sf_gdf['Population'] = 884363"
   ]
  },
  {
   "cell_type": "code",
   "execution_count": null,
   "metadata": {},
   "outputs": [],
   "source": [
    "sf_gdf"
   ]
  },
  {
   "cell_type": "code",
   "execution_count": null,
   "metadata": {},
   "outputs": [],
   "source": [
    "counties_and_sf_gdf = pd.concat([filtered_county_gdf,sf_gdf])"
   ]
  },
  {
   "cell_type": "code",
   "execution_count": null,
   "metadata": {},
   "outputs": [],
   "source": [
    "counties_and_sf_gdf"
   ]
  },
  {
   "cell_type": "code",
   "execution_count": null,
   "metadata": {},
   "outputs": [],
   "source": [
    "result_gdf = sum_per_region(ccm_facility_data_gpd,\n",
    "                   counties_and_sf_gdf,\n",
    "                   groupby_columns='Region Name',\n",
    "                   region_id_column='Region Name',\n",
    "                   population_columns={'People': 'Population'})\n",
    "result_df = result_gdf[['Region Name',\n",
    "                        'Staffed ICU Beds',\n",
    "                        'Staffed All Beds',\n",
    "                        'Licensed All Beds',\n",
    "                        'All Bed Occupancy Rate',\n",
    "                        'ICU Bed Occupancy Rate',\n",
    "                        'Staffed ICU Beds [Per 1000 People]',\n",
    "                        'Staffed All Beds [Per 1000 People]',\n",
    "                        'Licensed All Beds [Per 1000 People]']]\n",
    "result_df"
   ]
  },
  {
   "cell_type": "code",
   "execution_count": null,
   "metadata": {},
   "outputs": [],
   "source": [
    "result_df.to_csv('sf-vs-bay-area.csv')"
   ]
  },
  {
   "cell_type": "code",
   "execution_count": null,
   "metadata": {},
   "outputs": [],
   "source": []
  }
 ],
 "metadata": {
  "kernelspec": {
   "display_name": "Python 3",
   "language": "python",
   "name": "python3"
  },
  "language_info": {
   "codemirror_mode": {
    "name": "ipython",
    "version": 3
   },
   "file_extension": ".py",
   "mimetype": "text/x-python",
   "name": "python",
   "nbconvert_exporter": "python",
   "pygments_lexer": "ipython3",
   "version": "3.8.2"
  }
 },
 "nbformat": 4,
 "nbformat_minor": 4
}
