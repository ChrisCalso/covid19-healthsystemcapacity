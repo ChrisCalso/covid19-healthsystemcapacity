{
 "cells": [
  {
   "cell_type": "markdown",
   "metadata": {},
   "source": [
    "# Check CCM against HGHI\n",
    "\n",
    "This notebook is for comparing the numbers of CCM and HGHI."
   ]
  },
  {
   "cell_type": "code",
   "execution_count": null,
   "metadata": {},
   "outputs": [],
   "source": [
    "import pandas as pd\n",
    "import geopandas as gpd\n",
    "\n",
    "pd.set_option('display.max_columns', None)\n",
    "pd.set_option('display.max_rows', 100)"
   ]
  },
  {
   "cell_type": "code",
   "execution_count": null,
   "metadata": {},
   "outputs": [],
   "source": [
    "state_path = '../data/hghi_ccm_data_by_state.geojson'\n",
    "state_gdf = gpd.read_file(state_path, encoding='utf-8')"
   ]
  },
  {
   "cell_type": "code",
   "execution_count": null,
   "metadata": {},
   "outputs": [],
   "source": [
    "state_gdf[state_gdf['State'] == 'PA'].to_dict(orient='record')"
   ]
  },
  {
   "cell_type": "code",
   "execution_count": null,
   "metadata": {},
   "outputs": [],
   "source": [
    "compare_cols =[\n",
    "    'State',\n",
    "    'Total Licensed Beds',\n",
    "    'HGHI - Total Hospital Beds',\n",
    "    'Total Staffed Beds',\n",
    "    'Total Staffed ICU Beds',\n",
    "    'HGHI - Total ICU Beds', \n",
    "    'Bed Occupancy Rate',\n",
    "    'HGHI - Hospital Bed Occupancy Rate',\n",
    "    'ICU Bed Occupancy Rate',\n",
    "    'HGHI - ICU Bed Occupancy Rate'\n",
    "]\n"
   ]
  },
  {
   "cell_type": "code",
   "execution_count": null,
   "metadata": {},
   "outputs": [],
   "source": [
    "state_gdf[compare_cols].to_csv('hghi-ccm-compare.csv')"
   ]
  },
  {
   "cell_type": "code",
   "execution_count": null,
   "metadata": {},
   "outputs": [],
   "source": []
  },
  {
   "cell_type": "code",
   "execution_count": null,
   "metadata": {},
   "outputs": [],
   "source": [
    "hrr_path = '../data/hghi_ccm_data_by_hrr.geojson'\n",
    "hrr_gdf = gpd.read_file(hrr_path, encoding='utf-8')"
   ]
  },
  {
   "cell_type": "code",
   "execution_count": null,
   "metadata": {},
   "outputs": [],
   "source": [
    "hrr_gdf"
   ]
  },
  {
   "cell_type": "code",
   "execution_count": null,
   "metadata": {},
   "outputs": [],
   "source": [
    "compare_cols_HRR =[\n",
    "    'HRRCITY',\n",
    "    'Total Licensed Beds',\n",
    "    'Total Staffed Beds',\n",
    "    'HGHI - Total Hospital Beds',\n",
    "    'Bed Occupancy Rate',\n",
    "    'HGHI - Available Hospital Beds',\n",
    "    'Total Staffed ICU Beds',\n",
    "    'ICU Bed Occupancy Rate',\n",
    "    'HGHI - Available ICU Beds',\n",
    "    'Estimated Beds Available (Conventional)',\n",
    "    'Estimated Beds Available (Contingency)',\n",
    "    'Estimated Beds Available (Crisis)',\n",
    "    'HGHI - Potentially Available ICU Beds*',\n",
    "    'HGHI - Potentially Available Hospital Beds*',      \n",
    "    'Total Staffed ICU Beds',\n",
    "    'HGHI - Total ICU Beds',   \n",
    "    'Population',\n",
    "    'Population (20+)',\n",
    "    'Population (65+)',\n",
    "    'HGHI - Adult Population',\n",
    "    'HGHI - Population 65+',\n",
    "]"
   ]
  },
  {
   "cell_type": "code",
   "execution_count": null,
   "metadata": {},
   "outputs": [],
   "source": [
    "hrr_gdf[compare_cols_HRR].to_csv('hghi-ccm-compare-hrr.csv')"
   ]
  },
  {
   "cell_type": "code",
   "execution_count": null,
   "metadata": {},
   "outputs": [],
   "source": []
  }
 ],
 "metadata": {
  "kernelspec": {
   "display_name": "Python 3",
   "language": "python",
   "name": "python3"
  },
  "language_info": {
   "codemirror_mode": {
    "name": "ipython",
    "version": 3
   },
   "file_extension": ".py",
   "mimetype": "text/x-python",
   "name": "python",
   "nbconvert_exporter": "python",
   "pygments_lexer": "ipython3",
   "version": "3.8.2"
  }
 },
 "nbformat": 4,
 "nbformat_minor": 4
}
