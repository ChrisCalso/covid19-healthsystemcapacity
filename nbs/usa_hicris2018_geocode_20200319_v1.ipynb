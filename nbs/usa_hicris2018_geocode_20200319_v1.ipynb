{
 "cells": [
  {
   "cell_type": "code",
   "execution_count": 1,
   "metadata": {},
   "outputs": [],
   "source": [
    "%matplotlib inline"
   ]
  },
  {
   "cell_type": "code",
   "execution_count": 2,
   "metadata": {},
   "outputs": [],
   "source": [
    "import json\n",
    "import os\n",
    "from copy import copy\n",
    "from functools import partial\n",
    "from os.path import basename, join\n",
    "from subprocess import call\n",
    "from urllib.request import urlopen\n",
    "\n",
    "import pyproj\n",
    "import requests\n",
    "\n",
    "import geopandas as gpd\n",
    "import pandas as pd\n",
    "import us\n",
    "from shapely.geometry import LineString, Point, shape\n",
    "from shapely.ops import transform"
   ]
  },
  {
   "cell_type": "code",
   "execution_count": 3,
   "metadata": {},
   "outputs": [],
   "source": [
    "def gdf_from_geojson(geojson, crs='epsg:4326'):\n",
    "    \"\"\"Convert a GeoJSON dict to GeoDataFrame\"\"\"\n",
    "    def _f(f):\n",
    "        f['properties']['geometry'] = shape(f['geometry'])\n",
    "        return f['properties']\n",
    "    \n",
    "    return gpd.GeoDataFrame([_f(f) for f in geojson['features']], crs=crs)"
   ]
  },
  {
   "cell_type": "code",
   "execution_count": 4,
   "metadata": {},
   "outputs": [],
   "source": [
    "fips_to_abbr = {st.fips: st.abbr for st in us.states.STATES_AND_TERRITORIES if st.fips}"
   ]
  },
  {
   "cell_type": "markdown",
   "metadata": {},
   "source": [
    "states geodataframe"
   ]
  },
  {
   "cell_type": "code",
   "execution_count": 5,
   "metadata": {},
   "outputs": [],
   "source": [
    "states = gpd.read_file('https://gist.githubusercontent.com/simonkassel/d091fc86253b65c68bb644443c74f366/raw/001b6ad8232e2ecfdc5fbd46a5ef8f2a9642e94d/us_states.geojson')\n",
    "states.rename(columns={'NAME': 'ST_NAME', 'abbr': 'ST_ABBR', 'STATEFP':'STATE_FP'}, inplace=True)\n",
    "states['ST_NAME'] = states['ST_NAME'].apply(lambda x: x.upper())"
   ]
  },
  {
   "cell_type": "markdown",
   "metadata": {},
   "source": [
    "counties geodataframe"
   ]
  },
  {
   "cell_type": "code",
   "execution_count": 6,
   "metadata": {},
   "outputs": [],
   "source": [
    "with urlopen(\"https://eric.clst.org/assets/wiki/uploads/Stuff/gz_2010_us_050_00_20m.json\") as url:\n",
    "    data = json.loads(url.read().decode(\"ISO-8859-1\"))\n",
    "counties = gdf_from_geojson(data)\n",
    "counties.rename(columns={'STATE':'STATE_FP', 'COUNTY': 'COUNTY_FP', 'NAME': 'COUNTY_NAME'}, inplace=True)\n",
    "counties['COUNTY_NAME'] = counties['COUNTY_NAME'].apply(lambda x: x.upper())\n",
    "counties['ST_ABBR'] = counties['STATE_FP'].apply(lambda x: fips_to_abbr[x])"
   ]
  },
  {
   "cell_type": "markdown",
   "metadata": {},
   "source": [
    "hcris dataframe"
   ]
  },
  {
   "cell_type": "code",
   "execution_count": 7,
   "metadata": {},
   "outputs": [],
   "source": [
    "if not os.path.isdir('download_data'):\n",
    "    os.mkdir('download_data')\n",
    "\n",
    "url = 'http://downloads.cms.gov/files/hcris/hosp10-reports.zip'\n",
    "z = basename(url)\n",
    "c = 'download_data/HOSPITAL10_PROVIDER_ID_INFO.CSV'\n",
    "\n",
    "if not os.path.exists(c):\n",
    "    call('wget -O download_data/{} {}'.format(z, url), shell=True)\n",
    "    call('cd download_data && unzip -o {}'.format(z), shell=True)\n",
    "    \n",
    "hcris = pd.read_csv(c)\n",
    "\n",
    "hcris.rename(columns = {'City': 'CITY_NAME', 'State': 'ST_ABBR', 'County': 'COUNTY_NAME'}, inplace=True)"
   ]
  },
  {
   "cell_type": "code",
   "execution_count": 8,
   "metadata": {},
   "outputs": [],
   "source": [
    "# provider num should be 6 char so need to zfill\n",
    "hcris['PROVIDER_NUMBER'] = hcris['PROVIDER_NUMBER'].apply(lambda x: str(x).zfill(6))\n",
    "\n",
    "# Rename this column to match up with reports\n",
    "hcris = hcris.rename(columns={'PROVIDER_NUMBER': 'Provider Number'})"
   ]
  },
  {
   "cell_type": "markdown",
   "metadata": {},
   "source": [
    "geocoding"
   ]
  },
  {
   "cell_type": "code",
   "execution_count": 9,
   "metadata": {},
   "outputs": [],
   "source": [
    "# Input google and Mapbox api keys or retrieve from environment variable\n",
    "google_key = ''\n",
    "mapbox_key = ''\n",
    "\n",
    "google_key = os.getenv('GOOGLE_API_KEY', google_key)\n",
    "mapbox_key = os.getenv('MAPBOX_API_KEY', mapbox_key)"
   ]
  },
  {
   "cell_type": "code",
   "execution_count": 16,
   "metadata": {},
   "outputs": [],
   "source": [
    "def google_geocode_str(name, addr, city, state, county, zip_code, key):\n",
    "    base = 'https://maps.googleapis.com/maps/api/geocode/json?'\n",
    "    address_str = 'address={}, {}'.format(name, addr)\n",
    "    components_str = f'&components=country:US|locality:{city}|administrative_area:{state}|administrative_area:{county} county|postal_code:{zip_code}'\n",
    "    key_str = '&key={}'.format(key)\n",
    "    \n",
    "    return base + address_str + components_str + key_str"
   ]
  },
  {
   "cell_type": "code",
   "execution_count": 17,
   "metadata": {},
   "outputs": [],
   "source": [
    "def mapbox_geocode_str(name, addr, city, state, county, zip_code, key):\n",
    "    base = 'https://api.mapbox.com/geocoding/v5/mapbox.places/'\n",
    "    address_str = f'{name}, {addr}, {city}, {state}, {county} county,{zip_code}.json?'\n",
    "    components_str = 'country=US&limit=1'\n",
    "    key_str = '&access_token={}'.format(key)\n",
    "    \n",
    "    return base + address_str + components_str + key_str"
   ]
  },
  {
   "cell_type": "code",
   "execution_count": 18,
   "metadata": {},
   "outputs": [],
   "source": [
    "test = False\n",
    "if test:\n",
    "    hcris = hcris.head()"
   ]
  },
  {
   "cell_type": "code",
   "execution_count": null,
   "metadata": {},
   "outputs": [],
   "source": [
    "results = []\n",
    "for k, r in hcris.iterrows():\n",
    "    if not isinstance(r['COUNTY_NAME'], str):\n",
    "        admin_geom = states[states['ST_ABBR'] == r['ST_ABBR']]['geometry'].values[0]\n",
    "    \n",
    "    else:\n",
    "        county = counties[(counties['ST_ABBR'] == r['ST_ABBR']) & (counties['COUNTY_NAME'] == r['COUNTY_NAME'])]\n",
    "        if len(county) == 1:\n",
    "            admin_geom = county['geometry'].values[0]\n",
    "        \n",
    "        elif len(county) < 1:\n",
    "            rcn = r['COUNTY_NAME'].replace(' COUNTY', '')\n",
    "            county = counties[(counties['ST_ABBR'] == r['ST_ABBR']) & (counties['COUNTY_NAME'] == rcn)]\n",
    "            if len(county) < 1:\n",
    "                admin_geom = states[states['ST_ABBR'] == r['ST_ABBR']]['geometry'].values[0]\n",
    "        \n",
    "        elif len(county) > 1:\n",
    "            raise Exception('Multiple matching counties found')\n",
    "\n",
    "    args = [r['HOSP10_Name'], r['Street_Addr'], r['CITY_NAME'], r['ST_ABBR'], r['COUNTY_NAME'], r['Zip_Code']]\n",
    "    \n",
    "    def _p(search_str):\n",
    "        response = requests.get(search_str)\n",
    "        if response.status_code != 200:\n",
    "            print(response.json())\n",
    "            raise Exception('Status code exeption: {}'.format(response.status_code))\n",
    "        \n",
    "        \n",
    "        response = response.json()\n",
    "        if 'results' in response:\n",
    "            for result in response['results']:\n",
    "                y, x = result['geometry']['location'].values()\n",
    "                hosp_point = Point(x, y)\n",
    "                if hosp_point.within(admin_geom):\n",
    "                    return hosp_point\n",
    "            return None\n",
    "        else:\n",
    "            for feature in response['features']:\n",
    "                hosp_point = Point(feature['center'])\n",
    "                if hosp_point.within(admin_geom):\n",
    "                    return hosp_point\n",
    "            return None\n",
    "    \n",
    "    def _dist(p1, p2):\n",
    "        def _proj(p):\n",
    "            project = partial(\n",
    "                pyproj.transform,\n",
    "                pyproj.Proj('epsg:4326'), \n",
    "                pyproj.Proj('epsg:2163'))\n",
    "            return transform(project, p)\n",
    "        \n",
    "        return _proj(p1).distance(_proj(p2))\n",
    "\n",
    "    # Google\n",
    "    google_point = _p(google_geocode_str(*args + [google_key]).replace('#', ''))\n",
    "    # Mapbox\n",
    "    mapbox_point = _p(mapbox_geocode_str(*args + [mapbox_key]).replace('#', ''))\n",
    "    \n",
    "    # Combine\n",
    "    dist = None\n",
    "    geom = None\n",
    "    if google_point and mapbox_point:\n",
    "        dist = _dist(google_point, mapbox_point)\n",
    "        geom = LineString([google_point, mapbox_point]).centroid\n",
    "    elif google_point:\n",
    "        geom = google_point\n",
    "    elif mapbox_point:\n",
    "        geom = mapbox_point\n",
    "    \n",
    "    results.append({'combined': geom, 'mapbox': mapbox_point, 'google': google_point, 'distance': dist})\n",
    "    \n",
    "    if (k + 1) % 100 == 0:\n",
    "        print('Geocoded [{}] of {} hospitals.'.format(k + 1, len(hcris)))\n",
    "\n",
    "geoms = pd.DataFrame(results)"
   ]
  },
  {
   "cell_type": "code",
   "execution_count": null,
   "metadata": {},
   "outputs": [],
   "source": [
    "if not os.path.isdir('interim_data'):\n",
    "    os.mkdir('interim_data')\n",
    "    \n",
    "for c in geoms.columns:\n",
    "    if c != 'distance':\n",
    "        hcris['geometry'] = geoms[c]\n",
    "        gdf = gpd.GeoDataFrame(hcris, crs='epsg:4326')\n",
    "        fname = 'interim_data/hcris_geocoded_{}.geojson'.format(c)\n",
    "        if test:\n",
    "            fname = fname.replace('.geojson', '-TEST.geojson')\n",
    "        \n",
    "        gdf.to_file(fname, driver='GeoJSON')"
   ]
  }
 ],
 "metadata": {
  "kernelspec": {
   "display_name": "Python 3",
   "language": "python",
   "name": "python3"
  },
  "language_info": {
   "codemirror_mode": {
    "name": "ipython",
    "version": 3
   },
   "file_extension": ".py",
   "mimetype": "text/x-python",
   "name": "python",
   "nbconvert_exporter": "python",
   "pygments_lexer": "ipython3",
   "version": "3.8.2"
  }
 },
 "nbformat": 4,
 "nbformat_minor": 4
}
