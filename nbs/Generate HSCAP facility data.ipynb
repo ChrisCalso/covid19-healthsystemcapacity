{
 "cells": [
  {
   "cell_type": "code",
   "execution_count": null,
   "metadata": {},
   "outputs": [],
   "source": [
    "import json\n",
    "from copy import deepcopy\n",
    "\n",
    "from hscap.constants import *\n",
    "from hscap.data import read_hcris_gj"
   ]
  },
  {
   "cell_type": "markdown",
   "metadata": {},
   "source": [
    "# Note! This is a work in progress. Mainly I consider this mock data."
   ]
  },
  {
   "cell_type": "code",
   "execution_count": null,
   "metadata": {},
   "outputs": [],
   "source": [
    "geojson = read_hcris_gj()"
   ]
  },
  {
   "cell_type": "code",
   "execution_count": null,
   "metadata": {},
   "outputs": [],
   "source": [
    "geojson['features'][0]"
   ]
  },
  {
   "cell_type": "code",
   "execution_count": null,
   "metadata": {},
   "outputs": [],
   "source": [
    "new_gj = deepcopy(geojson)\n",
    "for feature in new_gj['features']:\n",
    "    new_props = {}\n",
    "    \n",
    "    licensed_icu_beds = feature['properties']['ICU Total Staffed Beds']\n",
    "    for scenario in scenarios:\n",
    "        beds_field = scenarios[scenario][BEDS]['field']\n",
    "        beds_ratio = scenarios[scenario][BEDS]['ratio']\n",
    "        beds_surge_percentages = scenarios[scenario][BEDS]['surge percentage']\n",
    "        \n",
    "        beds_raw = feature['properties'][beds_field]\n",
    "        icu_beds = beds_raw * beds_ratio\n",
    "        icu_beds_min = icu_beds * beds_surge_percentages[0]\n",
    "        icu_beds_max = icu_beds * beds_surge_percentages[1]        \n",
    "        \n",
    "        new_props[construct_beds_field_name(scenario, BOUND_LOWER)] = round(icu_beds_min)\n",
    "        new_props[construct_beds_field_name(scenario, BOUND_UPPER)] = round(icu_beds_max)\n",
    "        \n",
    "        # Ventilator need\n",
    "        new_props[construct_vents_field_name(scenario, BOUND_LOWER)] = round(max(0, icu_beds_min - licensed_icu_beds))\n",
    "        new_props[construct_vents_field_name(scenario, BOUND_UPPER)] = round(max(0, icu_beds_max - licensed_icu_beds))\n",
    "        \n",
    "        for staff_need in STAFF:\n",
    "            available_count_ratio = scenarios[scenario][staff_need]['available count ratio']\n",
    "            patients_per = scenarios[scenario][staff_need]['patients per']\n",
    "            available_percentage = scenarios[scenario][staff_need]['available percentage']\n",
    "            \n",
    "            if icu_beds <= 0:\n",
    "                min_need, max_need = 0, 0\n",
    "            else:\n",
    "                min_need, max_need = None, None\n",
    "            \n",
    "                for patient_need in [icu_beds_min, icu_beds_max]:\n",
    "                    for patients in patients_per:\n",
    "                        for surge_percentage in available_percentage:\n",
    "                            need_count = (patient_need * surge_percentage) / patients\n",
    "                            if min_need is None or need_count < min_need:\n",
    "                                min_need = need_count\n",
    "                            if max_need is None or max_need < need_count:\n",
    "                                max_need = need_count\n",
    "            new_props[construct_staff_field_name(\n",
    "                scenario, staff_need, BOUND_LOWER)] = round(max(1, min_need))\n",
    "            new_props[construct_staff_field_name(\n",
    "                scenario, staff_need, BOUND_UPPER)] = round(max(1, max_need))\n",
    "            \n",
    "    new_props['Name'] = feature['properties']['HOSP10_Name']\n",
    "    new_props['State'] = feature['properties']['State']\n",
    "    new_props['County'] = feature['properties']['County']\n",
    "    \n",
    "    feature['properties'] = new_props\n",
    "    \n",
    "print(json.dumps(new_gj['features'][0], indent=4))"
   ]
  },
  {
   "cell_type": "code",
   "execution_count": null,
   "metadata": {},
   "outputs": [],
   "source": [
    "open('../data/hscap_data_by_facility.geojson', 'w').write(json.dumps(new_gj, indent=2))"
   ]
  },
  {
   "cell_type": "code",
   "execution_count": null,
   "metadata": {},
   "outputs": [],
   "source": []
  },
  {
   "cell_type": "code",
   "execution_count": null,
   "metadata": {},
   "outputs": [],
   "source": []
  }
 ],
 "metadata": {
  "kernelspec": {
   "display_name": "Python 3",
   "language": "python",
   "name": "python3"
  },
  "language_info": {
   "codemirror_mode": {
    "name": "ipython",
    "version": 3
   },
   "file_extension": ".py",
   "mimetype": "text/x-python",
   "name": "python",
   "nbconvert_exporter": "python",
   "pygments_lexer": "ipython3",
   "version": "3.8.2"
  }
 },
 "nbformat": 4,
 "nbformat_minor": 4
}
