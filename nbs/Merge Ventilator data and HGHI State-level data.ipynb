{
 "cells": [
  {
   "cell_type": "markdown",
   "metadata": {},
   "source": [
    "# Merge Ventilator data and HGHI State-level data\n",
    "\n",
    "This notebook reads in the ventilator dataset and merges it with the state-level HGHI data.\n",
    "\n",
    "From https://www.cambridge.org/core/journals/disaster-medicine-and-public-health-preparedness/article/mechanical-ventilators-in-us-acute-care-hospitals/F1FDBACA53531F2A150D6AD8E96F144D\n",
    "\n",
    "\n",
    "\n"
   ]
  },
  {
   "cell_type": "code",
   "execution_count": 17,
   "metadata": {},
   "outputs": [],
   "source": [
    "import pandas as pd\n",
    "import geopandas as gpd\n",
    "\n",
    "from hscap.data import read_census_data_df"
   ]
  },
  {
   "cell_type": "code",
   "execution_count": null,
   "metadata": {},
   "outputs": [],
   "source": [
    "vents_path = '../data/ventilators_by_state.csv'\n",
    "vents_df = pd.read_csv(vents_path, encoding='utf-8')"
   ]
  },
  {
   "cell_type": "code",
   "execution_count": null,
   "metadata": {},
   "outputs": [],
   "source": [
    "hghi_state_gdf = gpd.read_file('../data/hghi_state_data.geojson', encoding='utf-8')"
   ]
  },
  {
   "cell_type": "code",
   "execution_count": null,
   "metadata": {},
   "outputs": [],
   "source": [
    "merged_df = hghi_state_gdf.set_index('State').join(vents_df.set_index('State Abbrv')).reset_index()\n",
    "merged_df = merged_df.drop(columns=['Location'])\n"
   ]
  },
  {
   "cell_type": "code",
   "execution_count": null,
   "metadata": {},
   "outputs": [],
   "source": [
    "merged_gdf = gpd.GeoDataFrame(merged_df, crs=4326)"
   ]
  },
  {
   "cell_type": "markdown",
   "metadata": {},
   "source": [
    "## Add per-capita numbers"
   ]
  },
  {
   "cell_type": "code",
   "execution_count": null,
   "metadata": {},
   "outputs": [],
   "source": [
    "census_df = read_census_data_df()\n",
    "census2018_df = census_df[census_df['YEAR'] == 11]"
   ]
  },
  {
   "cell_type": "code",
   "execution_count": 27,
   "metadata": {},
   "outputs": [],
   "source": [
    "state_pop_all = census2018_df[census2018_df['AGEGRP']==0].groupby(\n",
    "    ['STNAME'])['TOT_POP'].sum().reset_index().rename({'STNAME': 'State Name'}, axis=1)"
   ]
  },
  {
   "cell_type": "code",
   "execution_count": 29,
   "metadata": {},
   "outputs": [],
   "source": [
    "with_pop_gdf = merged_gdf.merge(state_pop_all, on='State Name')"
   ]
  },
  {
   "cell_type": "code",
   "execution_count": 31,
   "metadata": {},
   "outputs": [
    {
     "data": {
      "text/plain": [
       "Index(['State', 'State Name', 'Total Hospital Beds', 'Total ICU Beds',\n",
       "       'Hospital Bed Occupancy Rate', 'ICU Bed Occupancy Rate',\n",
       "       'Available Hospital Beds', 'Potentially Available Hospital Beds*',\n",
       "       'Available ICU Beds', 'Potentially Available ICU Beds*',\n",
       "       'Adult Population', 'Population 65+', 'Projected Infected Individuals',\n",
       "       'Proejcted Hospitalized Individuals',\n",
       "       'Projected Individuals Needing ICU Care',\n",
       "       'Hospital Beds Needed, Six Months',\n",
       "       'Percentage of Available Beds Needed, Six Months',\n",
       "       'Percentage of Potentially Available Beds Needed, Six Months',\n",
       "       'Percentage of Total Beds Needed, Six Months',\n",
       "       'Hospital Beds Needed, Twelve Months',\n",
       "       'Percentage of Available Beds Needed, Twelve Months',\n",
       "       'Percentage of Potentially Available Beds Needed, Twelve Months',\n",
       "       'Percentage of Total Beds Needed, Twelve Months',\n",
       "       'Hospital Beds Needed, Eighteen Months',\n",
       "       'Percentage of Available Beds Needed, Eighteen Months',\n",
       "       'Percentage of Potentially Available Beds Needed, Eighteen Months',\n",
       "       'Percentage of Total Beds Needed, Eighteen Months',\n",
       "       'ICU Beds Needed, Six Months',\n",
       "       'Percentage of Available ICU Beds Needed, Six Months',\n",
       "       'Percentage of Potentially Available ICU Beds Needed, Six Months',\n",
       "       'Percentage of Total ICU Beds Needed, Six Months',\n",
       "       'ICU Beds Needed, Twelve Months',\n",
       "       'Percentage of Available ICU Beds Needed, Twelve Months',\n",
       "       'Percentage of Potentially Available ICU Beds Needed, Twelve Months',\n",
       "       'Percentage of Total ICU Beds Needed, Twelve Months',\n",
       "       'ICU Beds Needed, Eighteen Months',\n",
       "       'Percentage of Available ICU Beds Needed, Eighteen Months',\n",
       "       'Percentage of Potentially Available ICU Beds Needed, Eighteen Months',\n",
       "       'Percentage of Total ICU Beds Needed, Eighteen Months', 'GEO_ID',\n",
       "       'LSAD', 'CENSUSAREA', 'geometry',\n",
       "       'Estimated No. Full-Featured Mechanical Ventilators',\n",
       "       'Estimated No. Full-Featured Mechanical Ventilators per 100,000 Population',\n",
       "       'Estimated No. Pediatrics-Capable Full-Feature Mechanical Ventilators',\n",
       "       'Estimated No. Full-Feature Mechanical Ventilators, Pediatrics Capable per 100,000 Population <14 y',\n",
       "       'TOT_POP'],\n",
       "      dtype='object')"
      ]
     },
     "execution_count": 31,
     "metadata": {},
     "output_type": "execute_result"
    }
   ],
   "source": [
    "with_pop_gdf.columns"
   ]
  },
  {
   "cell_type": "code",
   "execution_count": 34,
   "metadata": {},
   "outputs": [
    {
     "data": {
      "text/plain": [
       "State                                                                                                   object\n",
       "State Name                                                                                              object\n",
       "Total Hospital Beds                                                                                     object\n",
       "Total ICU Beds                                                                                          object\n",
       "Hospital Bed Occupancy Rate                                                                            float64\n",
       "ICU Bed Occupancy Rate                                                                                 float64\n",
       "Available Hospital Beds                                                                                 object\n",
       "Potentially Available Hospital Beds*                                                                    object\n",
       "Available ICU Beds                                                                                      object\n",
       "Potentially Available ICU Beds*                                                                         object\n",
       "Adult Population                                                                                        object\n",
       "Population 65+                                                                                          object\n",
       "Projected Infected Individuals                                                                          object\n",
       "Proejcted Hospitalized Individuals                                                                      object\n",
       "Projected Individuals Needing ICU Care                                                                  object\n",
       "Hospital Beds Needed, Six Months                                                                        object\n",
       "Percentage of Available Beds Needed, Six Months                                                         object\n",
       "Percentage of Potentially Available Beds Needed, Six Months                                             object\n",
       "Percentage of Total Beds Needed, Six Months                                                             object\n",
       "Hospital Beds Needed, Twelve Months                                                                     object\n",
       "Percentage of Available Beds Needed, Twelve Months                                                      object\n",
       "Percentage of Potentially Available Beds Needed, Twelve Months                                          object\n",
       "Percentage of Total Beds Needed, Twelve Months                                                          object\n",
       "Hospital Beds Needed, Eighteen Months                                                                   object\n",
       "Percentage of Available Beds Needed, Eighteen Months                                                    object\n",
       "Percentage of Potentially Available Beds Needed, Eighteen Months                                        object\n",
       "Percentage of Total Beds Needed, Eighteen Months                                                        object\n",
       "ICU Beds Needed, Six Months                                                                             object\n",
       "Percentage of Available ICU Beds Needed, Six Months                                                     object\n",
       "Percentage of Potentially Available ICU Beds Needed, Six Months                                         object\n",
       "Percentage of Total ICU Beds Needed, Six Months                                                         object\n",
       "ICU Beds Needed, Twelve Months                                                                          object\n",
       "Percentage of Available ICU Beds Needed, Twelve Months                                                  object\n",
       "Percentage of Potentially Available ICU Beds Needed, Twelve Months                                      object\n",
       "Percentage of Total ICU Beds Needed, Twelve Months                                                      object\n",
       "ICU Beds Needed, Eighteen Months                                                                        object\n",
       "Percentage of Available ICU Beds Needed, Eighteen Months                                                object\n",
       "Percentage of Potentially Available ICU Beds Needed, Eighteen Months                                    object\n",
       "Percentage of Total ICU Beds Needed, Eighteen Months                                                    object\n",
       "GEO_ID                                                                                                  object\n",
       "LSAD                                                                                                    object\n",
       "CENSUSAREA                                                                                             float64\n",
       "geometry                                                                                              geometry\n",
       "Estimated No. Full-Featured Mechanical Ventilators                                                     float64\n",
       "Estimated No. Full-Featured Mechanical Ventilators per 100,000 Population                              float64\n",
       "Estimated No. Pediatrics-Capable Full-Feature Mechanical Ventilators                                   float64\n",
       "Estimated No. Full-Feature Mechanical Ventilators, Pediatrics Capable per 100,000 Population <14 y     float64\n",
       "TOT_POP                                                                                                  int64\n",
       "dtype: object"
      ]
     },
     "execution_count": 34,
     "metadata": {},
     "output_type": "execute_result"
    }
   ],
   "source": [
    "with_pop_gdf.dtypes"
   ]
  },
  {
   "cell_type": "code",
   "execution_count": 37,
   "metadata": {},
   "outputs": [],
   "source": [
    "columns_to_calc_per_capita = [\n",
    "    'Total Hospital Beds',\n",
    "    'Total ICU Beds',\n",
    "    'Available Hospital Beds',\n",
    "    'Potentially Available Hospital Beds*',  \n",
    "    'Available ICU Beds', \n",
    "    'Potentially Available ICU Beds*',\n",
    "]\n",
    "\n",
    "for c in columns_to_calc_per_capita:\n",
    "    with_pop_gdf['{} per 100,000 people'.format(c)] = \\\n",
    "        with_pop_gdf[c].str.replace(',', '').astype('float32') / (with_pop_gdf['TOT_POP'] / 100000)\n",
    "    "
   ]
  },
  {
   "cell_type": "code",
   "execution_count": 39,
   "metadata": {},
   "outputs": [],
   "source": [
    "with_pop_gdf.to_file('../data/hghi_state_data_with_vents.geojson', \n",
    "                  encoding='utf-8', \n",
    "                  driver='GeoJSON')"
   ]
  },
  {
   "cell_type": "code",
   "execution_count": null,
   "metadata": {},
   "outputs": [],
   "source": []
  }
 ],
 "metadata": {
  "kernelspec": {
   "display_name": "Python 3",
   "language": "python",
   "name": "python3"
  },
  "language_info": {
   "codemirror_mode": {
    "name": "ipython",
    "version": 3
   },
   "file_extension": ".py",
   "mimetype": "text/x-python",
   "name": "python",
   "nbconvert_exporter": "python",
   "pygments_lexer": "ipython3",
   "version": "3.8.2"
  }
 },
 "nbformat": 4,
 "nbformat_minor": 4
}
