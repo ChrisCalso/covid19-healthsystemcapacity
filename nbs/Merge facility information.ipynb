{
 "cells": [
  {
   "cell_type": "markdown",
   "metadata": {},
   "source": [
    "# Merge facility information\n",
    "\n",
    "Merge facility data from HCRIS (Healthcare Cost Reporting Information System) andDH (Definitive Healthcare) datasets."
   ]
  },
  {
   "cell_type": "code",
   "execution_count": 43,
   "metadata": {},
   "outputs": [],
   "source": [
    "import pandas as pd\n",
    "import geopandas as gpd\n",
    "\n",
    "from hscap.geo import spatial_join_facilities"
   ]
  },
  {
   "cell_type": "code",
   "execution_count": 44,
   "metadata": {},
   "outputs": [],
   "source": [
    "hcris_gdf = gpd.read_file('../data/usa_hospital_beds_hcris2018_v2.geojson', encoding='utf-8')\n",
    "dh_gdf = gpd.read_file('../data/dh_facility_data.geojson', encoding='utf-8')"
   ]
  },
  {
   "cell_type": "markdown",
   "metadata": {},
   "source": [
    "#### Filter facilities with unusable data.\n"
   ]
  },
  {
   "cell_type": "code",
   "execution_count": 47,
   "metadata": {},
   "outputs": [],
   "source": [
    "dh_gdf = dh_gdf[~dh_gdf['geometry'].isna()]\n",
    "dh_gdf = dh_gdf[~dh_gdf['NUM_LICENS'].isnull()]\n",
    "hcris_gdf = hcris_gdf[hcris_gdf['Total Staffed Beds'] > 0.0]"
   ]
  },
  {
   "cell_type": "markdown",
   "metadata": {},
   "source": [
    "Perform the matching on facilities based on a spatial join and similarity score between address and name columns."
   ]
  },
  {
   "cell_type": "code",
   "execution_count": 48,
   "metadata": {},
   "outputs": [],
   "source": [
    "id_columns = {\n",
    "    'HCRIS': 'Provider Number',\n",
    "    'DH': 'OBJECTID'\n",
    "}\n",
    "\n",
    "similarity_columns = {\n",
    "    'HCRIS': ['HOSP10_Name', 'Street_Addr'],\n",
    "    'DH': ['HOSPITAL_N', 'HQ_ADDRESS']\n",
    "}"
   ]
  },
  {
   "cell_type": "code",
   "execution_count": 49,
   "metadata": {},
   "outputs": [],
   "source": [
    "hcris_filtered_gdf = hcris_gdf[['geometry', id_columns['HCRIS']] + similarity_columns['HCRIS']]\n",
    "dh_filtered_gdf = dh_gdf[['geometry', id_columns['DH']] + similarity_columns['DH']]"
   ]
  },
  {
   "cell_type": "code",
   "execution_count": 50,
   "metadata": {},
   "outputs": [],
   "source": [
    "joined_dh_hcris = spatial_join_facilities(left=dh_filtered_gdf,\n",
    "                        right=hcris_filtered_gdf,\n",
    "                        lid_property = id_columns['DH'],\n",
    "                        rid_property = id_columns['HCRIS'],\n",
    "                        lsimilarity_properties = similarity_columns['DH'],\n",
    "                        rsimilarity_properties = similarity_columns['HCRIS'],\n",
    "                        similarity_weights=[0.6, 0.4],                                                       \n",
    "                        distance=1000,\n",
    "                        merge_unmatched=False)"
   ]
  },
  {
   "cell_type": "markdown",
   "metadata": {},
   "source": [
    "#### Save off unmatched HCRIS data to be inspected "
   ]
  },
  {
   "cell_type": "code",
   "execution_count": 51,
   "metadata": {},
   "outputs": [],
   "source": [
    "matched_hcris = set(set(joined_dh_hcris[~joined_dh_hcris['Provider Number'].isnull()]['Provider Number']))\n",
    "total_hcris = set(hcris_gdf['Provider Number'])\n",
    "unmatched_hcris = hcris_gdf[hcris_gdf['Provider Number'].isin(total_hcris - matched_hcris)]"
   ]
  },
  {
   "cell_type": "code",
   "execution_count": 52,
   "metadata": {},
   "outputs": [],
   "source": [
    "unmatched_hcris.to_csv('../data/hcris-unmatched-to-dh.csv')"
   ]
  },
  {
   "cell_type": "markdown",
   "metadata": {},
   "source": [
    "#### Save merged facility data"
   ]
  },
  {
   "cell_type": "code",
   "execution_count": 53,
   "metadata": {},
   "outputs": [],
   "source": [
    "full_df = joined_dh_hcris.merge(dh_gdf, on='OBJECTID').merge(hcris_gdf, how='left', on='Provider Number')\n",
    "full_df = full_df.drop(columns=['geometry_y'])\n",
    "full_df = full_df.rename({'geometry_x': 'geometry'}, axis=1)\n",
    "full_df = gpd.GeoDataFrame(full_df, crs=4326)"
   ]
  },
  {
   "cell_type": "code",
   "execution_count": 54,
   "metadata": {},
   "outputs": [],
   "source": [
    "full_df.to_file('../data/dh_hcris_merged_facility_data.geojson', \n",
    "                encoding='utf-8', \n",
    "                driver='GeoJSON')"
   ]
  },
  {
   "cell_type": "code",
   "execution_count": null,
   "metadata": {},
   "outputs": [],
   "source": []
  }
 ],
 "metadata": {
  "kernelspec": {
   "display_name": "Python 3",
   "language": "python",
   "name": "python3"
  },
  "language_info": {
   "codemirror_mode": {
    "name": "ipython",
    "version": 3
   },
   "file_extension": ".py",
   "mimetype": "text/x-python",
   "name": "python",
   "nbconvert_exporter": "python",
   "pygments_lexer": "ipython3",
   "version": "3.8.2"
  }
 },
 "nbformat": 4,
 "nbformat_minor": 4
}
