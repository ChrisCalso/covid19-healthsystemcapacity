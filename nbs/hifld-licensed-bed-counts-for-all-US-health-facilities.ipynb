{
 "cells": [
  {
   "cell_type": "markdown",
   "metadata": {},
   "source": [
    "# Merge HIFLD licensed bed count data to HCRIS staffed ICU bed count data"
   ]
  },
  {
   "cell_type": "markdown",
   "metadata": {},
   "source": [
    "## Overview\n",
    "\n",
    "This notebook complete the following tasks:\n",
    "\n",
    "- download HIFLD licensed bed count data\n",
    "- spatially join the above data (with 150 meters buffer) with HCRIS data (which has facility level staffed ICU bed count)\n",
    "- deduplicate the joined result by checking address similarity and facility name similarity\n",
    "- populate the non-matching records' licensed bed count by the estimated state average ratio of staffed ICU bed count to licensed bed count\n",
    "- remove redundant fields and prefix fields from HIFLD data with `hifld_`\n",
    "- export the merged and cleaned result to a `.geojson` file containing all 6661 facilities originally from HCRIS data"
   ]
  },
  {
   "cell_type": "markdown",
   "metadata": {},
   "source": [
    "## Download HIFLD data"
   ]
  },
  {
   "cell_type": "markdown",
   "metadata": {},
   "source": [
    "#### The downloaded data are in `../data/hifld-hospitals.csv`"
   ]
  },
  {
   "cell_type": "code",
   "execution_count": 1,
   "metadata": {},
   "outputs": [],
   "source": [
    "hifld_file_path = '../data/hifld-hospitals.csv'"
   ]
  },
  {
   "cell_type": "code",
   "execution_count": 2,
   "metadata": {},
   "outputs": [
    {
     "name": "stdout",
     "output_type": "stream",
     "text": [
      "--2020-03-18 20:48:32--  https://opendata.arcgis.com/datasets/6ac5e325468c4cb9b905f1728d6fbf0f_0.csv\n",
      "Resolving opendata.arcgis.com (opendata.arcgis.com)... 52.200.102.229, 3.220.181.176\n",
      "Connecting to opendata.arcgis.com (opendata.arcgis.com)|52.200.102.229|:443... connected.\n",
      "HTTP request sent, awaiting response... 200 OK\n",
      "Length: unspecified [text/csv]\n",
      "Saving to: '../data/hifld-hospitals.csv'\n",
      "\n",
      "../data/hifld-hospi     [   <=>              ]   3.60M  7.39MB/s    in 0.5s    \n",
      "\n",
      "2020-03-18 20:48:35 (7.39 MB/s) - '../data/hifld-hospitals.csv' saved [3771444]\n",
      "\n"
     ]
    }
   ],
   "source": [
    "!wget https://opendata.arcgis.com/datasets/6ac5e325468c4cb9b905f1728d6fbf0f_0.csv -O {hifld_file_path}"
   ]
  },
  {
   "cell_type": "markdown",
   "metadata": {},
   "source": [
    "## Observe HIFLD data and create a GeoDataFrame"
   ]
  },
  {
   "cell_type": "code",
   "execution_count": 3,
   "metadata": {},
   "outputs": [],
   "source": [
    "import pandas as pd\n",
    "import numpy as np\n",
    "import geopandas as gpd"
   ]
  },
  {
   "cell_type": "code",
   "execution_count": 4,
   "metadata": {},
   "outputs": [],
   "source": [
    "pd.set_option('display.max_columns', None)\n",
    "pd.set_option('display.max_rows', 100)"
   ]
  },
  {
   "cell_type": "code",
   "execution_count": 5,
   "metadata": {},
   "outputs": [],
   "source": [
    "hifld_df = pd.read_csv(hifld_file_path, encoding='utf-8')"
   ]
  },
  {
   "cell_type": "code",
   "execution_count": 6,
   "metadata": {},
   "outputs": [
    {
     "data": {
      "text/html": [
       "<div>\n",
       "<style scoped>\n",
       "    .dataframe tbody tr th:only-of-type {\n",
       "        vertical-align: middle;\n",
       "    }\n",
       "\n",
       "    .dataframe tbody tr th {\n",
       "        vertical-align: top;\n",
       "    }\n",
       "\n",
       "    .dataframe thead th {\n",
       "        text-align: right;\n",
       "    }\n",
       "</style>\n",
       "<table border=\"1\" class=\"dataframe\">\n",
       "  <thead>\n",
       "    <tr style=\"text-align: right;\">\n",
       "      <th></th>\n",
       "      <th>X</th>\n",
       "      <th>Y</th>\n",
       "      <th>OBJECTID</th>\n",
       "      <th>ID</th>\n",
       "      <th>NAME</th>\n",
       "      <th>ADDRESS</th>\n",
       "      <th>CITY</th>\n",
       "      <th>STATE</th>\n",
       "      <th>ZIP</th>\n",
       "      <th>ZIP4</th>\n",
       "      <th>TELEPHONE</th>\n",
       "      <th>TYPE</th>\n",
       "      <th>STATUS</th>\n",
       "      <th>POPULATION</th>\n",
       "      <th>COUNTY</th>\n",
       "      <th>COUNTYFIPS</th>\n",
       "      <th>COUNTRY</th>\n",
       "      <th>LATITUDE</th>\n",
       "      <th>LONGITUDE</th>\n",
       "      <th>NAICS_CODE</th>\n",
       "      <th>NAICS_DESC</th>\n",
       "      <th>SOURCE</th>\n",
       "      <th>SOURCEDATE</th>\n",
       "      <th>VAL_METHOD</th>\n",
       "      <th>VAL_DATE</th>\n",
       "      <th>WEBSITE</th>\n",
       "      <th>STATE_ID</th>\n",
       "      <th>ALT_NAME</th>\n",
       "      <th>ST_FIPS</th>\n",
       "      <th>OWNER</th>\n",
       "      <th>TTL_STAFF</th>\n",
       "      <th>BEDS</th>\n",
       "      <th>TRAUMA</th>\n",
       "      <th>HELIPAD</th>\n",
       "    </tr>\n",
       "  </thead>\n",
       "  <tbody>\n",
       "    <tr>\n",
       "      <th>0</th>\n",
       "      <td>-80.069978</td>\n",
       "      <td>32.975799</td>\n",
       "      <td>7001</td>\n",
       "      <td>3829406</td>\n",
       "      <td>HEALTHSOUTH REHABILITATION HOSPITAL OF CHARLESTON</td>\n",
       "      <td>9181 MEDCOM ST</td>\n",
       "      <td>NORTH CHARLESTON</td>\n",
       "      <td>SC</td>\n",
       "      <td>29406</td>\n",
       "      <td>NOT AVAILABLE</td>\n",
       "      <td>(843) 820-7762</td>\n",
       "      <td>REHABILITATION</td>\n",
       "      <td>OPEN</td>\n",
       "      <td>46</td>\n",
       "      <td>CHARLESTON</td>\n",
       "      <td>45019</td>\n",
       "      <td>USA</td>\n",
       "      <td>32.975799</td>\n",
       "      <td>-80.069978</td>\n",
       "      <td>622310</td>\n",
       "      <td>REHABILITATION HOSPITALS (EXCEPT ALCOHOLISM, D...</td>\n",
       "      <td>http://www.scdhec.gov/Health/FHPF/HealthFacili...</td>\n",
       "      <td>2018-08-10T00:00:00.000Z</td>\n",
       "      <td>IMAGERY/OTHER</td>\n",
       "      <td>2013-10-03T00:00:00.000Z</td>\n",
       "      <td>http://www.healthsouthcharleston.com</td>\n",
       "      <td>38784738</td>\n",
       "      <td>NOT AVAILABLE</td>\n",
       "      <td>45</td>\n",
       "      <td>PROPRIETARY</td>\n",
       "      <td>-999</td>\n",
       "      <td>46</td>\n",
       "      <td>NOT AVAILABLE</td>\n",
       "      <td>N</td>\n",
       "    </tr>\n",
       "    <tr>\n",
       "      <th>1</th>\n",
       "      <td>-81.942460</td>\n",
       "      <td>34.989657</td>\n",
       "      <td>7002</td>\n",
       "      <td>11029303</td>\n",
       "      <td>SPARTANBURG REHABILITATION INSTITUTE</td>\n",
       "      <td>160 HAROLD FLEMING CT</td>\n",
       "      <td>SPARTANBURG</td>\n",
       "      <td>SC</td>\n",
       "      <td>29303</td>\n",
       "      <td>4226</td>\n",
       "      <td>(864) 594-9600</td>\n",
       "      <td>REHABILITATION</td>\n",
       "      <td>OPEN</td>\n",
       "      <td>40</td>\n",
       "      <td>SPARTANBURG</td>\n",
       "      <td>45083</td>\n",
       "      <td>USA</td>\n",
       "      <td>34.989657</td>\n",
       "      <td>-81.942460</td>\n",
       "      <td>622310</td>\n",
       "      <td>REHABILITATION HOSPITALS (EXCEPT ALCOHOLISM, D...</td>\n",
       "      <td>http://www.scdhec.gov/Health/FHPF/HealthFacili...</td>\n",
       "      <td>2018-08-10T00:00:00.000Z</td>\n",
       "      <td>IMAGERY</td>\n",
       "      <td>2016-10-27T00:00:00.000Z</td>\n",
       "      <td>http://sri.ernesthealth.com/</td>\n",
       "      <td>NOT AVAILABLE</td>\n",
       "      <td>NOT AVAILABLE</td>\n",
       "      <td>45</td>\n",
       "      <td>PROPRIETARY</td>\n",
       "      <td>-999</td>\n",
       "      <td>40</td>\n",
       "      <td>NOT AVAILABLE</td>\n",
       "      <td>N</td>\n",
       "    </tr>\n",
       "    <tr>\n",
       "      <th>2</th>\n",
       "      <td>-79.753122</td>\n",
       "      <td>34.161420</td>\n",
       "      <td>7003</td>\n",
       "      <td>2929505</td>\n",
       "      <td>WOMEN'S CENTER OF CAROLINAS HOSPITAL SYSTEM</td>\n",
       "      <td>1590 FREEDOM BLVD</td>\n",
       "      <td>FLORENCE</td>\n",
       "      <td>SC</td>\n",
       "      <td>29505</td>\n",
       "      <td>NOT AVAILABLE</td>\n",
       "      <td>(843) 674-2500</td>\n",
       "      <td>WOMEN</td>\n",
       "      <td>OPEN</td>\n",
       "      <td>20</td>\n",
       "      <td>FLORENCE</td>\n",
       "      <td>45041</td>\n",
       "      <td>USA</td>\n",
       "      <td>34.161420</td>\n",
       "      <td>-79.753122</td>\n",
       "      <td>622310</td>\n",
       "      <td>MATERNITY HOSPITALS</td>\n",
       "      <td>http://www.scdhec.gov/Health/FHPF/HealthFacili...</td>\n",
       "      <td>2018-08-10T00:00:00.000Z</td>\n",
       "      <td>IMAGERY/OTHER</td>\n",
       "      <td>2014-03-12T00:00:00.000Z</td>\n",
       "      <td>http://www.carolinashospital.com</td>\n",
       "      <td>38784564</td>\n",
       "      <td>NOT AVAILABLE</td>\n",
       "      <td>45</td>\n",
       "      <td>PROPRIETARY</td>\n",
       "      <td>-999</td>\n",
       "      <td>20</td>\n",
       "      <td>NOT AVAILABLE</td>\n",
       "      <td>Y</td>\n",
       "    </tr>\n",
       "    <tr>\n",
       "      <th>3</th>\n",
       "      <td>-120.009613</td>\n",
       "      <td>47.844970</td>\n",
       "      <td>7004</td>\n",
       "      <td>1298816</td>\n",
       "      <td>LAKE CHELAN COMMUNITY HOSPITAL</td>\n",
       "      <td>503 HIGHLAND AVE E</td>\n",
       "      <td>CHELAN</td>\n",
       "      <td>WA</td>\n",
       "      <td>98816</td>\n",
       "      <td>NOT AVAILABLE</td>\n",
       "      <td>(509) 682-2531</td>\n",
       "      <td>CRITICAL ACCESS</td>\n",
       "      <td>OPEN</td>\n",
       "      <td>25</td>\n",
       "      <td>CHELAN</td>\n",
       "      <td>53007</td>\n",
       "      <td>USA</td>\n",
       "      <td>47.844970</td>\n",
       "      <td>-120.009613</td>\n",
       "      <td>622110</td>\n",
       "      <td>GENERAL MEDICAL AND SURGICAL HOSPITALS</td>\n",
       "      <td>https://fortress.wa.gov/doh/facilitysearch/Def...</td>\n",
       "      <td>2018-08-10T00:00:00.000Z</td>\n",
       "      <td>IMAGERY</td>\n",
       "      <td>2014-02-10T00:00:00.000Z</td>\n",
       "      <td>lakechelancommunityhospital.com</td>\n",
       "      <td>165</td>\n",
       "      <td>OKANOGAN-DOUGLAS DISTRICT HOSPITAL</td>\n",
       "      <td>53</td>\n",
       "      <td>GOVERNMENT - DISTRICT/AUTHORITY</td>\n",
       "      <td>-999</td>\n",
       "      <td>25</td>\n",
       "      <td>LEVEL IV</td>\n",
       "      <td>N</td>\n",
       "    </tr>\n",
       "    <tr>\n",
       "      <th>4</th>\n",
       "      <td>-79.440955</td>\n",
       "      <td>37.778517</td>\n",
       "      <td>7005</td>\n",
       "      <td>324450</td>\n",
       "      <td>CARILION STONEWALL JACKSON HOSPITAL</td>\n",
       "      <td>1 HEALTH CIRCLE</td>\n",
       "      <td>LEXINGTON</td>\n",
       "      <td>VA</td>\n",
       "      <td>24450</td>\n",
       "      <td>NOT AVAILABLE</td>\n",
       "      <td>(540) 458-3300</td>\n",
       "      <td>CRITICAL ACCESS</td>\n",
       "      <td>OPEN</td>\n",
       "      <td>25</td>\n",
       "      <td>LEXINGTON</td>\n",
       "      <td>51678</td>\n",
       "      <td>USA</td>\n",
       "      <td>37.778517</td>\n",
       "      <td>-79.440955</td>\n",
       "      <td>622110</td>\n",
       "      <td>GENERAL MEDICAL AND SURGICAL HOSPITALS</td>\n",
       "      <td>http://www.vhi.org</td>\n",
       "      <td>2018-08-09T00:00:00.000Z</td>\n",
       "      <td>IMAGERY/OTHER</td>\n",
       "      <td>2014-02-10T00:00:00.000Z</td>\n",
       "      <td>http://www.carilionclinic.org/Carilion/csjh</td>\n",
       "      <td>NOT AVAILABLE</td>\n",
       "      <td>NOT AVAILABLE</td>\n",
       "      <td>51</td>\n",
       "      <td>NON-PROFIT</td>\n",
       "      <td>-999</td>\n",
       "      <td>25</td>\n",
       "      <td>NOT AVAILABLE</td>\n",
       "      <td>Y</td>\n",
       "    </tr>\n",
       "  </tbody>\n",
       "</table>\n",
       "</div>"
      ],
      "text/plain": [
       "            X          Y  OBJECTID        ID  \\\n",
       "0  -80.069978  32.975799      7001   3829406   \n",
       "1  -81.942460  34.989657      7002  11029303   \n",
       "2  -79.753122  34.161420      7003   2929505   \n",
       "3 -120.009613  47.844970      7004   1298816   \n",
       "4  -79.440955  37.778517      7005    324450   \n",
       "\n",
       "                                                NAME                ADDRESS  \\\n",
       "0  HEALTHSOUTH REHABILITATION HOSPITAL OF CHARLESTON         9181 MEDCOM ST   \n",
       "1               SPARTANBURG REHABILITATION INSTITUTE  160 HAROLD FLEMING CT   \n",
       "2        WOMEN'S CENTER OF CAROLINAS HOSPITAL SYSTEM      1590 FREEDOM BLVD   \n",
       "3                     LAKE CHELAN COMMUNITY HOSPITAL     503 HIGHLAND AVE E   \n",
       "4                CARILION STONEWALL JACKSON HOSPITAL        1 HEALTH CIRCLE   \n",
       "\n",
       "               CITY STATE    ZIP           ZIP4       TELEPHONE  \\\n",
       "0  NORTH CHARLESTON    SC  29406  NOT AVAILABLE  (843) 820-7762   \n",
       "1       SPARTANBURG    SC  29303           4226  (864) 594-9600   \n",
       "2          FLORENCE    SC  29505  NOT AVAILABLE  (843) 674-2500   \n",
       "3            CHELAN    WA  98816  NOT AVAILABLE  (509) 682-2531   \n",
       "4         LEXINGTON    VA  24450  NOT AVAILABLE  (540) 458-3300   \n",
       "\n",
       "              TYPE STATUS  POPULATION       COUNTY COUNTYFIPS COUNTRY  \\\n",
       "0   REHABILITATION   OPEN          46   CHARLESTON      45019     USA   \n",
       "1   REHABILITATION   OPEN          40  SPARTANBURG      45083     USA   \n",
       "2            WOMEN   OPEN          20     FLORENCE      45041     USA   \n",
       "3  CRITICAL ACCESS   OPEN          25       CHELAN      53007     USA   \n",
       "4  CRITICAL ACCESS   OPEN          25    LEXINGTON      51678     USA   \n",
       "\n",
       "    LATITUDE   LONGITUDE  NAICS_CODE  \\\n",
       "0  32.975799  -80.069978      622310   \n",
       "1  34.989657  -81.942460      622310   \n",
       "2  34.161420  -79.753122      622310   \n",
       "3  47.844970 -120.009613      622110   \n",
       "4  37.778517  -79.440955      622110   \n",
       "\n",
       "                                          NAICS_DESC  \\\n",
       "0  REHABILITATION HOSPITALS (EXCEPT ALCOHOLISM, D...   \n",
       "1  REHABILITATION HOSPITALS (EXCEPT ALCOHOLISM, D...   \n",
       "2                                MATERNITY HOSPITALS   \n",
       "3             GENERAL MEDICAL AND SURGICAL HOSPITALS   \n",
       "4             GENERAL MEDICAL AND SURGICAL HOSPITALS   \n",
       "\n",
       "                                              SOURCE  \\\n",
       "0  http://www.scdhec.gov/Health/FHPF/HealthFacili...   \n",
       "1  http://www.scdhec.gov/Health/FHPF/HealthFacili...   \n",
       "2  http://www.scdhec.gov/Health/FHPF/HealthFacili...   \n",
       "3  https://fortress.wa.gov/doh/facilitysearch/Def...   \n",
       "4                                 http://www.vhi.org   \n",
       "\n",
       "                 SOURCEDATE     VAL_METHOD                  VAL_DATE  \\\n",
       "0  2018-08-10T00:00:00.000Z  IMAGERY/OTHER  2013-10-03T00:00:00.000Z   \n",
       "1  2018-08-10T00:00:00.000Z        IMAGERY  2016-10-27T00:00:00.000Z   \n",
       "2  2018-08-10T00:00:00.000Z  IMAGERY/OTHER  2014-03-12T00:00:00.000Z   \n",
       "3  2018-08-10T00:00:00.000Z        IMAGERY  2014-02-10T00:00:00.000Z   \n",
       "4  2018-08-09T00:00:00.000Z  IMAGERY/OTHER  2014-02-10T00:00:00.000Z   \n",
       "\n",
       "                                       WEBSITE       STATE_ID  \\\n",
       "0         http://www.healthsouthcharleston.com       38784738   \n",
       "1                 http://sri.ernesthealth.com/  NOT AVAILABLE   \n",
       "2             http://www.carolinashospital.com       38784564   \n",
       "3              lakechelancommunityhospital.com            165   \n",
       "4  http://www.carilionclinic.org/Carilion/csjh  NOT AVAILABLE   \n",
       "\n",
       "                             ALT_NAME  ST_FIPS  \\\n",
       "0                       NOT AVAILABLE       45   \n",
       "1                       NOT AVAILABLE       45   \n",
       "2                       NOT AVAILABLE       45   \n",
       "3  OKANOGAN-DOUGLAS DISTRICT HOSPITAL       53   \n",
       "4                       NOT AVAILABLE       51   \n",
       "\n",
       "                             OWNER  TTL_STAFF  BEDS         TRAUMA HELIPAD  \n",
       "0                      PROPRIETARY       -999    46  NOT AVAILABLE       N  \n",
       "1                      PROPRIETARY       -999    40  NOT AVAILABLE       N  \n",
       "2                      PROPRIETARY       -999    20  NOT AVAILABLE       Y  \n",
       "3  GOVERNMENT - DISTRICT/AUTHORITY       -999    25       LEVEL IV       N  \n",
       "4                       NON-PROFIT       -999    25  NOT AVAILABLE       Y  "
      ]
     },
     "execution_count": 6,
     "metadata": {},
     "output_type": "execute_result"
    }
   ],
   "source": [
    "hifld_df.head()"
   ]
  },
  {
   "cell_type": "markdown",
   "metadata": {},
   "source": [
    "#### Append `hifld_` to all column names to identify datasource"
   ]
  },
  {
   "cell_type": "code",
   "execution_count": 7,
   "metadata": {
    "scrolled": true
   },
   "outputs": [],
   "source": [
    "hifld_df = hifld_df.add_prefix('hifld_')"
   ]
  },
  {
   "cell_type": "code",
   "execution_count": 8,
   "metadata": {},
   "outputs": [
    {
     "data": {
      "text/html": [
       "<div>\n",
       "<style scoped>\n",
       "    .dataframe tbody tr th:only-of-type {\n",
       "        vertical-align: middle;\n",
       "    }\n",
       "\n",
       "    .dataframe tbody tr th {\n",
       "        vertical-align: top;\n",
       "    }\n",
       "\n",
       "    .dataframe thead th {\n",
       "        text-align: right;\n",
       "    }\n",
       "</style>\n",
       "<table border=\"1\" class=\"dataframe\">\n",
       "  <thead>\n",
       "    <tr style=\"text-align: right;\">\n",
       "      <th></th>\n",
       "      <th>hifld_X</th>\n",
       "      <th>hifld_Y</th>\n",
       "      <th>hifld_OBJECTID</th>\n",
       "      <th>hifld_ID</th>\n",
       "      <th>hifld_NAME</th>\n",
       "      <th>hifld_ADDRESS</th>\n",
       "      <th>hifld_CITY</th>\n",
       "      <th>hifld_STATE</th>\n",
       "      <th>hifld_ZIP</th>\n",
       "      <th>hifld_ZIP4</th>\n",
       "      <th>hifld_TELEPHONE</th>\n",
       "      <th>hifld_TYPE</th>\n",
       "      <th>hifld_STATUS</th>\n",
       "      <th>hifld_POPULATION</th>\n",
       "      <th>hifld_COUNTY</th>\n",
       "      <th>hifld_COUNTYFIPS</th>\n",
       "      <th>hifld_COUNTRY</th>\n",
       "      <th>hifld_LATITUDE</th>\n",
       "      <th>hifld_LONGITUDE</th>\n",
       "      <th>hifld_NAICS_CODE</th>\n",
       "      <th>hifld_NAICS_DESC</th>\n",
       "      <th>hifld_SOURCE</th>\n",
       "      <th>hifld_SOURCEDATE</th>\n",
       "      <th>hifld_VAL_METHOD</th>\n",
       "      <th>hifld_VAL_DATE</th>\n",
       "      <th>hifld_WEBSITE</th>\n",
       "      <th>hifld_STATE_ID</th>\n",
       "      <th>hifld_ALT_NAME</th>\n",
       "      <th>hifld_ST_FIPS</th>\n",
       "      <th>hifld_OWNER</th>\n",
       "      <th>hifld_TTL_STAFF</th>\n",
       "      <th>hifld_BEDS</th>\n",
       "      <th>hifld_TRAUMA</th>\n",
       "      <th>hifld_HELIPAD</th>\n",
       "    </tr>\n",
       "  </thead>\n",
       "  <tbody>\n",
       "    <tr>\n",
       "      <th>0</th>\n",
       "      <td>-80.069978</td>\n",
       "      <td>32.975799</td>\n",
       "      <td>7001</td>\n",
       "      <td>3829406</td>\n",
       "      <td>HEALTHSOUTH REHABILITATION HOSPITAL OF CHARLESTON</td>\n",
       "      <td>9181 MEDCOM ST</td>\n",
       "      <td>NORTH CHARLESTON</td>\n",
       "      <td>SC</td>\n",
       "      <td>29406</td>\n",
       "      <td>NOT AVAILABLE</td>\n",
       "      <td>(843) 820-7762</td>\n",
       "      <td>REHABILITATION</td>\n",
       "      <td>OPEN</td>\n",
       "      <td>46</td>\n",
       "      <td>CHARLESTON</td>\n",
       "      <td>45019</td>\n",
       "      <td>USA</td>\n",
       "      <td>32.975799</td>\n",
       "      <td>-80.069978</td>\n",
       "      <td>622310</td>\n",
       "      <td>REHABILITATION HOSPITALS (EXCEPT ALCOHOLISM, D...</td>\n",
       "      <td>http://www.scdhec.gov/Health/FHPF/HealthFacili...</td>\n",
       "      <td>2018-08-10T00:00:00.000Z</td>\n",
       "      <td>IMAGERY/OTHER</td>\n",
       "      <td>2013-10-03T00:00:00.000Z</td>\n",
       "      <td>http://www.healthsouthcharleston.com</td>\n",
       "      <td>38784738</td>\n",
       "      <td>NOT AVAILABLE</td>\n",
       "      <td>45</td>\n",
       "      <td>PROPRIETARY</td>\n",
       "      <td>-999</td>\n",
       "      <td>46</td>\n",
       "      <td>NOT AVAILABLE</td>\n",
       "      <td>N</td>\n",
       "    </tr>\n",
       "    <tr>\n",
       "      <th>1</th>\n",
       "      <td>-81.942460</td>\n",
       "      <td>34.989657</td>\n",
       "      <td>7002</td>\n",
       "      <td>11029303</td>\n",
       "      <td>SPARTANBURG REHABILITATION INSTITUTE</td>\n",
       "      <td>160 HAROLD FLEMING CT</td>\n",
       "      <td>SPARTANBURG</td>\n",
       "      <td>SC</td>\n",
       "      <td>29303</td>\n",
       "      <td>4226</td>\n",
       "      <td>(864) 594-9600</td>\n",
       "      <td>REHABILITATION</td>\n",
       "      <td>OPEN</td>\n",
       "      <td>40</td>\n",
       "      <td>SPARTANBURG</td>\n",
       "      <td>45083</td>\n",
       "      <td>USA</td>\n",
       "      <td>34.989657</td>\n",
       "      <td>-81.942460</td>\n",
       "      <td>622310</td>\n",
       "      <td>REHABILITATION HOSPITALS (EXCEPT ALCOHOLISM, D...</td>\n",
       "      <td>http://www.scdhec.gov/Health/FHPF/HealthFacili...</td>\n",
       "      <td>2018-08-10T00:00:00.000Z</td>\n",
       "      <td>IMAGERY</td>\n",
       "      <td>2016-10-27T00:00:00.000Z</td>\n",
       "      <td>http://sri.ernesthealth.com/</td>\n",
       "      <td>NOT AVAILABLE</td>\n",
       "      <td>NOT AVAILABLE</td>\n",
       "      <td>45</td>\n",
       "      <td>PROPRIETARY</td>\n",
       "      <td>-999</td>\n",
       "      <td>40</td>\n",
       "      <td>NOT AVAILABLE</td>\n",
       "      <td>N</td>\n",
       "    </tr>\n",
       "    <tr>\n",
       "      <th>2</th>\n",
       "      <td>-79.753122</td>\n",
       "      <td>34.161420</td>\n",
       "      <td>7003</td>\n",
       "      <td>2929505</td>\n",
       "      <td>WOMEN'S CENTER OF CAROLINAS HOSPITAL SYSTEM</td>\n",
       "      <td>1590 FREEDOM BLVD</td>\n",
       "      <td>FLORENCE</td>\n",
       "      <td>SC</td>\n",
       "      <td>29505</td>\n",
       "      <td>NOT AVAILABLE</td>\n",
       "      <td>(843) 674-2500</td>\n",
       "      <td>WOMEN</td>\n",
       "      <td>OPEN</td>\n",
       "      <td>20</td>\n",
       "      <td>FLORENCE</td>\n",
       "      <td>45041</td>\n",
       "      <td>USA</td>\n",
       "      <td>34.161420</td>\n",
       "      <td>-79.753122</td>\n",
       "      <td>622310</td>\n",
       "      <td>MATERNITY HOSPITALS</td>\n",
       "      <td>http://www.scdhec.gov/Health/FHPF/HealthFacili...</td>\n",
       "      <td>2018-08-10T00:00:00.000Z</td>\n",
       "      <td>IMAGERY/OTHER</td>\n",
       "      <td>2014-03-12T00:00:00.000Z</td>\n",
       "      <td>http://www.carolinashospital.com</td>\n",
       "      <td>38784564</td>\n",
       "      <td>NOT AVAILABLE</td>\n",
       "      <td>45</td>\n",
       "      <td>PROPRIETARY</td>\n",
       "      <td>-999</td>\n",
       "      <td>20</td>\n",
       "      <td>NOT AVAILABLE</td>\n",
       "      <td>Y</td>\n",
       "    </tr>\n",
       "    <tr>\n",
       "      <th>3</th>\n",
       "      <td>-120.009613</td>\n",
       "      <td>47.844970</td>\n",
       "      <td>7004</td>\n",
       "      <td>1298816</td>\n",
       "      <td>LAKE CHELAN COMMUNITY HOSPITAL</td>\n",
       "      <td>503 HIGHLAND AVE E</td>\n",
       "      <td>CHELAN</td>\n",
       "      <td>WA</td>\n",
       "      <td>98816</td>\n",
       "      <td>NOT AVAILABLE</td>\n",
       "      <td>(509) 682-2531</td>\n",
       "      <td>CRITICAL ACCESS</td>\n",
       "      <td>OPEN</td>\n",
       "      <td>25</td>\n",
       "      <td>CHELAN</td>\n",
       "      <td>53007</td>\n",
       "      <td>USA</td>\n",
       "      <td>47.844970</td>\n",
       "      <td>-120.009613</td>\n",
       "      <td>622110</td>\n",
       "      <td>GENERAL MEDICAL AND SURGICAL HOSPITALS</td>\n",
       "      <td>https://fortress.wa.gov/doh/facilitysearch/Def...</td>\n",
       "      <td>2018-08-10T00:00:00.000Z</td>\n",
       "      <td>IMAGERY</td>\n",
       "      <td>2014-02-10T00:00:00.000Z</td>\n",
       "      <td>lakechelancommunityhospital.com</td>\n",
       "      <td>165</td>\n",
       "      <td>OKANOGAN-DOUGLAS DISTRICT HOSPITAL</td>\n",
       "      <td>53</td>\n",
       "      <td>GOVERNMENT - DISTRICT/AUTHORITY</td>\n",
       "      <td>-999</td>\n",
       "      <td>25</td>\n",
       "      <td>LEVEL IV</td>\n",
       "      <td>N</td>\n",
       "    </tr>\n",
       "    <tr>\n",
       "      <th>4</th>\n",
       "      <td>-79.440955</td>\n",
       "      <td>37.778517</td>\n",
       "      <td>7005</td>\n",
       "      <td>324450</td>\n",
       "      <td>CARILION STONEWALL JACKSON HOSPITAL</td>\n",
       "      <td>1 HEALTH CIRCLE</td>\n",
       "      <td>LEXINGTON</td>\n",
       "      <td>VA</td>\n",
       "      <td>24450</td>\n",
       "      <td>NOT AVAILABLE</td>\n",
       "      <td>(540) 458-3300</td>\n",
       "      <td>CRITICAL ACCESS</td>\n",
       "      <td>OPEN</td>\n",
       "      <td>25</td>\n",
       "      <td>LEXINGTON</td>\n",
       "      <td>51678</td>\n",
       "      <td>USA</td>\n",
       "      <td>37.778517</td>\n",
       "      <td>-79.440955</td>\n",
       "      <td>622110</td>\n",
       "      <td>GENERAL MEDICAL AND SURGICAL HOSPITALS</td>\n",
       "      <td>http://www.vhi.org</td>\n",
       "      <td>2018-08-09T00:00:00.000Z</td>\n",
       "      <td>IMAGERY/OTHER</td>\n",
       "      <td>2014-02-10T00:00:00.000Z</td>\n",
       "      <td>http://www.carilionclinic.org/Carilion/csjh</td>\n",
       "      <td>NOT AVAILABLE</td>\n",
       "      <td>NOT AVAILABLE</td>\n",
       "      <td>51</td>\n",
       "      <td>NON-PROFIT</td>\n",
       "      <td>-999</td>\n",
       "      <td>25</td>\n",
       "      <td>NOT AVAILABLE</td>\n",
       "      <td>Y</td>\n",
       "    </tr>\n",
       "  </tbody>\n",
       "</table>\n",
       "</div>"
      ],
      "text/plain": [
       "      hifld_X    hifld_Y  hifld_OBJECTID  hifld_ID  \\\n",
       "0  -80.069978  32.975799            7001   3829406   \n",
       "1  -81.942460  34.989657            7002  11029303   \n",
       "2  -79.753122  34.161420            7003   2929505   \n",
       "3 -120.009613  47.844970            7004   1298816   \n",
       "4  -79.440955  37.778517            7005    324450   \n",
       "\n",
       "                                          hifld_NAME          hifld_ADDRESS  \\\n",
       "0  HEALTHSOUTH REHABILITATION HOSPITAL OF CHARLESTON         9181 MEDCOM ST   \n",
       "1               SPARTANBURG REHABILITATION INSTITUTE  160 HAROLD FLEMING CT   \n",
       "2        WOMEN'S CENTER OF CAROLINAS HOSPITAL SYSTEM      1590 FREEDOM BLVD   \n",
       "3                     LAKE CHELAN COMMUNITY HOSPITAL     503 HIGHLAND AVE E   \n",
       "4                CARILION STONEWALL JACKSON HOSPITAL        1 HEALTH CIRCLE   \n",
       "\n",
       "         hifld_CITY hifld_STATE  hifld_ZIP     hifld_ZIP4 hifld_TELEPHONE  \\\n",
       "0  NORTH CHARLESTON          SC      29406  NOT AVAILABLE  (843) 820-7762   \n",
       "1       SPARTANBURG          SC      29303           4226  (864) 594-9600   \n",
       "2          FLORENCE          SC      29505  NOT AVAILABLE  (843) 674-2500   \n",
       "3            CHELAN          WA      98816  NOT AVAILABLE  (509) 682-2531   \n",
       "4         LEXINGTON          VA      24450  NOT AVAILABLE  (540) 458-3300   \n",
       "\n",
       "        hifld_TYPE hifld_STATUS  hifld_POPULATION hifld_COUNTY  \\\n",
       "0   REHABILITATION         OPEN                46   CHARLESTON   \n",
       "1   REHABILITATION         OPEN                40  SPARTANBURG   \n",
       "2            WOMEN         OPEN                20     FLORENCE   \n",
       "3  CRITICAL ACCESS         OPEN                25       CHELAN   \n",
       "4  CRITICAL ACCESS         OPEN                25    LEXINGTON   \n",
       "\n",
       "  hifld_COUNTYFIPS hifld_COUNTRY  hifld_LATITUDE  hifld_LONGITUDE  \\\n",
       "0            45019           USA       32.975799       -80.069978   \n",
       "1            45083           USA       34.989657       -81.942460   \n",
       "2            45041           USA       34.161420       -79.753122   \n",
       "3            53007           USA       47.844970      -120.009613   \n",
       "4            51678           USA       37.778517       -79.440955   \n",
       "\n",
       "   hifld_NAICS_CODE                                   hifld_NAICS_DESC  \\\n",
       "0            622310  REHABILITATION HOSPITALS (EXCEPT ALCOHOLISM, D...   \n",
       "1            622310  REHABILITATION HOSPITALS (EXCEPT ALCOHOLISM, D...   \n",
       "2            622310                                MATERNITY HOSPITALS   \n",
       "3            622110             GENERAL MEDICAL AND SURGICAL HOSPITALS   \n",
       "4            622110             GENERAL MEDICAL AND SURGICAL HOSPITALS   \n",
       "\n",
       "                                        hifld_SOURCE  \\\n",
       "0  http://www.scdhec.gov/Health/FHPF/HealthFacili...   \n",
       "1  http://www.scdhec.gov/Health/FHPF/HealthFacili...   \n",
       "2  http://www.scdhec.gov/Health/FHPF/HealthFacili...   \n",
       "3  https://fortress.wa.gov/doh/facilitysearch/Def...   \n",
       "4                                 http://www.vhi.org   \n",
       "\n",
       "           hifld_SOURCEDATE hifld_VAL_METHOD            hifld_VAL_DATE  \\\n",
       "0  2018-08-10T00:00:00.000Z    IMAGERY/OTHER  2013-10-03T00:00:00.000Z   \n",
       "1  2018-08-10T00:00:00.000Z          IMAGERY  2016-10-27T00:00:00.000Z   \n",
       "2  2018-08-10T00:00:00.000Z    IMAGERY/OTHER  2014-03-12T00:00:00.000Z   \n",
       "3  2018-08-10T00:00:00.000Z          IMAGERY  2014-02-10T00:00:00.000Z   \n",
       "4  2018-08-09T00:00:00.000Z    IMAGERY/OTHER  2014-02-10T00:00:00.000Z   \n",
       "\n",
       "                                 hifld_WEBSITE hifld_STATE_ID  \\\n",
       "0         http://www.healthsouthcharleston.com       38784738   \n",
       "1                 http://sri.ernesthealth.com/  NOT AVAILABLE   \n",
       "2             http://www.carolinashospital.com       38784564   \n",
       "3              lakechelancommunityhospital.com            165   \n",
       "4  http://www.carilionclinic.org/Carilion/csjh  NOT AVAILABLE   \n",
       "\n",
       "                       hifld_ALT_NAME  hifld_ST_FIPS  \\\n",
       "0                       NOT AVAILABLE             45   \n",
       "1                       NOT AVAILABLE             45   \n",
       "2                       NOT AVAILABLE             45   \n",
       "3  OKANOGAN-DOUGLAS DISTRICT HOSPITAL             53   \n",
       "4                       NOT AVAILABLE             51   \n",
       "\n",
       "                       hifld_OWNER  hifld_TTL_STAFF  hifld_BEDS  \\\n",
       "0                      PROPRIETARY             -999          46   \n",
       "1                      PROPRIETARY             -999          40   \n",
       "2                      PROPRIETARY             -999          20   \n",
       "3  GOVERNMENT - DISTRICT/AUTHORITY             -999          25   \n",
       "4                       NON-PROFIT             -999          25   \n",
       "\n",
       "    hifld_TRAUMA hifld_HELIPAD  \n",
       "0  NOT AVAILABLE             N  \n",
       "1  NOT AVAILABLE             N  \n",
       "2  NOT AVAILABLE             Y  \n",
       "3       LEVEL IV             N  \n",
       "4  NOT AVAILABLE             Y  "
      ]
     },
     "execution_count": 8,
     "metadata": {},
     "output_type": "execute_result"
    }
   ],
   "source": [
    "hifld_df.head()"
   ]
  },
  {
   "cell_type": "markdown",
   "metadata": {},
   "source": [
    "#### Create a `GeoDataFrame` from the above `DataFrame`, set the projection to `WGS84`, read locations from `hifld_X` and `hifld_Y` columns"
   ]
  },
  {
   "cell_type": "code",
   "execution_count": 9,
   "metadata": {},
   "outputs": [],
   "source": [
    "hifld_gdf = gpd.GeoDataFrame(\n",
    "    hifld_df,\n",
    "    crs='EPSG:4326',\n",
    "    geometry=gpd.points_from_xy(hifld_df.hifld_X, hifld_df.hifld_Y))"
   ]
  },
  {
   "cell_type": "markdown",
   "metadata": {},
   "source": [
    "#### Reproject to Web Mecator to prepare for further spatial calculations"
   ]
  },
  {
   "cell_type": "code",
   "execution_count": 10,
   "metadata": {},
   "outputs": [],
   "source": [
    "hifld_gdf = hifld_gdf.to_crs('EPSG:3857')"
   ]
  },
  {
   "cell_type": "code",
   "execution_count": 11,
   "metadata": {
    "scrolled": false
   },
   "outputs": [
    {
     "data": {
      "text/plain": [
       "<matplotlib.axes._subplots.AxesSubplot at 0x7f083d1e59b0>"
      ]
     },
     "execution_count": 11,
     "metadata": {},
     "output_type": "execute_result"
    },
    {
     "data": {
      "image/png": "[encoded data removed]",
      "text/plain": [
       "<Figure size 1080x720 with 1 Axes>"
      ]
     },
     "metadata": {
      "needs_background": "light"
     },
     "output_type": "display_data"
    }
   ],
   "source": [
    "hifld_gdf.plot(figsize=(15, 10))"
   ]
  },
  {
   "cell_type": "markdown",
   "metadata": {},
   "source": [
    "## Import HCRIS data "
   ]
  },
  {
   "cell_type": "code",
   "execution_count": 12,
   "metadata": {},
   "outputs": [],
   "source": [
    "hcris_hospital_beds_gdf = gpd.read_file('../data/usa_hospital_beds_hcris2018_cleaned3.geojson', encoding='utf-8')"
   ]
  },
  {
   "cell_type": "code",
   "execution_count": 13,
   "metadata": {
    "scrolled": true
   },
   "outputs": [
    {
     "data": {
      "text/html": [
       "<div>\n",
       "<style scoped>\n",
       "    .dataframe tbody tr th:only-of-type {\n",
       "        vertical-align: middle;\n",
       "    }\n",
       "\n",
       "    .dataframe tbody tr th {\n",
       "        vertical-align: top;\n",
       "    }\n",
       "\n",
       "    .dataframe thead th {\n",
       "        text-align: right;\n",
       "    }\n",
       "</style>\n",
       "<table border=\"1\" class=\"dataframe\">\n",
       "  <thead>\n",
       "    <tr style=\"text-align: right;\">\n",
       "      <th></th>\n",
       "      <th>PROVIDER_NUMBER</th>\n",
       "      <th>FYB</th>\n",
       "      <th>FYE</th>\n",
       "      <th>STATUS</th>\n",
       "      <th>CTRL_TYPE</th>\n",
       "      <th>HOSP10_Name</th>\n",
       "      <th>Street_Addr</th>\n",
       "      <th>PO_Box</th>\n",
       "      <th>City</th>\n",
       "      <th>State</th>\n",
       "      <th>Zip_Code</th>\n",
       "      <th>County</th>\n",
       "      <th>Hospital Adult and Peds Beds</th>\n",
       "      <th>Intensive Care Unit Beds</th>\n",
       "      <th>Coronary Care Unit Beds</th>\n",
       "      <th>Burn ICU Beds</th>\n",
       "      <th>Surgical ICU Beds</th>\n",
       "      <th>Total Beds</th>\n",
       "      <th>Hospital Adult and Peds Bed Days Available</th>\n",
       "      <th>Intensive Care Unit Bed Days Available</th>\n",
       "      <th>Coronary Care Unit Bed Days Available</th>\n",
       "      <th>Burn ICU Bed Days Available</th>\n",
       "      <th>Surgical ICU Bed Days Available</th>\n",
       "      <th>Total Bed Days Available</th>\n",
       "      <th>Hospital Adult and Peds Inpt Days</th>\n",
       "      <th>Intensive Care Unit Inpt Days</th>\n",
       "      <th>Coronary Care Unit Inpt Days</th>\n",
       "      <th>Burn ICU Inpt Days</th>\n",
       "      <th>Surgical ICU Inpt Days</th>\n",
       "      <th>Total Inpt Days</th>\n",
       "      <th>ICU Total Beds</th>\n",
       "      <th>ICU Total Bed Days Available</th>\n",
       "      <th>ICU Total Inpt Days</th>\n",
       "      <th>ICU Occupancy Rate</th>\n",
       "      <th>Total Bed Occupancy Rate</th>\n",
       "      <th>geometry</th>\n",
       "    </tr>\n",
       "  </thead>\n",
       "  <tbody>\n",
       "    <tr>\n",
       "      <th>0</th>\n",
       "      <td>010001</td>\n",
       "      <td>01-OCT-17</td>\n",
       "      <td>30-SEP-18</td>\n",
       "      <td>As Submitted</td>\n",
       "      <td>9</td>\n",
       "      <td>SOUTHEAST HEALTH MEDICAL CENTER</td>\n",
       "      <td>1108 ROSS CLARK CIRCLE</td>\n",
       "      <td>6987</td>\n",
       "      <td>DOTHAN</td>\n",
       "      <td>AL</td>\n",
       "      <td>36301</td>\n",
       "      <td>HOUSTON</td>\n",
       "      <td>271.0</td>\n",
       "      <td>40.0</td>\n",
       "      <td>0.0</td>\n",
       "      <td>0.0</td>\n",
       "      <td>0.0</td>\n",
       "      <td>327.0</td>\n",
       "      <td>98915.0</td>\n",
       "      <td>14600.0</td>\n",
       "      <td>0.0</td>\n",
       "      <td>0.0</td>\n",
       "      <td>0.0</td>\n",
       "      <td>119355.0</td>\n",
       "      <td>78031.0</td>\n",
       "      <td>11992.0</td>\n",
       "      <td>0.0</td>\n",
       "      <td>0.0</td>\n",
       "      <td>0.0</td>\n",
       "      <td>95560.0</td>\n",
       "      <td>40.0</td>\n",
       "      <td>14600.0</td>\n",
       "      <td>11992.0</td>\n",
       "      <td>0.821370</td>\n",
       "      <td>0.800637</td>\n",
       "      <td>POINT (-85.36253 31.21591)</td>\n",
       "    </tr>\n",
       "    <tr>\n",
       "      <th>1</th>\n",
       "      <td>010005</td>\n",
       "      <td>01-OCT-17</td>\n",
       "      <td>30-SEP-18</td>\n",
       "      <td>As Submitted</td>\n",
       "      <td>9</td>\n",
       "      <td>MARSHALL MEDICAL CENTER - SOUTH</td>\n",
       "      <td>2505 U.S. HIGHWAY 431</td>\n",
       "      <td>None</td>\n",
       "      <td>BOAZ</td>\n",
       "      <td>AL</td>\n",
       "      <td>35957-</td>\n",
       "      <td>MARSHALL</td>\n",
       "      <td>184.0</td>\n",
       "      <td>20.0</td>\n",
       "      <td>0.0</td>\n",
       "      <td>0.0</td>\n",
       "      <td>0.0</td>\n",
       "      <td>204.0</td>\n",
       "      <td>67160.0</td>\n",
       "      <td>7300.0</td>\n",
       "      <td>0.0</td>\n",
       "      <td>0.0</td>\n",
       "      <td>0.0</td>\n",
       "      <td>74460.0</td>\n",
       "      <td>30597.0</td>\n",
       "      <td>5283.0</td>\n",
       "      <td>0.0</td>\n",
       "      <td>0.0</td>\n",
       "      <td>0.0</td>\n",
       "      <td>38089.0</td>\n",
       "      <td>20.0</td>\n",
       "      <td>7300.0</td>\n",
       "      <td>5283.0</td>\n",
       "      <td>0.723699</td>\n",
       "      <td>0.511536</td>\n",
       "      <td>POINT (-86.16006 34.22140)</td>\n",
       "    </tr>\n",
       "    <tr>\n",
       "      <th>2</th>\n",
       "      <td>010006</td>\n",
       "      <td>01-JUL-18</td>\n",
       "      <td>30-JUN-19</td>\n",
       "      <td>As Submitted</td>\n",
       "      <td>4</td>\n",
       "      <td>NORTH ALABAMA MEDICAL CENTER</td>\n",
       "      <td>1701 VETERANS DRIVE</td>\n",
       "      <td>818</td>\n",
       "      <td>FLORENCE</td>\n",
       "      <td>AL</td>\n",
       "      <td>35630</td>\n",
       "      <td>LAUDERDALE</td>\n",
       "      <td>181.0</td>\n",
       "      <td>36.0</td>\n",
       "      <td>16.0</td>\n",
       "      <td>0.0</td>\n",
       "      <td>0.0</td>\n",
       "      <td>233.0</td>\n",
       "      <td>85802.0</td>\n",
       "      <td>10233.0</td>\n",
       "      <td>8135.0</td>\n",
       "      <td>0.0</td>\n",
       "      <td>0.0</td>\n",
       "      <td>104170.0</td>\n",
       "      <td>44822.0</td>\n",
       "      <td>5732.0</td>\n",
       "      <td>7515.0</td>\n",
       "      <td>0.0</td>\n",
       "      <td>0.0</td>\n",
       "      <td>61969.0</td>\n",
       "      <td>52.0</td>\n",
       "      <td>18368.0</td>\n",
       "      <td>13247.0</td>\n",
       "      <td>0.721200</td>\n",
       "      <td>0.594883</td>\n",
       "      <td>POINT (-87.65095 34.80439)</td>\n",
       "    </tr>\n",
       "    <tr>\n",
       "      <th>3</th>\n",
       "      <td>010007</td>\n",
       "      <td>01-OCT-17</td>\n",
       "      <td>30-SEP-18</td>\n",
       "      <td>As Submitted</td>\n",
       "      <td>9</td>\n",
       "      <td>MIZELL MEMORIAL HOSPITAL</td>\n",
       "      <td>702 MAIN STREET</td>\n",
       "      <td>429</td>\n",
       "      <td>OPP</td>\n",
       "      <td>AL</td>\n",
       "      <td>36462-</td>\n",
       "      <td>COVINGTON</td>\n",
       "      <td>40.0</td>\n",
       "      <td>5.0</td>\n",
       "      <td>0.0</td>\n",
       "      <td>0.0</td>\n",
       "      <td>0.0</td>\n",
       "      <td>45.0</td>\n",
       "      <td>14600.0</td>\n",
       "      <td>1825.0</td>\n",
       "      <td>0.0</td>\n",
       "      <td>0.0</td>\n",
       "      <td>0.0</td>\n",
       "      <td>16425.0</td>\n",
       "      <td>3300.0</td>\n",
       "      <td>1126.0</td>\n",
       "      <td>0.0</td>\n",
       "      <td>0.0</td>\n",
       "      <td>0.0</td>\n",
       "      <td>4571.0</td>\n",
       "      <td>5.0</td>\n",
       "      <td>1825.0</td>\n",
       "      <td>1126.0</td>\n",
       "      <td>0.616986</td>\n",
       "      <td>0.278295</td>\n",
       "      <td>POINT (-86.25417 31.29198)</td>\n",
       "    </tr>\n",
       "    <tr>\n",
       "      <th>4</th>\n",
       "      <td>010008</td>\n",
       "      <td>01-JAN-18</td>\n",
       "      <td>31-DEC-18</td>\n",
       "      <td>As Submitted</td>\n",
       "      <td>4</td>\n",
       "      <td>CRENSHAW COMMUNITY HOSPITAL</td>\n",
       "      <td>CRENSHAW COMMUNITY HOSPITAL</td>\n",
       "      <td>101 HOSPITAL CIRCLE</td>\n",
       "      <td>LUVERNE</td>\n",
       "      <td>AL</td>\n",
       "      <td>36049</td>\n",
       "      <td>CRENSHAW</td>\n",
       "      <td>29.0</td>\n",
       "      <td>0.0</td>\n",
       "      <td>0.0</td>\n",
       "      <td>0.0</td>\n",
       "      <td>0.0</td>\n",
       "      <td>29.0</td>\n",
       "      <td>10585.0</td>\n",
       "      <td>0.0</td>\n",
       "      <td>0.0</td>\n",
       "      <td>0.0</td>\n",
       "      <td>0.0</td>\n",
       "      <td>10585.0</td>\n",
       "      <td>1323.0</td>\n",
       "      <td>0.0</td>\n",
       "      <td>0.0</td>\n",
       "      <td>0.0</td>\n",
       "      <td>0.0</td>\n",
       "      <td>1334.0</td>\n",
       "      <td>0.0</td>\n",
       "      <td>0.0</td>\n",
       "      <td>0.0</td>\n",
       "      <td>NaN</td>\n",
       "      <td>0.126027</td>\n",
       "      <td>POINT (-86.26472 31.69361)</td>\n",
       "    </tr>\n",
       "  </tbody>\n",
       "</table>\n",
       "</div>"
      ],
      "text/plain": [
       "  PROVIDER_NUMBER        FYB        FYE        STATUS  CTRL_TYPE  \\\n",
       "0          010001  01-OCT-17  30-SEP-18  As Submitted          9   \n",
       "1          010005  01-OCT-17  30-SEP-18  As Submitted          9   \n",
       "2          010006  01-JUL-18  30-JUN-19  As Submitted          4   \n",
       "3          010007  01-OCT-17  30-SEP-18  As Submitted          9   \n",
       "4          010008  01-JAN-18  31-DEC-18  As Submitted          4   \n",
       "\n",
       "                       HOSP10_Name                  Street_Addr  \\\n",
       "0  SOUTHEAST HEALTH MEDICAL CENTER       1108 ROSS CLARK CIRCLE   \n",
       "1  MARSHALL MEDICAL CENTER - SOUTH        2505 U.S. HIGHWAY 431   \n",
       "2     NORTH ALABAMA MEDICAL CENTER          1701 VETERANS DRIVE   \n",
       "3         MIZELL MEMORIAL HOSPITAL              702 MAIN STREET   \n",
       "4      CRENSHAW COMMUNITY HOSPITAL  CRENSHAW COMMUNITY HOSPITAL   \n",
       "\n",
       "                PO_Box      City State Zip_Code      County  \\\n",
       "0                 6987    DOTHAN    AL    36301     HOUSTON   \n",
       "1                 None      BOAZ    AL   35957-    MARSHALL   \n",
       "2                  818  FLORENCE    AL    35630  LAUDERDALE   \n",
       "3                  429       OPP    AL   36462-   COVINGTON   \n",
       "4  101 HOSPITAL CIRCLE   LUVERNE    AL    36049    CRENSHAW   \n",
       "\n",
       "   Hospital Adult and Peds Beds  Intensive Care Unit Beds  \\\n",
       "0                         271.0                      40.0   \n",
       "1                         184.0                      20.0   \n",
       "2                         181.0                      36.0   \n",
       "3                          40.0                       5.0   \n",
       "4                          29.0                       0.0   \n",
       "\n",
       "   Coronary Care Unit Beds  Burn ICU Beds  Surgical ICU Beds  Total Beds  \\\n",
       "0                      0.0            0.0                0.0       327.0   \n",
       "1                      0.0            0.0                0.0       204.0   \n",
       "2                     16.0            0.0                0.0       233.0   \n",
       "3                      0.0            0.0                0.0        45.0   \n",
       "4                      0.0            0.0                0.0        29.0   \n",
       "\n",
       "   Hospital Adult and Peds Bed Days Available  \\\n",
       "0                                     98915.0   \n",
       "1                                     67160.0   \n",
       "2                                     85802.0   \n",
       "3                                     14600.0   \n",
       "4                                     10585.0   \n",
       "\n",
       "   Intensive Care Unit Bed Days Available  \\\n",
       "0                                 14600.0   \n",
       "1                                  7300.0   \n",
       "2                                 10233.0   \n",
       "3                                  1825.0   \n",
       "4                                     0.0   \n",
       "\n",
       "   Coronary Care Unit Bed Days Available  Burn ICU Bed Days Available  \\\n",
       "0                                    0.0                          0.0   \n",
       "1                                    0.0                          0.0   \n",
       "2                                 8135.0                          0.0   \n",
       "3                                    0.0                          0.0   \n",
       "4                                    0.0                          0.0   \n",
       "\n",
       "   Surgical ICU Bed Days Available  Total Bed Days Available  \\\n",
       "0                              0.0                  119355.0   \n",
       "1                              0.0                   74460.0   \n",
       "2                              0.0                  104170.0   \n",
       "3                              0.0                   16425.0   \n",
       "4                              0.0                   10585.0   \n",
       "\n",
       "   Hospital Adult and Peds Inpt Days  Intensive Care Unit Inpt Days  \\\n",
       "0                            78031.0                        11992.0   \n",
       "1                            30597.0                         5283.0   \n",
       "2                            44822.0                         5732.0   \n",
       "3                             3300.0                         1126.0   \n",
       "4                             1323.0                            0.0   \n",
       "\n",
       "   Coronary Care Unit Inpt Days  Burn ICU Inpt Days  Surgical ICU Inpt Days  \\\n",
       "0                           0.0                 0.0                     0.0   \n",
       "1                           0.0                 0.0                     0.0   \n",
       "2                        7515.0                 0.0                     0.0   \n",
       "3                           0.0                 0.0                     0.0   \n",
       "4                           0.0                 0.0                     0.0   \n",
       "\n",
       "   Total Inpt Days  ICU Total Beds  ICU Total Bed Days Available  \\\n",
       "0          95560.0            40.0                       14600.0   \n",
       "1          38089.0            20.0                        7300.0   \n",
       "2          61969.0            52.0                       18368.0   \n",
       "3           4571.0             5.0                        1825.0   \n",
       "4           1334.0             0.0                           0.0   \n",
       "\n",
       "   ICU Total Inpt Days  ICU Occupancy Rate  Total Bed Occupancy Rate  \\\n",
       "0              11992.0            0.821370                  0.800637   \n",
       "1               5283.0            0.723699                  0.511536   \n",
       "2              13247.0            0.721200                  0.594883   \n",
       "3               1126.0            0.616986                  0.278295   \n",
       "4                  0.0                 NaN                  0.126027   \n",
       "\n",
       "                     geometry  \n",
       "0  POINT (-85.36253 31.21591)  \n",
       "1  POINT (-86.16006 34.22140)  \n",
       "2  POINT (-87.65095 34.80439)  \n",
       "3  POINT (-86.25417 31.29198)  \n",
       "4  POINT (-86.26472 31.69361)  "
      ]
     },
     "execution_count": 13,
     "metadata": {},
     "output_type": "execute_result"
    }
   ],
   "source": [
    "hcris_hospital_beds_gdf.head()"
   ]
  },
  {
   "cell_type": "markdown",
   "metadata": {},
   "source": [
    "#### There may not be one-to-one matches\n",
    "There are 6,661 facilities in HCRIS data, and 7,581 facilities in HIFLD data. Even if there are more entries in the latter, we cannot guarantee that all 6,661 records from the former will have matches as a result of spatial join."
   ]
  },
  {
   "cell_type": "code",
   "execution_count": 14,
   "metadata": {},
   "outputs": [
    {
     "name": "stdout",
     "output_type": "stream",
     "text": [
      "hcris_hospital_beds_gdf 6661\n",
      "hifld_gdf 7581\n"
     ]
    }
   ],
   "source": [
    "print(\"hcris_hospital_beds_gdf\", len(hcris_hospital_beds_gdf))\n",
    "print(\"hifld_gdf\", len(hifld_gdf))"
   ]
  },
  {
   "cell_type": "markdown",
   "metadata": {},
   "source": [
    "#### Reproject to Web Mecator to prepare for further spatial calculations"
   ]
  },
  {
   "cell_type": "code",
   "execution_count": 15,
   "metadata": {},
   "outputs": [],
   "source": [
    "hcris_hospital_beds_gdf = hcris_hospital_beds_gdf.to_crs('EPSG:3857')"
   ]
  },
  {
   "cell_type": "markdown",
   "metadata": {},
   "source": [
    "Create 150-meter (Web Mecator's unit is meter) buffer for all points in HCRIS facilities"
   ]
  },
  {
   "cell_type": "code",
   "execution_count": 16,
   "metadata": {},
   "outputs": [],
   "source": [
    "hcris_hospital_beds_gdf['geom_buffered'] = hcris_hospital_beds_gdf.geometry.buffer(150)"
   ]
  },
  {
   "cell_type": "markdown",
   "metadata": {},
   "source": [
    "#### Create a copy of the data and add an ID column, which will be used later on when deduplicating."
   ]
  },
  {
   "cell_type": "code",
   "execution_count": 74,
   "metadata": {},
   "outputs": [],
   "source": [
    "hcris_hospital_beds_gdf_copy = hcris_hospital_beds_gdf.copy()"
   ]
  },
  {
   "cell_type": "code",
   "execution_count": 18,
   "metadata": {},
   "outputs": [],
   "source": [
    "hcris_hospital_beds_gdf_copy.insert(0, 'ID', range(0, len(hcris_hospital_beds_gdf_copy)))"
   ]
  },
  {
   "cell_type": "markdown",
   "metadata": {},
   "source": [
    "#### Save the current point geometries to a `point_geometry` column, and set each record's geometry as the buffered polygon from `geom_buffered` field"
   ]
  },
  {
   "cell_type": "code",
   "execution_count": 19,
   "metadata": {},
   "outputs": [],
   "source": [
    "hcris_hospital_beds_gdf_copy['point_geometry'] = hcris_hospital_beds_gdf_copy.geometry"
   ]
  },
  {
   "cell_type": "code",
   "execution_count": 20,
   "metadata": {},
   "outputs": [],
   "source": [
    "hcris_hospital_beds_gdf_copy['geometry'] = hcris_hospital_beds_gdf_copy['geom_buffered']"
   ]
  },
  {
   "cell_type": "code",
   "execution_count": 21,
   "metadata": {},
   "outputs": [],
   "source": [
    "hcris_hospital_beds_gdf_copy = hcris_hospital_beds_gdf_copy.set_geometry('geometry')"
   ]
  },
  {
   "cell_type": "markdown",
   "metadata": {},
   "source": [
    "## Join data spatially\n",
    "\n",
    "#### Perform spatial join to merge the HIFLD data (points) to the HCRIS data (buffered polygons)"
   ]
  },
  {
   "cell_type": "code",
   "execution_count": 22,
   "metadata": {},
   "outputs": [],
   "source": [
    "joined = gpd.sjoin(hcris_hospital_beds_gdf_copy, hifld_gdf, how='left', op='intersects')"
   ]
  },
  {
   "cell_type": "markdown",
   "metadata": {},
   "source": [
    "#### There are duplicates after join\n",
    "The result has 7,119 entries, which contains duplicates, since the HCRIS data only has 6,661 recorded facilities."
   ]
  },
  {
   "cell_type": "code",
   "execution_count": 23,
   "metadata": {},
   "outputs": [
    {
     "data": {
      "text/plain": [
       "7119"
      ]
     },
     "execution_count": 23,
     "metadata": {},
     "output_type": "execute_result"
    }
   ],
   "source": [
    "len(joined)"
   ]
  },
  {
   "cell_type": "markdown",
   "metadata": {},
   "source": [
    "For exmaple, the first record in HCRIS has duplicated joined results"
   ]
  },
  {
   "cell_type": "code",
   "execution_count": 24,
   "metadata": {},
   "outputs": [
    {
     "data": {
      "text/html": [
       "<div>\n",
       "<style scoped>\n",
       "    .dataframe tbody tr th:only-of-type {\n",
       "        vertical-align: middle;\n",
       "    }\n",
       "\n",
       "    .dataframe tbody tr th {\n",
       "        vertical-align: top;\n",
       "    }\n",
       "\n",
       "    .dataframe thead th {\n",
       "        text-align: right;\n",
       "    }\n",
       "</style>\n",
       "<table border=\"1\" class=\"dataframe\">\n",
       "  <thead>\n",
       "    <tr style=\"text-align: right;\">\n",
       "      <th></th>\n",
       "      <th>ID</th>\n",
       "      <th>PROVIDER_NUMBER</th>\n",
       "      <th>FYB</th>\n",
       "      <th>FYE</th>\n",
       "      <th>STATUS</th>\n",
       "      <th>CTRL_TYPE</th>\n",
       "      <th>HOSP10_Name</th>\n",
       "      <th>Street_Addr</th>\n",
       "      <th>PO_Box</th>\n",
       "      <th>City</th>\n",
       "      <th>State</th>\n",
       "      <th>Zip_Code</th>\n",
       "      <th>County</th>\n",
       "      <th>Hospital Adult and Peds Beds</th>\n",
       "      <th>Intensive Care Unit Beds</th>\n",
       "      <th>Coronary Care Unit Beds</th>\n",
       "      <th>Burn ICU Beds</th>\n",
       "      <th>Surgical ICU Beds</th>\n",
       "      <th>Total Beds</th>\n",
       "      <th>Hospital Adult and Peds Bed Days Available</th>\n",
       "      <th>Intensive Care Unit Bed Days Available</th>\n",
       "      <th>Coronary Care Unit Bed Days Available</th>\n",
       "      <th>Burn ICU Bed Days Available</th>\n",
       "      <th>Surgical ICU Bed Days Available</th>\n",
       "      <th>Total Bed Days Available</th>\n",
       "      <th>Hospital Adult and Peds Inpt Days</th>\n",
       "      <th>Intensive Care Unit Inpt Days</th>\n",
       "      <th>Coronary Care Unit Inpt Days</th>\n",
       "      <th>Burn ICU Inpt Days</th>\n",
       "      <th>Surgical ICU Inpt Days</th>\n",
       "      <th>Total Inpt Days</th>\n",
       "      <th>ICU Total Beds</th>\n",
       "      <th>ICU Total Bed Days Available</th>\n",
       "      <th>ICU Total Inpt Days</th>\n",
       "      <th>ICU Occupancy Rate</th>\n",
       "      <th>Total Bed Occupancy Rate</th>\n",
       "      <th>geometry</th>\n",
       "      <th>geom_buffered</th>\n",
       "      <th>point_geometry</th>\n",
       "      <th>index_right</th>\n",
       "      <th>hifld_X</th>\n",
       "      <th>hifld_Y</th>\n",
       "      <th>hifld_OBJECTID</th>\n",
       "      <th>hifld_ID</th>\n",
       "      <th>hifld_NAME</th>\n",
       "      <th>hifld_ADDRESS</th>\n",
       "      <th>hifld_CITY</th>\n",
       "      <th>hifld_STATE</th>\n",
       "      <th>hifld_ZIP</th>\n",
       "      <th>hifld_ZIP4</th>\n",
       "      <th>hifld_TELEPHONE</th>\n",
       "      <th>hifld_TYPE</th>\n",
       "      <th>hifld_STATUS</th>\n",
       "      <th>hifld_POPULATION</th>\n",
       "      <th>hifld_COUNTY</th>\n",
       "      <th>hifld_COUNTYFIPS</th>\n",
       "      <th>hifld_COUNTRY</th>\n",
       "      <th>hifld_LATITUDE</th>\n",
       "      <th>hifld_LONGITUDE</th>\n",
       "      <th>hifld_NAICS_CODE</th>\n",
       "      <th>hifld_NAICS_DESC</th>\n",
       "      <th>hifld_SOURCE</th>\n",
       "      <th>hifld_SOURCEDATE</th>\n",
       "      <th>hifld_VAL_METHOD</th>\n",
       "      <th>hifld_VAL_DATE</th>\n",
       "      <th>hifld_WEBSITE</th>\n",
       "      <th>hifld_STATE_ID</th>\n",
       "      <th>hifld_ALT_NAME</th>\n",
       "      <th>hifld_ST_FIPS</th>\n",
       "      <th>hifld_OWNER</th>\n",
       "      <th>hifld_TTL_STAFF</th>\n",
       "      <th>hifld_BEDS</th>\n",
       "      <th>hifld_TRAUMA</th>\n",
       "      <th>hifld_HELIPAD</th>\n",
       "    </tr>\n",
       "  </thead>\n",
       "  <tbody>\n",
       "    <tr>\n",
       "      <th>0</th>\n",
       "      <td>0</td>\n",
       "      <td>010001</td>\n",
       "      <td>01-OCT-17</td>\n",
       "      <td>30-SEP-18</td>\n",
       "      <td>As Submitted</td>\n",
       "      <td>9</td>\n",
       "      <td>SOUTHEAST HEALTH MEDICAL CENTER</td>\n",
       "      <td>1108 ROSS CLARK CIRCLE</td>\n",
       "      <td>6987</td>\n",
       "      <td>DOTHAN</td>\n",
       "      <td>AL</td>\n",
       "      <td>36301</td>\n",
       "      <td>HOUSTON</td>\n",
       "      <td>271.0</td>\n",
       "      <td>40.0</td>\n",
       "      <td>0.0</td>\n",
       "      <td>0.0</td>\n",
       "      <td>0.0</td>\n",
       "      <td>327.0</td>\n",
       "      <td>98915.0</td>\n",
       "      <td>14600.0</td>\n",
       "      <td>0.0</td>\n",
       "      <td>0.0</td>\n",
       "      <td>0.0</td>\n",
       "      <td>119355.0</td>\n",
       "      <td>78031.0</td>\n",
       "      <td>11992.0</td>\n",
       "      <td>0.0</td>\n",
       "      <td>0.0</td>\n",
       "      <td>0.0</td>\n",
       "      <td>95560.0</td>\n",
       "      <td>40.0</td>\n",
       "      <td>14600.0</td>\n",
       "      <td>11992.0</td>\n",
       "      <td>0.82137</td>\n",
       "      <td>0.800637</td>\n",
       "      <td>POLYGON ((-9502363.228 3660821.247, -9502363.9...</td>\n",
       "      <td>POLYGON ((-9502363.228 3660821.247, -9502363.9...</td>\n",
       "      <td>POINT (-9502513.228 3660821.247)</td>\n",
       "      <td>2817.0</td>\n",
       "      <td>-85.362944</td>\n",
       "      <td>31.216289</td>\n",
       "      <td>4237.0</td>\n",
       "      <td>91336302.0</td>\n",
       "      <td>NOLAND HOSPITAL DOTHAN, LLC</td>\n",
       "      <td>1108 ROSS CLARK CIRCLE, 4TH FLOOR</td>\n",
       "      <td>DOTHAN</td>\n",
       "      <td>AL</td>\n",
       "      <td>36302.0</td>\n",
       "      <td>NOT AVAILABLE</td>\n",
       "      <td>(334) 699-4300</td>\n",
       "      <td>LONG TERM CARE</td>\n",
       "      <td>OPEN</td>\n",
       "      <td>38.0</td>\n",
       "      <td>HOUSTON</td>\n",
       "      <td>01069</td>\n",
       "      <td>USA</td>\n",
       "      <td>31.216289</td>\n",
       "      <td>-85.362944</td>\n",
       "      <td>622310.0</td>\n",
       "      <td>SPECIALTY (EXCEPT PSYCHIATRIC AND SUBSTANCE AB...</td>\n",
       "      <td>http://dph1.adph.state.al.us/FacilitiesDirectory</td>\n",
       "      <td>2018-08-09T00:00:00.000Z</td>\n",
       "      <td>IMAGERY/OTHER</td>\n",
       "      <td>2015-02-03T00:00:00.000Z</td>\n",
       "      <td>NOT AVAILABLE</td>\n",
       "      <td>H3506</td>\n",
       "      <td>NOT AVAILABLE</td>\n",
       "      <td>1.0</td>\n",
       "      <td>PROPRIETARY</td>\n",
       "      <td>-999.0</td>\n",
       "      <td>38.0</td>\n",
       "      <td>NOT AVAILABLE</td>\n",
       "      <td>Y</td>\n",
       "    </tr>\n",
       "    <tr>\n",
       "      <th>0</th>\n",
       "      <td>0</td>\n",
       "      <td>010001</td>\n",
       "      <td>01-OCT-17</td>\n",
       "      <td>30-SEP-18</td>\n",
       "      <td>As Submitted</td>\n",
       "      <td>9</td>\n",
       "      <td>SOUTHEAST HEALTH MEDICAL CENTER</td>\n",
       "      <td>1108 ROSS CLARK CIRCLE</td>\n",
       "      <td>6987</td>\n",
       "      <td>DOTHAN</td>\n",
       "      <td>AL</td>\n",
       "      <td>36301</td>\n",
       "      <td>HOUSTON</td>\n",
       "      <td>271.0</td>\n",
       "      <td>40.0</td>\n",
       "      <td>0.0</td>\n",
       "      <td>0.0</td>\n",
       "      <td>0.0</td>\n",
       "      <td>327.0</td>\n",
       "      <td>98915.0</td>\n",
       "      <td>14600.0</td>\n",
       "      <td>0.0</td>\n",
       "      <td>0.0</td>\n",
       "      <td>0.0</td>\n",
       "      <td>119355.0</td>\n",
       "      <td>78031.0</td>\n",
       "      <td>11992.0</td>\n",
       "      <td>0.0</td>\n",
       "      <td>0.0</td>\n",
       "      <td>0.0</td>\n",
       "      <td>95560.0</td>\n",
       "      <td>40.0</td>\n",
       "      <td>14600.0</td>\n",
       "      <td>11992.0</td>\n",
       "      <td>0.82137</td>\n",
       "      <td>0.800637</td>\n",
       "      <td>POLYGON ((-9502363.228 3660821.247, -9502363.9...</td>\n",
       "      <td>POLYGON ((-9502363.228 3660821.247, -9502363.9...</td>\n",
       "      <td>POINT (-9502513.228 3660821.247)</td>\n",
       "      <td>1495.0</td>\n",
       "      <td>-85.363631</td>\n",
       "      <td>31.216304</td>\n",
       "      <td>915.0</td>\n",
       "      <td>11036301.0</td>\n",
       "      <td>SOUTHEAST ALABAMA MEDICAL CENTER</td>\n",
       "      <td>1108 ROSS CLARK CIRCLE</td>\n",
       "      <td>DOTHAN</td>\n",
       "      <td>AL</td>\n",
       "      <td>36301.0</td>\n",
       "      <td>NOT AVAILABLE</td>\n",
       "      <td>(334) 793-8701</td>\n",
       "      <td>GENERAL ACUTE CARE</td>\n",
       "      <td>OPEN</td>\n",
       "      <td>420.0</td>\n",
       "      <td>HOUSTON</td>\n",
       "      <td>01069</td>\n",
       "      <td>USA</td>\n",
       "      <td>31.216304</td>\n",
       "      <td>-85.363631</td>\n",
       "      <td>622110.0</td>\n",
       "      <td>GENERAL MEDICAL AND SURGICAL HOSPITALS</td>\n",
       "      <td>http://dph1.adph.state.al.us/FacilitiesDirectory</td>\n",
       "      <td>2018-08-09T00:00:00.000Z</td>\n",
       "      <td>IMAGERY/OTHER</td>\n",
       "      <td>2014-02-10T00:00:00.000Z</td>\n",
       "      <td>http://www.samc.org</td>\n",
       "      <td>H3502</td>\n",
       "      <td>NOT AVAILABLE</td>\n",
       "      <td>1.0</td>\n",
       "      <td>GOVERNMENT - DISTRICT/AUTHORITY</td>\n",
       "      <td>-999.0</td>\n",
       "      <td>420.0</td>\n",
       "      <td>LEVEL II</td>\n",
       "      <td>Y</td>\n",
       "    </tr>\n",
       "  </tbody>\n",
       "</table>\n",
       "</div>"
      ],
      "text/plain": [
       "   ID PROVIDER_NUMBER        FYB        FYE        STATUS  CTRL_TYPE  \\\n",
       "0   0          010001  01-OCT-17  30-SEP-18  As Submitted          9   \n",
       "0   0          010001  01-OCT-17  30-SEP-18  As Submitted          9   \n",
       "\n",
       "                       HOSP10_Name             Street_Addr PO_Box    City  \\\n",
       "0  SOUTHEAST HEALTH MEDICAL CENTER  1108 ROSS CLARK CIRCLE   6987  DOTHAN   \n",
       "0  SOUTHEAST HEALTH MEDICAL CENTER  1108 ROSS CLARK CIRCLE   6987  DOTHAN   \n",
       "\n",
       "  State Zip_Code   County  Hospital Adult and Peds Beds  \\\n",
       "0    AL    36301  HOUSTON                         271.0   \n",
       "0    AL    36301  HOUSTON                         271.0   \n",
       "\n",
       "   Intensive Care Unit Beds  Coronary Care Unit Beds  Burn ICU Beds  \\\n",
       "0                      40.0                      0.0            0.0   \n",
       "0                      40.0                      0.0            0.0   \n",
       "\n",
       "   Surgical ICU Beds  Total Beds  Hospital Adult and Peds Bed Days Available  \\\n",
       "0                0.0       327.0                                     98915.0   \n",
       "0                0.0       327.0                                     98915.0   \n",
       "\n",
       "   Intensive Care Unit Bed Days Available  \\\n",
       "0                                 14600.0   \n",
       "0                                 14600.0   \n",
       "\n",
       "   Coronary Care Unit Bed Days Available  Burn ICU Bed Days Available  \\\n",
       "0                                    0.0                          0.0   \n",
       "0                                    0.0                          0.0   \n",
       "\n",
       "   Surgical ICU Bed Days Available  Total Bed Days Available  \\\n",
       "0                              0.0                  119355.0   \n",
       "0                              0.0                  119355.0   \n",
       "\n",
       "   Hospital Adult and Peds Inpt Days  Intensive Care Unit Inpt Days  \\\n",
       "0                            78031.0                        11992.0   \n",
       "0                            78031.0                        11992.0   \n",
       "\n",
       "   Coronary Care Unit Inpt Days  Burn ICU Inpt Days  Surgical ICU Inpt Days  \\\n",
       "0                           0.0                 0.0                     0.0   \n",
       "0                           0.0                 0.0                     0.0   \n",
       "\n",
       "   Total Inpt Days  ICU Total Beds  ICU Total Bed Days Available  \\\n",
       "0          95560.0            40.0                       14600.0   \n",
       "0          95560.0            40.0                       14600.0   \n",
       "\n",
       "   ICU Total Inpt Days  ICU Occupancy Rate  Total Bed Occupancy Rate  \\\n",
       "0              11992.0             0.82137                  0.800637   \n",
       "0              11992.0             0.82137                  0.800637   \n",
       "\n",
       "                                            geometry  \\\n",
       "0  POLYGON ((-9502363.228 3660821.247, -9502363.9...   \n",
       "0  POLYGON ((-9502363.228 3660821.247, -9502363.9...   \n",
       "\n",
       "                                       geom_buffered  \\\n",
       "0  POLYGON ((-9502363.228 3660821.247, -9502363.9...   \n",
       "0  POLYGON ((-9502363.228 3660821.247, -9502363.9...   \n",
       "\n",
       "                     point_geometry  index_right    hifld_X    hifld_Y  \\\n",
       "0  POINT (-9502513.228 3660821.247)       2817.0 -85.362944  31.216289   \n",
       "0  POINT (-9502513.228 3660821.247)       1495.0 -85.363631  31.216304   \n",
       "\n",
       "   hifld_OBJECTID    hifld_ID                        hifld_NAME  \\\n",
       "0          4237.0  91336302.0       NOLAND HOSPITAL DOTHAN, LLC   \n",
       "0           915.0  11036301.0  SOUTHEAST ALABAMA MEDICAL CENTER   \n",
       "\n",
       "                       hifld_ADDRESS hifld_CITY hifld_STATE  hifld_ZIP  \\\n",
       "0  1108 ROSS CLARK CIRCLE, 4TH FLOOR     DOTHAN          AL    36302.0   \n",
       "0             1108 ROSS CLARK CIRCLE     DOTHAN          AL    36301.0   \n",
       "\n",
       "      hifld_ZIP4 hifld_TELEPHONE          hifld_TYPE hifld_STATUS  \\\n",
       "0  NOT AVAILABLE  (334) 699-4300      LONG TERM CARE         OPEN   \n",
       "0  NOT AVAILABLE  (334) 793-8701  GENERAL ACUTE CARE         OPEN   \n",
       "\n",
       "   hifld_POPULATION hifld_COUNTY hifld_COUNTYFIPS hifld_COUNTRY  \\\n",
       "0              38.0      HOUSTON            01069           USA   \n",
       "0             420.0      HOUSTON            01069           USA   \n",
       "\n",
       "   hifld_LATITUDE  hifld_LONGITUDE  hifld_NAICS_CODE  \\\n",
       "0       31.216289       -85.362944          622310.0   \n",
       "0       31.216304       -85.363631          622110.0   \n",
       "\n",
       "                                    hifld_NAICS_DESC  \\\n",
       "0  SPECIALTY (EXCEPT PSYCHIATRIC AND SUBSTANCE AB...   \n",
       "0             GENERAL MEDICAL AND SURGICAL HOSPITALS   \n",
       "\n",
       "                                       hifld_SOURCE          hifld_SOURCEDATE  \\\n",
       "0  http://dph1.adph.state.al.us/FacilitiesDirectory  2018-08-09T00:00:00.000Z   \n",
       "0  http://dph1.adph.state.al.us/FacilitiesDirectory  2018-08-09T00:00:00.000Z   \n",
       "\n",
       "  hifld_VAL_METHOD            hifld_VAL_DATE        hifld_WEBSITE  \\\n",
       "0    IMAGERY/OTHER  2015-02-03T00:00:00.000Z        NOT AVAILABLE   \n",
       "0    IMAGERY/OTHER  2014-02-10T00:00:00.000Z  http://www.samc.org   \n",
       "\n",
       "  hifld_STATE_ID hifld_ALT_NAME  hifld_ST_FIPS  \\\n",
       "0          H3506  NOT AVAILABLE            1.0   \n",
       "0          H3502  NOT AVAILABLE            1.0   \n",
       "\n",
       "                       hifld_OWNER  hifld_TTL_STAFF  hifld_BEDS  \\\n",
       "0                      PROPRIETARY           -999.0        38.0   \n",
       "0  GOVERNMENT - DISTRICT/AUTHORITY           -999.0       420.0   \n",
       "\n",
       "    hifld_TRAUMA hifld_HELIPAD  \n",
       "0  NOT AVAILABLE             Y  \n",
       "0       LEVEL II             Y  "
      ]
     },
     "execution_count": 24,
     "metadata": {},
     "output_type": "execute_result"
    }
   ],
   "source": [
    "joined.loc[0, :]"
   ]
  },
  {
   "cell_type": "code",
   "execution_count": 26,
   "metadata": {},
   "outputs": [],
   "source": [
    "joined = joined.set_geometry('geometry')"
   ]
  },
  {
   "cell_type": "markdown",
   "metadata": {},
   "source": [
    "## Deduplicate joined data"
   ]
  },
  {
   "cell_type": "markdown",
   "metadata": {},
   "source": [
    "#### Calculate address and name similarity\n",
    "A way to deduplicate the joined result is to compare address and name similarities between HCRIS and HIFLD on top of the spatial join."
   ]
  },
  {
   "cell_type": "code",
   "execution_count": 28,
   "metadata": {},
   "outputs": [],
   "source": [
    "from difflib import SequenceMatcher\n",
    "def similar(a, b):\n",
    "    return SequenceMatcher(None, a, b).ratio()"
   ]
  },
  {
   "cell_type": "code",
   "execution_count": 29,
   "metadata": {},
   "outputs": [],
   "source": [
    "joined['name_similarity'] = joined.apply(lambda row: similar(str(row['HOSP10_Name']), str(row['hifld_NAME'])), axis = 1) "
   ]
  },
  {
   "cell_type": "code",
   "execution_count": 30,
   "metadata": {},
   "outputs": [],
   "source": [
    "joined['address_similarity'] = joined.apply(lambda row: similar(str(row['Street_Addr']), str(row['hifld_ADDRESS'])), axis = 1) "
   ]
  },
  {
   "cell_type": "markdown",
   "metadata": {},
   "source": [
    "#### Records without null data from hifld (6210)"
   ]
  },
  {
   "cell_type": "code",
   "execution_count": 33,
   "metadata": {},
   "outputs": [
    {
     "data": {
      "text/plain": [
       "6210"
      ]
     },
     "execution_count": 33,
     "metadata": {},
     "output_type": "execute_result"
    }
   ],
   "source": [
    "joined_no_null = joined[joined['index_right'].notnull()]\n",
    "len(joined_no_null)"
   ]
  },
  {
   "cell_type": "markdown",
   "metadata": {},
   "source": [
    "#### Records with null data from hifld (909). These records' licensed bed counts will be estimated by state average."
   ]
  },
  {
   "cell_type": "code",
   "execution_count": 34,
   "metadata": {},
   "outputs": [
    {
     "data": {
      "text/plain": [
       "909"
      ]
     },
     "execution_count": 34,
     "metadata": {},
     "output_type": "execute_result"
    }
   ],
   "source": [
    "joined_null = joined[joined['index_right'].isnull()]\n",
    "len(joined_null)"
   ]
  },
  {
   "cell_type": "markdown",
   "metadata": {},
   "source": [
    "#### Among the 6210 records without null data from hifld, there are 893 duplicates from hcris due to the spatial join"
   ]
  },
  {
   "cell_type": "code",
   "execution_count": 35,
   "metadata": {},
   "outputs": [],
   "source": [
    "def getDupeRecords(df, field):\n",
    "    ids = df[field]\n",
    "    return df[ids.isin(ids[ids.duplicated()])]"
   ]
  },
  {
   "cell_type": "code",
   "execution_count": 36,
   "metadata": {},
   "outputs": [
    {
     "data": {
      "text/plain": [
       "893"
      ]
     },
     "execution_count": 36,
     "metadata": {},
     "output_type": "execute_result"
    }
   ],
   "source": [
    "joined_no_null_dupe = getDupeRecords(joined_no_null, \"ID\")\n",
    "len(joined_no_null_dupe)"
   ]
  },
  {
   "cell_type": "markdown",
   "metadata": {},
   "source": [
    "#### 5,317 records are unique ones that we will use directly in the end"
   ]
  },
  {
   "cell_type": "code",
   "execution_count": 37,
   "metadata": {
    "scrolled": true
   },
   "outputs": [
    {
     "data": {
      "text/plain": [
       "5317"
      ]
     },
     "execution_count": 37,
     "metadata": {},
     "output_type": "execute_result"
    }
   ],
   "source": [
    "ids_no_null = joined_no_null['ID']\n",
    "joined_no_null_no_dupe = joined_no_null[~ids_no_null.isin(ids_no_null[ids_no_null.duplicated()])]\n",
    "len(joined_no_null_no_dupe)"
   ]
  },
  {
   "cell_type": "markdown",
   "metadata": {},
   "source": [
    "#### First, among 893 duplicates, find and keep the records with higher address matching score"
   ]
  },
  {
   "cell_type": "code",
   "execution_count": 38,
   "metadata": {},
   "outputs": [
    {
     "data": {
      "text/plain": [
       "527"
      ]
     },
     "execution_count": 38,
     "metadata": {},
     "output_type": "execute_result"
    }
   ],
   "source": [
    "address_similarity_maxes = joined_no_null_dupe.groupby(['ID']).address_similarity.transform(max)\n",
    "joined_no_null_dedupe_address = joined_no_null_dupe[(joined_no_null_dupe.address_similarity == address_similarity_maxes)]\n",
    "len(joined_no_null_dedupe_address)"
   ]
  },
  {
   "cell_type": "markdown",
   "metadata": {},
   "source": [
    "#### Then, among the above result, find and keep the records with higher naming matching score"
   ]
  },
  {
   "cell_type": "code",
   "execution_count": 39,
   "metadata": {},
   "outputs": [
    {
     "data": {
      "text/plain": [
       "435"
      ]
     },
     "execution_count": 39,
     "metadata": {},
     "output_type": "execute_result"
    }
   ],
   "source": [
    "name_similarity_maxes = joined_no_null_dedupe_address.groupby(['ID']).name_similarity.transform(max)\n",
    "joined_no_null_dedupe_address_name = joined_no_null_dedupe_address[(joined_no_null_dedupe_address.name_similarity == name_similarity_maxes)]\n",
    "len(joined_no_null_dedupe_address_name)"
   ]
  },
  {
   "cell_type": "code",
   "execution_count": 40,
   "metadata": {},
   "outputs": [],
   "source": [
    "joined_no_null_deduped = joined_no_null_no_dupe.append(joined_no_null_dedupe_address_name)"
   ]
  },
  {
   "cell_type": "markdown",
   "metadata": {},
   "source": [
    "#### For each facility calculate staffed ICU bed to licenses bed ratio to prepare for estimation of the non-matching records"
   ]
  },
  {
   "cell_type": "code",
   "execution_count": 42,
   "metadata": {},
   "outputs": [],
   "source": [
    "joined_no_null_deduped['icu_to_licensed'] = joined_no_null_deduped['ICU Total Beds'] / joined_no_null_deduped['hifld_BEDS']"
   ]
  },
  {
   "cell_type": "markdown",
   "metadata": {},
   "source": [
    "## Fill in non-matching data with estimates"
   ]
  },
  {
   "cell_type": "markdown",
   "metadata": {},
   "source": [
    "#### Mark records with `hifld_BEDS` info from spatial join as \"not by estimation flag\""
   ]
  },
  {
   "cell_type": "code",
   "execution_count": 44,
   "metadata": {},
   "outputs": [],
   "source": [
    "joined_no_null_deduped['is_hifld_BEDS_estimated'] = 0"
   ]
  },
  {
   "cell_type": "code",
   "execution_count": 45,
   "metadata": {},
   "outputs": [
    {
     "data": {
      "text/plain": [
       "5752"
      ]
     },
     "execution_count": 45,
     "metadata": {},
     "output_type": "execute_result"
    }
   ],
   "source": [
    "len(joined_no_null_deduped)"
   ]
  },
  {
   "cell_type": "markdown",
   "metadata": {},
   "source": [
    "#### Calculate average ratio of staffed ICU bed to licensed bed by state"
   ]
  },
  {
   "cell_type": "code",
   "execution_count": 47,
   "metadata": {},
   "outputs": [],
   "source": [
    "icu_to_licensed_state_avg = joined_no_null_deduped.groupby(['State'])['icu_to_licensed'].mean().reset_index()"
   ]
  },
  {
   "cell_type": "markdown",
   "metadata": {},
   "source": [
    "#### Join the state average ratio with the data frame of those non-matching records and calculate estimates"
   ]
  },
  {
   "cell_type": "code",
   "execution_count": 48,
   "metadata": {},
   "outputs": [],
   "source": [
    "joined_null_with_ratio = joined_null.merge(icu_to_licensed_state_avg, on='State')"
   ]
  },
  {
   "cell_type": "code",
   "execution_count": 52,
   "metadata": {},
   "outputs": [],
   "source": [
    "joined_null_with_ratio['hifld_BEDS'] = joined_null_with_ratio['ICU Total Beds']/joined_null_with_ratio['icu_to_licensed']"
   ]
  },
  {
   "cell_type": "code",
   "execution_count": 53,
   "metadata": {},
   "outputs": [],
   "source": [
    "joined_null_with_ratio['hifld_BEDS'] = joined_null_with_ratio['hifld_BEDS'].astype(int)"
   ]
  },
  {
   "cell_type": "markdown",
   "metadata": {},
   "source": [
    "#### Mark these records with `hifld_BEDS` info from spatial join as \"by estimation flag\""
   ]
  },
  {
   "cell_type": "code",
   "execution_count": 54,
   "metadata": {},
   "outputs": [],
   "source": [
    "joined_null_with_ratio['is_hifld_BEDS_estimated'] = 1"
   ]
  },
  {
   "cell_type": "markdown",
   "metadata": {},
   "source": [
    "#### There are some records with no state average data\n",
    "\n",
    "The resulting `hifld_BEDS` is `null`, mark them as \"not from real count and not from estimation\""
   ]
  },
  {
   "cell_type": "code",
   "execution_count": 75,
   "metadata": {},
   "outputs": [],
   "source": [
    "not_joined_with_null = joined_null[~joined_null.ID.isin(list(joined_null_with_ratio['ID']))].copy()"
   ]
  },
  {
   "cell_type": "code",
   "execution_count": 56,
   "metadata": {},
   "outputs": [],
   "source": [
    "not_joined_with_null['is_hifld_BEDS_estimated'] = 9"
   ]
  },
  {
   "cell_type": "markdown",
   "metadata": {},
   "source": [
    "#### Merge the deduplicated records, records resulted from estimations, and records without any licensed bed count info"
   ]
  },
  {
   "cell_type": "code",
   "execution_count": 57,
   "metadata": {},
   "outputs": [],
   "source": [
    "result = joined_no_null_deduped.append(joined_null_with_ratio).append(not_joined_with_null)"
   ]
  },
  {
   "cell_type": "code",
   "execution_count": 58,
   "metadata": {},
   "outputs": [],
   "source": [
    "result = result.sort_values(by=['ID'])"
   ]
  },
  {
   "cell_type": "code",
   "execution_count": 59,
   "metadata": {},
   "outputs": [],
   "source": [
    "result = result.to_crs('EPSG:4326')"
   ]
  },
  {
   "cell_type": "code",
   "execution_count": 60,
   "metadata": {},
   "outputs": [],
   "source": [
    "result['geom_buffered'] = result['geometry']"
   ]
  },
  {
   "cell_type": "code",
   "execution_count": 61,
   "metadata": {},
   "outputs": [],
   "source": [
    "result = result.to_crs('EPSG:3857')"
   ]
  },
  {
   "cell_type": "code",
   "execution_count": 62,
   "metadata": {},
   "outputs": [],
   "source": [
    "result['geometry'] = result['point_geometry']"
   ]
  },
  {
   "cell_type": "code",
   "execution_count": 63,
   "metadata": {},
   "outputs": [],
   "source": [
    "result = result.set_geometry('geometry')"
   ]
  },
  {
   "cell_type": "code",
   "execution_count": 64,
   "metadata": {},
   "outputs": [],
   "source": [
    "result = result.to_crs('EPSG:4326')"
   ]
  },
  {
   "cell_type": "code",
   "execution_count": 65,
   "metadata": {},
   "outputs": [],
   "source": [
    "result['point_geometry'] = result['geometry']"
   ]
  },
  {
   "cell_type": "code",
   "execution_count": 66,
   "metadata": {},
   "outputs": [
    {
     "data": {
      "text/plain": [
       "<matplotlib.axes._subplots.AxesSubplot at 0x7f0839d8f710>"
      ]
     },
     "execution_count": 66,
     "metadata": {},
     "output_type": "execute_result"
    },
    {
     "data": {
      "image/png": "[encoded data removed]",
      "text/plain": [
       "<Figure size 1080x720 with 1 Axes>"
      ]
     },
     "metadata": {
      "needs_background": "light"
     },
     "output_type": "display_data"
    }
   ],
   "source": [
    "result.plot(figsize=(15, 10))"
   ]
  },
  {
   "cell_type": "markdown",
   "metadata": {},
   "source": [
    "## Clean data up and export as GeoJSON"
   ]
  },
  {
   "cell_type": "markdown",
   "metadata": {},
   "source": [
    "#### Remove unwanted columns"
   ]
  },
  {
   "cell_type": "code",
   "execution_count": 69,
   "metadata": {},
   "outputs": [],
   "source": [
    "result.drop(['point_geometry', 'hifld_X', 'hifld_Y', 'geom_buffered'], axis=1, inplace=True)"
   ]
  },
  {
   "cell_type": "markdown",
   "metadata": {},
   "source": [
    "#### Make sure the schema can be parsed (by Fiona internally)"
   ]
  },
  {
   "cell_type": "code",
   "execution_count": 70,
   "metadata": {
    "scrolled": true
   },
   "outputs": [
    {
     "data": {
      "text/plain": [
       "{'geometry': 'Point',\n",
       " 'properties': OrderedDict([('ID', 'int'),\n",
       "              ('PROVIDER_NUMBER', 'str'),\n",
       "              ('FYB', 'str'),\n",
       "              ('FYE', 'str'),\n",
       "              ('STATUS', 'str'),\n",
       "              ('CTRL_TYPE', 'int'),\n",
       "              ('HOSP10_Name', 'str'),\n",
       "              ('Street_Addr', 'str'),\n",
       "              ('PO_Box', 'str'),\n",
       "              ('City', 'str'),\n",
       "              ('State', 'str'),\n",
       "              ('Zip_Code', 'str'),\n",
       "              ('County', 'str'),\n",
       "              ('Hospital Adult and Peds Beds', 'float'),\n",
       "              ('Intensive Care Unit Beds', 'float'),\n",
       "              ('Coronary Care Unit Beds', 'float'),\n",
       "              ('Burn ICU Beds', 'float'),\n",
       "              ('Surgical ICU Beds', 'float'),\n",
       "              ('Total Beds', 'float'),\n",
       "              ('Hospital Adult and Peds Bed Days Available', 'float'),\n",
       "              ('Intensive Care Unit Bed Days Available', 'float'),\n",
       "              ('Coronary Care Unit Bed Days Available', 'float'),\n",
       "              ('Burn ICU Bed Days Available', 'float'),\n",
       "              ('Surgical ICU Bed Days Available', 'float'),\n",
       "              ('Total Bed Days Available', 'float'),\n",
       "              ('Hospital Adult and Peds Inpt Days', 'float'),\n",
       "              ('Intensive Care Unit Inpt Days', 'float'),\n",
       "              ('Coronary Care Unit Inpt Days', 'float'),\n",
       "              ('Burn ICU Inpt Days', 'float'),\n",
       "              ('Surgical ICU Inpt Days', 'float'),\n",
       "              ('Total Inpt Days', 'float'),\n",
       "              ('ICU Total Beds', 'float'),\n",
       "              ('ICU Total Bed Days Available', 'float'),\n",
       "              ('ICU Total Inpt Days', 'float'),\n",
       "              ('ICU Occupancy Rate', 'float'),\n",
       "              ('Total Bed Occupancy Rate', 'float'),\n",
       "              ('index_right', 'float'),\n",
       "              ('hifld_OBJECTID', 'float'),\n",
       "              ('hifld_ID', 'float'),\n",
       "              ('hifld_NAME', 'str'),\n",
       "              ('hifld_ADDRESS', 'str'),\n",
       "              ('hifld_CITY', 'str'),\n",
       "              ('hifld_STATE', 'str'),\n",
       "              ('hifld_ZIP', 'float'),\n",
       "              ('hifld_ZIP4', 'str'),\n",
       "              ('hifld_TELEPHONE', 'str'),\n",
       "              ('hifld_TYPE', 'str'),\n",
       "              ('hifld_STATUS', 'str'),\n",
       "              ('hifld_POPULATION', 'float'),\n",
       "              ('hifld_COUNTY', 'str'),\n",
       "              ('hifld_COUNTYFIPS', 'str'),\n",
       "              ('hifld_COUNTRY', 'str'),\n",
       "              ('hifld_LATITUDE', 'float'),\n",
       "              ('hifld_LONGITUDE', 'float'),\n",
       "              ('hifld_NAICS_CODE', 'float'),\n",
       "              ('hifld_NAICS_DESC', 'str'),\n",
       "              ('hifld_SOURCE', 'str'),\n",
       "              ('hifld_SOURCEDATE', 'str'),\n",
       "              ('hifld_VAL_METHOD', 'str'),\n",
       "              ('hifld_VAL_DATE', 'str'),\n",
       "              ('hifld_WEBSITE', 'str'),\n",
       "              ('hifld_STATE_ID', 'str'),\n",
       "              ('hifld_ALT_NAME', 'str'),\n",
       "              ('hifld_ST_FIPS', 'float'),\n",
       "              ('hifld_OWNER', 'str'),\n",
       "              ('hifld_TTL_STAFF', 'float'),\n",
       "              ('hifld_BEDS', 'float'),\n",
       "              ('hifld_TRAUMA', 'str'),\n",
       "              ('hifld_HELIPAD', 'str'),\n",
       "              ('name_similarity', 'float'),\n",
       "              ('address_similarity', 'float'),\n",
       "              ('icu_to_licensed', 'float'),\n",
       "              ('is_hifld_BEDS_estimated', 'int')])}"
      ]
     },
     "execution_count": 70,
     "metadata": {},
     "output_type": "execute_result"
    }
   ],
   "source": [
    "gpd.io.file.infer_schema(result)"
   ]
  },
  {
   "cell_type": "markdown",
   "metadata": {},
   "source": [
    "#### Export data to `../data/usa_hospital_beds_hcris2018_merge_hifld.geojson`"
   ]
  },
  {
   "cell_type": "code",
   "execution_count": 73,
   "metadata": {},
   "outputs": [],
   "source": [
    "result.to_file('../data/usa_hospital_beds_hcris2018_merge_hifld.geojson', encoding='utf-8', driver='GeoJSON')"
   ]
  }
 ],
 "metadata": {
  "kernelspec": {
   "display_name": "Python 3",
   "language": "python",
   "name": "python3"
  },
  "language_info": {
   "codemirror_mode": {
    "name": "ipython",
    "version": 3
   },
   "file_extension": ".py",
   "mimetype": "text/x-python",
   "name": "python",
   "nbconvert_exporter": "python",
   "pygments_lexer": "ipython3",
   "version": "3.6.10"
  }
 },
 "nbformat": 4,
 "nbformat_minor": 4
}
