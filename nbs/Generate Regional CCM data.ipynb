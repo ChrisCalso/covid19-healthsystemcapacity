{
 "cells": [
  {
   "cell_type": "code",
   "execution_count": null,
   "metadata": {},
   "outputs": [],
   "source": [
    "from hscap.data import (read_facility_gdf, \n",
    "                        read_us_counties_gdf, \n",
    "                        read_us_states_gdf, \n",
    "                        read_us_hrr_gdf)\n",
    "from hscap.geo import (sum_per_county, \n",
    "                       sum_per_state, \n",
    "                       sum_per_hrr)"
   ]
  },
  {
   "cell_type": "markdown",
   "metadata": {},
   "source": [
    "# Generate Regional HSCAP data\n",
    "\n",
    "This rolls up count values from the facility data based on three regions: county, state, and Hospital Referral Region (HRR).\n",
    "\n",
    "Most of the work is done in the `hscap.geo` package, in the `sum_per_region` method. See that code for specifics.\n",
    "\n",
    "## Methods\n",
    "\n",
    "- Take the facility data, spatially join to regional data, and sum count properties for each region.\n",
    "- Based on population counts, create \"per 1000\" versions of each column for each of total population, adult population, and elderly population.\n",
    "- Save the three aggregated files as GeoJSON."
   ]
  },
  {
   "cell_type": "code",
   "execution_count": null,
   "metadata": {},
   "outputs": [],
   "source": [
    "facility_gdf = read_facility_gdf()"
   ]
  },
  {
   "cell_type": "code",
   "execution_count": null,
   "metadata": {},
   "outputs": [],
   "source": [
    "# By HRR\n",
    "hosp_hrr_gdf = sum_per_hrr(facility_gdf)\n",
    "hosp_hrr_gdf.to_file('../data/ccm_data_by_hrr.geojson', \n",
    "                     driver='GeoJSON')"
   ]
  },
  {
   "cell_type": "code",
   "execution_count": null,
   "metadata": {},
   "outputs": [],
   "source": [
    "# By State\n",
    "hosp_state_gdf = sum_per_state(facility_gdf)\n",
    "hosp_state_gdf.to_file('../data/ccm_data_by_state.geojson', \n",
    "                     driver='GeoJSON')"
   ]
  },
  {
   "cell_type": "code",
   "execution_count": null,
   "metadata": {},
   "outputs": [],
   "source": [
    "# By County\n",
    "hosp_county_gdf = sum_per_county(facility_gdf)\n",
    "hosp_county_gdf.to_file('../data/ccm_data_by_county.geojson', \n",
    "                     driver='GeoJSON')"
   ]
  },
  {
   "cell_type": "code",
   "execution_count": null,
   "metadata": {},
   "outputs": [],
   "source": []
  }
 ],
 "metadata": {
  "kernelspec": {
   "display_name": "Python 3",
   "language": "python",
   "name": "python3"
  },
  "language_info": {
   "codemirror_mode": {
    "name": "ipython",
    "version": 3
   },
   "file_extension": ".py",
   "mimetype": "text/x-python",
   "name": "python",
   "nbconvert_exporter": "python",
   "pygments_lexer": "ipython3",
   "version": "3.8.2"
  }
 },
 "nbformat": 4,
 "nbformat_minor": 4
}
